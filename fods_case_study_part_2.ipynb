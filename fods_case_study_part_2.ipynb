{
  "nbformat": 4,
  "nbformat_minor": 0,
  "metadata": {
    "colab": {
      "name": "fods_case_study_part-2.ipynb",
      "provenance": [],
      "collapsed_sections": [],
      "toc_visible": true,
      "include_colab_link": true
    },
    "kernelspec": {
      "name": "python3",
      "display_name": "Python 3"
    },
    "language_info": {
      "name": "python"
    }
  },
  "cells": [
    {
      "cell_type": "markdown",
      "metadata": {
        "id": "view-in-github",
        "colab_type": "text"
      },
      "source": [
        "<a href=\"https://colab.research.google.com/github/ShyamKrishna122/FODS_CASE_STUDY/blob/main/fods_case_study_part_2.ipynb\" target=\"_parent\"><img src=\"https://colab.research.google.com/assets/colab-badge.svg\" alt=\"Open In Colab\"/></a>"
      ]
    },
    {
      "cell_type": "markdown",
      "metadata": {
        "id": "hdhksiUgRDXb"
      },
      "source": [
        "# FODS CASE STUDY PART-2"
      ]
    },
    {
      "cell_type": "markdown",
      "metadata": {
        "id": "M95DeflUmAPE"
      },
      "source": [
        "## Imports"
      ]
    },
    {
      "cell_type": "code",
      "metadata": {
        "id": "8uyf3p0YTAcs"
      },
      "source": [
        "#imports\n",
        "\n",
        "import pandas as pd\n",
        "import numpy as np\n",
        "import datetime\n",
        "\n",
        "from sklearn.model_selection import train_test_split,cross_val_score,KFold,cross_val_predict\n",
        "from sklearn.preprocessing import OneHotEncoder,LabelEncoder\n",
        "from sklearn.preprocessing import StandardScaler\n",
        "\n",
        "import matplotlib.pyplot as plt\n",
        "%matplotlib inline\n",
        "\n",
        "from sklearn.linear_model import LinearRegression\n",
        "from sklearn.ensemble import RandomForestRegressor\n",
        "from sklearn.tree import DecisionTreeRegressor\n",
        "from sklearn.neighbors import KNeighborsRegressor\n",
        "from sklearn.svm import SVR\n",
        "from xgboost import XGBRegressor\n",
        "\n",
        "from sklearn.feature_selection import VarianceThreshold\n",
        "from math import sqrt\n",
        "from sklearn.metrics import mean_squared_error\n",
        "from sklearn import metrics\n",
        "\n",
        "import scipy.stats as st"
      ],
      "execution_count": null,
      "outputs": []
    },
    {
      "cell_type": "markdown",
      "metadata": {
        "id": "9DDi_FWxS6eL"
      },
      "source": [
        "## Loading Dataset"
      ]
    },
    {
      "cell_type": "code",
      "metadata": {
        "colab": {
          "base_uri": "https://localhost:8080/",
          "height": 380
        },
        "id": "31fL59ZbS5xv",
        "outputId": "e1a86558-066e-45ba-fe54-4c9ecfd9ce32"
      },
      "source": [
        "df = pd.read_csv('https://raw.githubusercontent.com/ShyamKrishna122/FODS_CASE_STUDY/main/trips.csv')\n",
        "df.head()"
      ],
      "execution_count": null,
      "outputs": [
        {
          "output_type": "execute_result",
          "data": {
            "text/html": [
              "<div>\n",
              "<style scoped>\n",
              "    .dataframe tbody tr th:only-of-type {\n",
              "        vertical-align: middle;\n",
              "    }\n",
              "\n",
              "    .dataframe tbody tr th {\n",
              "        vertical-align: top;\n",
              "    }\n",
              "\n",
              "    .dataframe thead th {\n",
              "        text-align: right;\n",
              "    }\n",
              "</style>\n",
              "<table border=\"1\" class=\"dataframe\">\n",
              "  <thead>\n",
              "    <tr style=\"text-align: right;\">\n",
              "      <th></th>\n",
              "      <th>cab_type</th>\n",
              "      <th>destination</th>\n",
              "      <th>source</th>\n",
              "      <th>id</th>\n",
              "      <th>product_id</th>\n",
              "      <th>name</th>\n",
              "      <th>distance</th>\n",
              "      <th>time_stamp</th>\n",
              "      <th>price</th>\n",
              "      <th>surge_multiplier</th>\n",
              "    </tr>\n",
              "  </thead>\n",
              "  <tbody>\n",
              "    <tr>\n",
              "      <th>0</th>\n",
              "      <td>Uber</td>\n",
              "      <td>West End</td>\n",
              "      <td>North End</td>\n",
              "      <td>009e9c53-074d-43cf-aef2-0fbc7a47ed3d</td>\n",
              "      <td>6f72dfc5-27f1-42e8-84db-ccc7a75f6969</td>\n",
              "      <td>UberXL</td>\n",
              "      <td>1.11</td>\n",
              "      <td>1543615981179</td>\n",
              "      <td>12.0</td>\n",
              "      <td>1.0</td>\n",
              "    </tr>\n",
              "    <tr>\n",
              "      <th>1</th>\n",
              "      <td>Uber</td>\n",
              "      <td>West End</td>\n",
              "      <td>North End</td>\n",
              "      <td>23f145da-f0c1-4d1f-a184-496bc003a7db</td>\n",
              "      <td>6c84fd89-3f11-4782-9b50-97c468b19529</td>\n",
              "      <td>Black</td>\n",
              "      <td>1.11</td>\n",
              "      <td>1544698211014</td>\n",
              "      <td>16.0</td>\n",
              "      <td>1.0</td>\n",
              "    </tr>\n",
              "    <tr>\n",
              "      <th>2</th>\n",
              "      <td>Uber</td>\n",
              "      <td>West End</td>\n",
              "      <td>North End</td>\n",
              "      <td>357559cb-8c58-4278-a41a-e33b2e0997a3</td>\n",
              "      <td>55c66225-fbe7-4fd5-9072-eab1ece5e23e</td>\n",
              "      <td>UberX</td>\n",
              "      <td>1.11</td>\n",
              "      <td>1544728503935</td>\n",
              "      <td>7.5</td>\n",
              "      <td>1.0</td>\n",
              "    </tr>\n",
              "    <tr>\n",
              "      <th>3</th>\n",
              "      <td>Uber</td>\n",
              "      <td>West End</td>\n",
              "      <td>North End</td>\n",
              "      <td>50ef1165-9d23-416c-a65c-18906207b295</td>\n",
              "      <td>9a0e7b09-b92b-4c41-9779-2ad22b4d779d</td>\n",
              "      <td>WAV</td>\n",
              "      <td>1.11</td>\n",
              "      <td>1545004511430</td>\n",
              "      <td>7.5</td>\n",
              "      <td>1.0</td>\n",
              "    </tr>\n",
              "    <tr>\n",
              "      <th>4</th>\n",
              "      <td>Uber</td>\n",
              "      <td>West End</td>\n",
              "      <td>North End</td>\n",
              "      <td>91c4861c-1780-42b0-bca1-bbd64a422cc3</td>\n",
              "      <td>6d318bcc-22a3-4af6-bddd-b409bfce1546</td>\n",
              "      <td>Black SUV</td>\n",
              "      <td>1.11</td>\n",
              "      <td>1544748007961</td>\n",
              "      <td>26.0</td>\n",
              "      <td>1.0</td>\n",
              "    </tr>\n",
              "  </tbody>\n",
              "</table>\n",
              "</div>"
            ],
            "text/plain": [
              "  cab_type destination     source  ...     time_stamp price surge_multiplier\n",
              "0     Uber    West End  North End  ...  1543615981179  12.0              1.0\n",
              "1     Uber    West End  North End  ...  1544698211014  16.0              1.0\n",
              "2     Uber    West End  North End  ...  1544728503935   7.5              1.0\n",
              "3     Uber    West End  North End  ...  1545004511430   7.5              1.0\n",
              "4     Uber    West End  North End  ...  1544748007961  26.0              1.0\n",
              "\n",
              "[5 rows x 10 columns]"
            ]
          },
          "metadata": {},
          "execution_count": 86
        }
      ]
    },
    {
      "cell_type": "markdown",
      "metadata": {
        "id": "fzAuA4sCRJMs"
      },
      "source": [
        "## 1) Feature Engineering"
      ]
    },
    {
      "cell_type": "markdown",
      "metadata": {
        "id": "eYBIj4tZzRa3"
      },
      "source": [
        "### 1.1) Adding meaningful columns"
      ]
    },
    {
      "cell_type": "markdown",
      "metadata": {
        "id": "CfHvMkHMOHud"
      },
      "source": [
        "\n",
        "*   We noticed that the time_stamp attribute is not in a proper format so we converted it into a proper format.\n",
        "*   We also introduced a new attribute called fare_per_mile.This value was obtained by dividing the cab price and distance covered per ride."
      ]
    },
    {
      "cell_type": "code",
      "metadata": {
        "id": "OJ9-COrTN-ZB"
      },
      "source": [
        "#convert 13digit time stamp to datetime format\n",
        "df['date_time']= pd.to_datetime(df['time_stamp']/1000, unit='s')\n",
        "df['date']= df['date_time'].dt.date\n",
        "df['day'] = df.date_time.dt.dayofweek\n",
        "df['hour'] = df.date_time.dt.hour\n",
        "#extract hours only"
      ],
      "execution_count": null,
      "outputs": []
    },
    {
      "cell_type": "code",
      "metadata": {
        "id": "vEBpf-atOv1u"
      },
      "source": [
        "#After conversion to a new column time we can delete the exisitng column\n",
        "del df['time_stamp']"
      ],
      "execution_count": null,
      "outputs": []
    },
    {
      "cell_type": "code",
      "metadata": {
        "colab": {
          "base_uri": "https://localhost:8080/",
          "height": 964
        },
        "id": "JZK45Y1lwbpG",
        "outputId": "2f0dc185-fed1-4232-8e5f-e993d3fee79f"
      },
      "source": [
        "df['fare_per_mile'] = round(df.price/df.distance,2)\n",
        "df"
      ],
      "execution_count": null,
      "outputs": [
        {
          "output_type": "execute_result",
          "data": {
            "text/html": [
              "<div>\n",
              "<style scoped>\n",
              "    .dataframe tbody tr th:only-of-type {\n",
              "        vertical-align: middle;\n",
              "    }\n",
              "\n",
              "    .dataframe tbody tr th {\n",
              "        vertical-align: top;\n",
              "    }\n",
              "\n",
              "    .dataframe thead th {\n",
              "        text-align: right;\n",
              "    }\n",
              "</style>\n",
              "<table border=\"1\" class=\"dataframe\">\n",
              "  <thead>\n",
              "    <tr style=\"text-align: right;\">\n",
              "      <th></th>\n",
              "      <th>cab_type</th>\n",
              "      <th>destination</th>\n",
              "      <th>source</th>\n",
              "      <th>id</th>\n",
              "      <th>product_id</th>\n",
              "      <th>name</th>\n",
              "      <th>distance</th>\n",
              "      <th>price</th>\n",
              "      <th>surge_multiplier</th>\n",
              "      <th>date_time</th>\n",
              "      <th>date</th>\n",
              "      <th>day</th>\n",
              "      <th>hour</th>\n",
              "      <th>fare_per_mile</th>\n",
              "    </tr>\n",
              "  </thead>\n",
              "  <tbody>\n",
              "    <tr>\n",
              "      <th>0</th>\n",
              "      <td>Uber</td>\n",
              "      <td>West End</td>\n",
              "      <td>North End</td>\n",
              "      <td>009e9c53-074d-43cf-aef2-0fbc7a47ed3d</td>\n",
              "      <td>6f72dfc5-27f1-42e8-84db-ccc7a75f6969</td>\n",
              "      <td>UberXL</td>\n",
              "      <td>1.11</td>\n",
              "      <td>12.0</td>\n",
              "      <td>1.0</td>\n",
              "      <td>2018-11-30 22:13:01.178999901</td>\n",
              "      <td>2018-11-30</td>\n",
              "      <td>4</td>\n",
              "      <td>22</td>\n",
              "      <td>10.81</td>\n",
              "    </tr>\n",
              "    <tr>\n",
              "      <th>1</th>\n",
              "      <td>Uber</td>\n",
              "      <td>West End</td>\n",
              "      <td>North End</td>\n",
              "      <td>23f145da-f0c1-4d1f-a184-496bc003a7db</td>\n",
              "      <td>6c84fd89-3f11-4782-9b50-97c468b19529</td>\n",
              "      <td>Black</td>\n",
              "      <td>1.11</td>\n",
              "      <td>16.0</td>\n",
              "      <td>1.0</td>\n",
              "      <td>2018-12-13 10:50:11.013999939</td>\n",
              "      <td>2018-12-13</td>\n",
              "      <td>3</td>\n",
              "      <td>10</td>\n",
              "      <td>14.41</td>\n",
              "    </tr>\n",
              "    <tr>\n",
              "      <th>2</th>\n",
              "      <td>Uber</td>\n",
              "      <td>West End</td>\n",
              "      <td>North End</td>\n",
              "      <td>357559cb-8c58-4278-a41a-e33b2e0997a3</td>\n",
              "      <td>55c66225-fbe7-4fd5-9072-eab1ece5e23e</td>\n",
              "      <td>UberX</td>\n",
              "      <td>1.11</td>\n",
              "      <td>7.5</td>\n",
              "      <td>1.0</td>\n",
              "      <td>2018-12-13 19:15:03.934999943</td>\n",
              "      <td>2018-12-13</td>\n",
              "      <td>3</td>\n",
              "      <td>19</td>\n",
              "      <td>6.76</td>\n",
              "    </tr>\n",
              "    <tr>\n",
              "      <th>3</th>\n",
              "      <td>Uber</td>\n",
              "      <td>West End</td>\n",
              "      <td>North End</td>\n",
              "      <td>50ef1165-9d23-416c-a65c-18906207b295</td>\n",
              "      <td>9a0e7b09-b92b-4c41-9779-2ad22b4d779d</td>\n",
              "      <td>WAV</td>\n",
              "      <td>1.11</td>\n",
              "      <td>7.5</td>\n",
              "      <td>1.0</td>\n",
              "      <td>2018-12-16 23:55:11.430000067</td>\n",
              "      <td>2018-12-16</td>\n",
              "      <td>6</td>\n",
              "      <td>23</td>\n",
              "      <td>6.76</td>\n",
              "    </tr>\n",
              "    <tr>\n",
              "      <th>4</th>\n",
              "      <td>Uber</td>\n",
              "      <td>West End</td>\n",
              "      <td>North End</td>\n",
              "      <td>91c4861c-1780-42b0-bca1-bbd64a422cc3</td>\n",
              "      <td>6d318bcc-22a3-4af6-bddd-b409bfce1546</td>\n",
              "      <td>Black SUV</td>\n",
              "      <td>1.11</td>\n",
              "      <td>26.0</td>\n",
              "      <td>1.0</td>\n",
              "      <td>2018-12-14 00:40:07.960999966</td>\n",
              "      <td>2018-12-14</td>\n",
              "      <td>4</td>\n",
              "      <td>0</td>\n",
              "      <td>23.42</td>\n",
              "    </tr>\n",
              "    <tr>\n",
              "      <th>...</th>\n",
              "      <td>...</td>\n",
              "      <td>...</td>\n",
              "      <td>...</td>\n",
              "      <td>...</td>\n",
              "      <td>...</td>\n",
              "      <td>...</td>\n",
              "      <td>...</td>\n",
              "      <td>...</td>\n",
              "      <td>...</td>\n",
              "      <td>...</td>\n",
              "      <td>...</td>\n",
              "      <td>...</td>\n",
              "      <td>...</td>\n",
              "      <td>...</td>\n",
              "    </tr>\n",
              "    <tr>\n",
              "      <th>15985</th>\n",
              "      <td>Uber</td>\n",
              "      <td>North End</td>\n",
              "      <td>Theatre District</td>\n",
              "      <td>9965d180-6adb-4522-bc93-224a711da91a</td>\n",
              "      <td>6c84fd89-3f11-4782-9b50-97c468b19529</td>\n",
              "      <td>Black</td>\n",
              "      <td>1.57</td>\n",
              "      <td>16.0</td>\n",
              "      <td>1.0</td>\n",
              "      <td>2018-12-17 08:20:04.813999891</td>\n",
              "      <td>2018-12-17</td>\n",
              "      <td>0</td>\n",
              "      <td>8</td>\n",
              "      <td>10.19</td>\n",
              "    </tr>\n",
              "    <tr>\n",
              "      <th>15986</th>\n",
              "      <td>Uber</td>\n",
              "      <td>North End</td>\n",
              "      <td>Theatre District</td>\n",
              "      <td>9a0fd4f5-aac1-4c69-b7f9-b4162678c53f</td>\n",
              "      <td>55c66225-fbe7-4fd5-9072-eab1ece5e23e</td>\n",
              "      <td>UberX</td>\n",
              "      <td>1.57</td>\n",
              "      <td>7.0</td>\n",
              "      <td>1.0</td>\n",
              "      <td>2018-12-02 22:17:59.582000017</td>\n",
              "      <td>2018-12-02</td>\n",
              "      <td>6</td>\n",
              "      <td>22</td>\n",
              "      <td>4.46</td>\n",
              "    </tr>\n",
              "    <tr>\n",
              "      <th>15987</th>\n",
              "      <td>Uber</td>\n",
              "      <td>North End</td>\n",
              "      <td>Theatre District</td>\n",
              "      <td>a906f8df-c9c6-427b-aa04-86eba591106b</td>\n",
              "      <td>8cf7e821-f0d3-49c6-8eba-e679c0ebcf6a</td>\n",
              "      <td>Taxi</td>\n",
              "      <td>1.57</td>\n",
              "      <td>NaN</td>\n",
              "      <td>1.0</td>\n",
              "      <td>2018-11-28 11:17:07.775000095</td>\n",
              "      <td>2018-11-28</td>\n",
              "      <td>2</td>\n",
              "      <td>11</td>\n",
              "      <td>NaN</td>\n",
              "    </tr>\n",
              "    <tr>\n",
              "      <th>15988</th>\n",
              "      <td>Uber</td>\n",
              "      <td>Haymarket Square</td>\n",
              "      <td>Theatre District</td>\n",
              "      <td>0a5bab4d-14ed-4bea-9095-f3a7b94e6a37</td>\n",
              "      <td>55c66225-fbe7-4fd5-9072-eab1ece5e23e</td>\n",
              "      <td>UberX</td>\n",
              "      <td>1.61</td>\n",
              "      <td>9.5</td>\n",
              "      <td>1.0</td>\n",
              "      <td>2018-12-01 14:23:04.382999897</td>\n",
              "      <td>2018-12-01</td>\n",
              "      <td>5</td>\n",
              "      <td>14</td>\n",
              "      <td>5.90</td>\n",
              "    </tr>\n",
              "    <tr>\n",
              "      <th>15989</th>\n",
              "      <td>Uber</td>\n",
              "      <td>Haymarket Square</td>\n",
              "      <td>Theatre District</td>\n",
              "      <td>655d3d75-1010-4984-80de-8eb400ba58ca</td>\n",
              "      <td>9a0e7b09-b92b-4c41-9779-2ad22b4d779d</td>\n",
              "      <td>WAV</td>\n",
              "      <td>1.61</td>\n",
              "      <td>9.5</td>\n",
              "      <td>1.0</td>\n",
              "      <td>2018-11-29 15:08:02.368999958</td>\n",
              "      <td>2018-11-29</td>\n",
              "      <td>3</td>\n",
              "      <td>15</td>\n",
              "      <td>5.90</td>\n",
              "    </tr>\n",
              "  </tbody>\n",
              "</table>\n",
              "<p>15990 rows × 14 columns</p>\n",
              "</div>"
            ],
            "text/plain": [
              "      cab_type       destination            source  ... day hour fare_per_mile\n",
              "0         Uber          West End         North End  ...   4   22         10.81\n",
              "1         Uber          West End         North End  ...   3   10         14.41\n",
              "2         Uber          West End         North End  ...   3   19          6.76\n",
              "3         Uber          West End         North End  ...   6   23          6.76\n",
              "4         Uber          West End         North End  ...   4    0         23.42\n",
              "...        ...               ...               ...  ...  ..  ...           ...\n",
              "15985     Uber         North End  Theatre District  ...   0    8         10.19\n",
              "15986     Uber         North End  Theatre District  ...   6   22          4.46\n",
              "15987     Uber         North End  Theatre District  ...   2   11           NaN\n",
              "15988     Uber  Haymarket Square  Theatre District  ...   5   14          5.90\n",
              "15989     Uber  Haymarket Square  Theatre District  ...   3   15          5.90\n",
              "\n",
              "[15990 rows x 14 columns]"
            ]
          },
          "metadata": {},
          "execution_count": 89
        }
      ]
    },
    {
      "cell_type": "markdown",
      "metadata": {
        "id": "knpA2HdzJUXK"
      },
      "source": [
        "Dropping certain columns as they are not neccessary for predictions"
      ]
    },
    {
      "cell_type": "code",
      "metadata": {
        "id": "jh7_kXN5VAzc"
      },
      "source": [
        "df = df.drop(['cab_type','id','product_id'], axis=1)"
      ],
      "execution_count": null,
      "outputs": []
    },
    {
      "cell_type": "code",
      "source": [
        "df.dtypes"
      ],
      "metadata": {
        "colab": {
          "base_uri": "https://localhost:8080/"
        },
        "id": "h8nnFGT0gRsk",
        "outputId": "1b2d27f3-075f-48cb-98e3-ed66bc2d6763"
      },
      "execution_count": null,
      "outputs": [
        {
          "output_type": "execute_result",
          "data": {
            "text/plain": [
              "destination                 object\n",
              "source                      object\n",
              "name                        object\n",
              "distance                   float64\n",
              "price                      float64\n",
              "surge_multiplier           float64\n",
              "date_time           datetime64[ns]\n",
              "date                        object\n",
              "day                          int64\n",
              "hour                         int64\n",
              "fare_per_mile              float64\n",
              "dtype: object"
            ]
          },
          "metadata": {},
          "execution_count": 91
        }
      ]
    },
    {
      "cell_type": "markdown",
      "metadata": {
        "id": "oL010xX1zeHK"
      },
      "source": [
        "### 1.2)Handling null values"
      ]
    },
    {
      "cell_type": "code",
      "metadata": {
        "colab": {
          "base_uri": "https://localhost:8080/"
        },
        "id": "p9JKY32-MoL0",
        "outputId": "e4275b54-d530-4f41-e169-5793969ac618"
      },
      "source": [
        "df.isnull().sum()"
      ],
      "execution_count": null,
      "outputs": [
        {
          "output_type": "execute_result",
          "data": {
            "text/plain": [
              "destination            0\n",
              "source                 0\n",
              "name                   0\n",
              "distance               0\n",
              "price               2292\n",
              "surge_multiplier       0\n",
              "date_time              0\n",
              "date                   0\n",
              "day                    0\n",
              "hour                   0\n",
              "fare_per_mile       2292\n",
              "dtype: int64"
            ]
          },
          "metadata": {},
          "execution_count": 92
        }
      ]
    },
    {
      "cell_type": "markdown",
      "metadata": {
        "id": "d8vkCvyPz5PF"
      },
      "source": [
        "As we can see null values are present in the column \"price\".So we will be dropping all the rows with price having null value."
      ]
    },
    {
      "cell_type": "code",
      "metadata": {
        "colab": {
          "base_uri": "https://localhost:8080/"
        },
        "id": "ybfQfBFGO-OL",
        "outputId": "93a22963-0390-4736-a0bc-d118c12ef5f6"
      },
      "source": [
        "#Dropping rows with price with null values.\n",
        "df.dropna(subset=['price'], inplace=True)\n",
        "\n",
        "df.isnull().sum()"
      ],
      "execution_count": null,
      "outputs": [
        {
          "output_type": "execute_result",
          "data": {
            "text/plain": [
              "destination         0\n",
              "source              0\n",
              "name                0\n",
              "distance            0\n",
              "price               0\n",
              "surge_multiplier    0\n",
              "date_time           0\n",
              "date                0\n",
              "day                 0\n",
              "hour                0\n",
              "fare_per_mile       0\n",
              "dtype: int64"
            ]
          },
          "metadata": {},
          "execution_count": 93
        }
      ]
    },
    {
      "cell_type": "markdown",
      "metadata": {
        "id": "By0Ah33a0S8X"
      },
      "source": [
        "### 1.3)Handling Outiers(using IQR)"
      ]
    },
    {
      "cell_type": "code",
      "metadata": {
        "colab": {
          "base_uri": "https://localhost:8080/",
          "height": 282
        },
        "id": "_RLubLY0qjAI",
        "outputId": "56545932-45aa-4796-e538-e3690867644b"
      },
      "source": [
        "df.boxplot( column =['price'], grid = False)"
      ],
      "execution_count": null,
      "outputs": [
        {
          "output_type": "execute_result",
          "data": {
            "text/plain": [
              "<matplotlib.axes._subplots.AxesSubplot at 0x7fb7edc8f350>"
            ]
          },
          "metadata": {},
          "execution_count": 94
        },
        {
          "output_type": "display_data",
          "data": {
            "image/png": "[encoded data removed]",
            "text/plain": [
              "<Figure size 432x288 with 1 Axes>"
            ]
          },
          "metadata": {
            "needs_background": "light"
          }
        }
      ]
    },
    {
      "cell_type": "markdown",
      "metadata": {
        "id": "aQEFw1hf015F"
      },
      "source": [
        "Here we will be removing all the rows with price column exxceeding the upper bound or is less than the lower bound. "
      ]
    },
    {
      "cell_type": "code",
      "metadata": {
        "colab": {
          "base_uri": "https://localhost:8080/",
          "height": 649
        },
        "id": "aK7BsbDfhk3h",
        "outputId": "2282649a-9aed-4053-8ac5-5ef035a3d71e"
      },
      "source": [
        "Q1 = np.percentile(df['price'], 25,\n",
        "                   interpolation = 'midpoint')\n",
        " \n",
        "Q3 = np.percentile(df['price'], 75,\n",
        "                   interpolation = 'midpoint')\n",
        "IQR = Q3 - Q1\n",
        "\n",
        "l_b  = np.where(df['price'] <= (Q1-1.5*IQR))\n",
        "\n",
        "print(\"Inter Quartile Range: \",IQR)\n",
        "print(\"Upper Bound: \",Q3+1.5*IQR)\n",
        "print(\"Lower Bound: \",Q1-1.5*IQR)\n",
        "\n",
        "df = df.loc[df['price'] <= (Q3+1.5*IQR)].loc[df['price'] >= (Q1-1.5*IQR)]\n",
        "\n",
        "df\n"
      ],
      "execution_count": null,
      "outputs": [
        {
          "output_type": "stream",
          "name": "stdout",
          "text": [
            "Inter Quartile Range:  11.5\n",
            "Upper Bound:  37.75\n",
            "Lower Bound:  -8.25\n"
          ]
        },
        {
          "output_type": "execute_result",
          "data": {
            "text/html": [
              "<div>\n",
              "<style scoped>\n",
              "    .dataframe tbody tr th:only-of-type {\n",
              "        vertical-align: middle;\n",
              "    }\n",
              "\n",
              "    .dataframe tbody tr th {\n",
              "        vertical-align: top;\n",
              "    }\n",
              "\n",
              "    .dataframe thead th {\n",
              "        text-align: right;\n",
              "    }\n",
              "</style>\n",
              "<table border=\"1\" class=\"dataframe\">\n",
              "  <thead>\n",
              "    <tr style=\"text-align: right;\">\n",
              "      <th></th>\n",
              "      <th>destination</th>\n",
              "      <th>source</th>\n",
              "      <th>name</th>\n",
              "      <th>distance</th>\n",
              "      <th>price</th>\n",
              "      <th>surge_multiplier</th>\n",
              "      <th>date_time</th>\n",
              "      <th>date</th>\n",
              "      <th>day</th>\n",
              "      <th>hour</th>\n",
              "      <th>fare_per_mile</th>\n",
              "    </tr>\n",
              "  </thead>\n",
              "  <tbody>\n",
              "    <tr>\n",
              "      <th>0</th>\n",
              "      <td>West End</td>\n",
              "      <td>North End</td>\n",
              "      <td>UberXL</td>\n",
              "      <td>1.11</td>\n",
              "      <td>12.0</td>\n",
              "      <td>1.0</td>\n",
              "      <td>2018-11-30 22:13:01.178999901</td>\n",
              "      <td>2018-11-30</td>\n",
              "      <td>4</td>\n",
              "      <td>22</td>\n",
              "      <td>10.81</td>\n",
              "    </tr>\n",
              "    <tr>\n",
              "      <th>1</th>\n",
              "      <td>West End</td>\n",
              "      <td>North End</td>\n",
              "      <td>Black</td>\n",
              "      <td>1.11</td>\n",
              "      <td>16.0</td>\n",
              "      <td>1.0</td>\n",
              "      <td>2018-12-13 10:50:11.013999939</td>\n",
              "      <td>2018-12-13</td>\n",
              "      <td>3</td>\n",
              "      <td>10</td>\n",
              "      <td>14.41</td>\n",
              "    </tr>\n",
              "    <tr>\n",
              "      <th>2</th>\n",
              "      <td>West End</td>\n",
              "      <td>North End</td>\n",
              "      <td>UberX</td>\n",
              "      <td>1.11</td>\n",
              "      <td>7.5</td>\n",
              "      <td>1.0</td>\n",
              "      <td>2018-12-13 19:15:03.934999943</td>\n",
              "      <td>2018-12-13</td>\n",
              "      <td>3</td>\n",
              "      <td>19</td>\n",
              "      <td>6.76</td>\n",
              "    </tr>\n",
              "    <tr>\n",
              "      <th>3</th>\n",
              "      <td>West End</td>\n",
              "      <td>North End</td>\n",
              "      <td>WAV</td>\n",
              "      <td>1.11</td>\n",
              "      <td>7.5</td>\n",
              "      <td>1.0</td>\n",
              "      <td>2018-12-16 23:55:11.430000067</td>\n",
              "      <td>2018-12-16</td>\n",
              "      <td>6</td>\n",
              "      <td>23</td>\n",
              "      <td>6.76</td>\n",
              "    </tr>\n",
              "    <tr>\n",
              "      <th>4</th>\n",
              "      <td>West End</td>\n",
              "      <td>North End</td>\n",
              "      <td>Black SUV</td>\n",
              "      <td>1.11</td>\n",
              "      <td>26.0</td>\n",
              "      <td>1.0</td>\n",
              "      <td>2018-12-14 00:40:07.960999966</td>\n",
              "      <td>2018-12-14</td>\n",
              "      <td>4</td>\n",
              "      <td>0</td>\n",
              "      <td>23.42</td>\n",
              "    </tr>\n",
              "    <tr>\n",
              "      <th>...</th>\n",
              "      <td>...</td>\n",
              "      <td>...</td>\n",
              "      <td>...</td>\n",
              "      <td>...</td>\n",
              "      <td>...</td>\n",
              "      <td>...</td>\n",
              "      <td>...</td>\n",
              "      <td>...</td>\n",
              "      <td>...</td>\n",
              "      <td>...</td>\n",
              "      <td>...</td>\n",
              "    </tr>\n",
              "    <tr>\n",
              "      <th>15984</th>\n",
              "      <td>North End</td>\n",
              "      <td>Theatre District</td>\n",
              "      <td>UberPool</td>\n",
              "      <td>1.57</td>\n",
              "      <td>7.5</td>\n",
              "      <td>1.0</td>\n",
              "      <td>2018-12-16 22:50:09.970999956</td>\n",
              "      <td>2018-12-16</td>\n",
              "      <td>6</td>\n",
              "      <td>22</td>\n",
              "      <td>4.78</td>\n",
              "    </tr>\n",
              "    <tr>\n",
              "      <th>15985</th>\n",
              "      <td>North End</td>\n",
              "      <td>Theatre District</td>\n",
              "      <td>Black</td>\n",
              "      <td>1.57</td>\n",
              "      <td>16.0</td>\n",
              "      <td>1.0</td>\n",
              "      <td>2018-12-17 08:20:04.813999891</td>\n",
              "      <td>2018-12-17</td>\n",
              "      <td>0</td>\n",
              "      <td>8</td>\n",
              "      <td>10.19</td>\n",
              "    </tr>\n",
              "    <tr>\n",
              "      <th>15986</th>\n",
              "      <td>North End</td>\n",
              "      <td>Theatre District</td>\n",
              "      <td>UberX</td>\n",
              "      <td>1.57</td>\n",
              "      <td>7.0</td>\n",
              "      <td>1.0</td>\n",
              "      <td>2018-12-02 22:17:59.582000017</td>\n",
              "      <td>2018-12-02</td>\n",
              "      <td>6</td>\n",
              "      <td>22</td>\n",
              "      <td>4.46</td>\n",
              "    </tr>\n",
              "    <tr>\n",
              "      <th>15988</th>\n",
              "      <td>Haymarket Square</td>\n",
              "      <td>Theatre District</td>\n",
              "      <td>UberX</td>\n",
              "      <td>1.61</td>\n",
              "      <td>9.5</td>\n",
              "      <td>1.0</td>\n",
              "      <td>2018-12-01 14:23:04.382999897</td>\n",
              "      <td>2018-12-01</td>\n",
              "      <td>5</td>\n",
              "      <td>14</td>\n",
              "      <td>5.90</td>\n",
              "    </tr>\n",
              "    <tr>\n",
              "      <th>15989</th>\n",
              "      <td>Haymarket Square</td>\n",
              "      <td>Theatre District</td>\n",
              "      <td>WAV</td>\n",
              "      <td>1.61</td>\n",
              "      <td>9.5</td>\n",
              "      <td>1.0</td>\n",
              "      <td>2018-11-29 15:08:02.368999958</td>\n",
              "      <td>2018-11-29</td>\n",
              "      <td>3</td>\n",
              "      <td>15</td>\n",
              "      <td>5.90</td>\n",
              "    </tr>\n",
              "  </tbody>\n",
              "</table>\n",
              "<p>13528 rows × 11 columns</p>\n",
              "</div>"
            ],
            "text/plain": [
              "            destination            source       name  ...  day  hour  fare_per_mile\n",
              "0              West End         North End     UberXL  ...    4    22          10.81\n",
              "1              West End         North End      Black  ...    3    10          14.41\n",
              "2              West End         North End      UberX  ...    3    19           6.76\n",
              "3              West End         North End        WAV  ...    6    23           6.76\n",
              "4              West End         North End  Black SUV  ...    4     0          23.42\n",
              "...                 ...               ...        ...  ...  ...   ...            ...\n",
              "15984         North End  Theatre District   UberPool  ...    6    22           4.78\n",
              "15985         North End  Theatre District      Black  ...    0     8          10.19\n",
              "15986         North End  Theatre District      UberX  ...    6    22           4.46\n",
              "15988  Haymarket Square  Theatre District      UberX  ...    5    14           5.90\n",
              "15989  Haymarket Square  Theatre District        WAV  ...    3    15           5.90\n",
              "\n",
              "[13528 rows x 11 columns]"
            ]
          },
          "metadata": {},
          "execution_count": 95
        }
      ]
    },
    {
      "cell_type": "markdown",
      "metadata": {
        "id": "TWhu0dDo2ZZi"
      },
      "source": [
        "## 2) Feature Selection"
      ]
    },
    {
      "cell_type": "markdown",
      "metadata": {
        "id": "wf97L3WP2jct"
      },
      "source": [
        "### 2.1) Checking for columns with constant values"
      ]
    },
    {
      "cell_type": "code",
      "metadata": {
        "id": "jZnbzCPEnJsI"
      },
      "source": [
        "def drop_constant_columns(dataset):\n",
        "  var_thres=VarianceThreshold(threshold=0)\n",
        "  var_thres.fit(dataset)\n",
        "  var_thres.get_support()\n",
        "  constant_columns=[column for column in dataset.columns if column not in dataset.columns[var_thres.get_support()]]\n",
        "\n",
        "  return constant_columns\n"
      ],
      "execution_count": null,
      "outputs": []
    },
    {
      "cell_type": "markdown",
      "metadata": {
        "id": "ScqcvG9Q5Axt"
      },
      "source": [
        "We can see that there is one feature which has constant value so we will remove it from our dataset."
      ]
    },
    {
      "cell_type": "code",
      "metadata": {
        "colab": {
          "base_uri": "https://localhost:8080/"
        },
        "id": "k8zNY7X5YCt6",
        "outputId": "f56783fe-ae44-4c79-fbcc-06c328fdf67f"
      },
      "source": [
        "numerical_df = df.loc[:,df.dtypes!='object']\n",
        "numerical_df1 = numerical_df.loc[:,numerical_df.dtypes!='datetime64[ns]']\n",
        "constant_columns = drop_constant_columns(numerical_df1)\n",
        "constant_columns"
      ],
      "execution_count": null,
      "outputs": [
        {
          "output_type": "execute_result",
          "data": {
            "text/plain": [
              "['surge_multiplier']"
            ]
          },
          "metadata": {},
          "execution_count": 97
        }
      ]
    },
    {
      "cell_type": "code",
      "metadata": {
        "id": "zvLKx-iysB7S"
      },
      "source": [
        "df.drop(constant_columns,axis = 1,inplace=True)"
      ],
      "execution_count": null,
      "outputs": []
    },
    {
      "cell_type": "code",
      "metadata": {
        "colab": {
          "base_uri": "https://localhost:8080/",
          "height": 597
        },
        "id": "0GsQJbP-YcH1",
        "outputId": "0ffcb1f3-920b-4482-acda-8eb950062c81"
      },
      "source": [
        "df"
      ],
      "execution_count": null,
      "outputs": [
        {
          "output_type": "execute_result",
          "data": {
            "text/html": [
              "<div>\n",
              "<style scoped>\n",
              "    .dataframe tbody tr th:only-of-type {\n",
              "        vertical-align: middle;\n",
              "    }\n",
              "\n",
              "    .dataframe tbody tr th {\n",
              "        vertical-align: top;\n",
              "    }\n",
              "\n",
              "    .dataframe thead th {\n",
              "        text-align: right;\n",
              "    }\n",
              "</style>\n",
              "<table border=\"1\" class=\"dataframe\">\n",
              "  <thead>\n",
              "    <tr style=\"text-align: right;\">\n",
              "      <th></th>\n",
              "      <th>destination</th>\n",
              "      <th>source</th>\n",
              "      <th>name</th>\n",
              "      <th>distance</th>\n",
              "      <th>price</th>\n",
              "      <th>date_time</th>\n",
              "      <th>date</th>\n",
              "      <th>day</th>\n",
              "      <th>hour</th>\n",
              "      <th>fare_per_mile</th>\n",
              "    </tr>\n",
              "  </thead>\n",
              "  <tbody>\n",
              "    <tr>\n",
              "      <th>0</th>\n",
              "      <td>West End</td>\n",
              "      <td>North End</td>\n",
              "      <td>UberXL</td>\n",
              "      <td>1.11</td>\n",
              "      <td>12.0</td>\n",
              "      <td>2018-11-30 22:13:01.178999901</td>\n",
              "      <td>2018-11-30</td>\n",
              "      <td>4</td>\n",
              "      <td>22</td>\n",
              "      <td>10.81</td>\n",
              "    </tr>\n",
              "    <tr>\n",
              "      <th>1</th>\n",
              "      <td>West End</td>\n",
              "      <td>North End</td>\n",
              "      <td>Black</td>\n",
              "      <td>1.11</td>\n",
              "      <td>16.0</td>\n",
              "      <td>2018-12-13 10:50:11.013999939</td>\n",
              "      <td>2018-12-13</td>\n",
              "      <td>3</td>\n",
              "      <td>10</td>\n",
              "      <td>14.41</td>\n",
              "    </tr>\n",
              "    <tr>\n",
              "      <th>2</th>\n",
              "      <td>West End</td>\n",
              "      <td>North End</td>\n",
              "      <td>UberX</td>\n",
              "      <td>1.11</td>\n",
              "      <td>7.5</td>\n",
              "      <td>2018-12-13 19:15:03.934999943</td>\n",
              "      <td>2018-12-13</td>\n",
              "      <td>3</td>\n",
              "      <td>19</td>\n",
              "      <td>6.76</td>\n",
              "    </tr>\n",
              "    <tr>\n",
              "      <th>3</th>\n",
              "      <td>West End</td>\n",
              "      <td>North End</td>\n",
              "      <td>WAV</td>\n",
              "      <td>1.11</td>\n",
              "      <td>7.5</td>\n",
              "      <td>2018-12-16 23:55:11.430000067</td>\n",
              "      <td>2018-12-16</td>\n",
              "      <td>6</td>\n",
              "      <td>23</td>\n",
              "      <td>6.76</td>\n",
              "    </tr>\n",
              "    <tr>\n",
              "      <th>4</th>\n",
              "      <td>West End</td>\n",
              "      <td>North End</td>\n",
              "      <td>Black SUV</td>\n",
              "      <td>1.11</td>\n",
              "      <td>26.0</td>\n",
              "      <td>2018-12-14 00:40:07.960999966</td>\n",
              "      <td>2018-12-14</td>\n",
              "      <td>4</td>\n",
              "      <td>0</td>\n",
              "      <td>23.42</td>\n",
              "    </tr>\n",
              "    <tr>\n",
              "      <th>...</th>\n",
              "      <td>...</td>\n",
              "      <td>...</td>\n",
              "      <td>...</td>\n",
              "      <td>...</td>\n",
              "      <td>...</td>\n",
              "      <td>...</td>\n",
              "      <td>...</td>\n",
              "      <td>...</td>\n",
              "      <td>...</td>\n",
              "      <td>...</td>\n",
              "    </tr>\n",
              "    <tr>\n",
              "      <th>15984</th>\n",
              "      <td>North End</td>\n",
              "      <td>Theatre District</td>\n",
              "      <td>UberPool</td>\n",
              "      <td>1.57</td>\n",
              "      <td>7.5</td>\n",
              "      <td>2018-12-16 22:50:09.970999956</td>\n",
              "      <td>2018-12-16</td>\n",
              "      <td>6</td>\n",
              "      <td>22</td>\n",
              "      <td>4.78</td>\n",
              "    </tr>\n",
              "    <tr>\n",
              "      <th>15985</th>\n",
              "      <td>North End</td>\n",
              "      <td>Theatre District</td>\n",
              "      <td>Black</td>\n",
              "      <td>1.57</td>\n",
              "      <td>16.0</td>\n",
              "      <td>2018-12-17 08:20:04.813999891</td>\n",
              "      <td>2018-12-17</td>\n",
              "      <td>0</td>\n",
              "      <td>8</td>\n",
              "      <td>10.19</td>\n",
              "    </tr>\n",
              "    <tr>\n",
              "      <th>15986</th>\n",
              "      <td>North End</td>\n",
              "      <td>Theatre District</td>\n",
              "      <td>UberX</td>\n",
              "      <td>1.57</td>\n",
              "      <td>7.0</td>\n",
              "      <td>2018-12-02 22:17:59.582000017</td>\n",
              "      <td>2018-12-02</td>\n",
              "      <td>6</td>\n",
              "      <td>22</td>\n",
              "      <td>4.46</td>\n",
              "    </tr>\n",
              "    <tr>\n",
              "      <th>15988</th>\n",
              "      <td>Haymarket Square</td>\n",
              "      <td>Theatre District</td>\n",
              "      <td>UberX</td>\n",
              "      <td>1.61</td>\n",
              "      <td>9.5</td>\n",
              "      <td>2018-12-01 14:23:04.382999897</td>\n",
              "      <td>2018-12-01</td>\n",
              "      <td>5</td>\n",
              "      <td>14</td>\n",
              "      <td>5.90</td>\n",
              "    </tr>\n",
              "    <tr>\n",
              "      <th>15989</th>\n",
              "      <td>Haymarket Square</td>\n",
              "      <td>Theatre District</td>\n",
              "      <td>WAV</td>\n",
              "      <td>1.61</td>\n",
              "      <td>9.5</td>\n",
              "      <td>2018-11-29 15:08:02.368999958</td>\n",
              "      <td>2018-11-29</td>\n",
              "      <td>3</td>\n",
              "      <td>15</td>\n",
              "      <td>5.90</td>\n",
              "    </tr>\n",
              "  </tbody>\n",
              "</table>\n",
              "<p>13528 rows × 10 columns</p>\n",
              "</div>"
            ],
            "text/plain": [
              "            destination            source       name  ...  day  hour fare_per_mile\n",
              "0              West End         North End     UberXL  ...    4    22         10.81\n",
              "1              West End         North End      Black  ...    3    10         14.41\n",
              "2              West End         North End      UberX  ...    3    19          6.76\n",
              "3              West End         North End        WAV  ...    6    23          6.76\n",
              "4              West End         North End  Black SUV  ...    4     0         23.42\n",
              "...                 ...               ...        ...  ...  ...   ...           ...\n",
              "15984         North End  Theatre District   UberPool  ...    6    22          4.78\n",
              "15985         North End  Theatre District      Black  ...    0     8         10.19\n",
              "15986         North End  Theatre District      UberX  ...    6    22          4.46\n",
              "15988  Haymarket Square  Theatre District      UberX  ...    5    14          5.90\n",
              "15989  Haymarket Square  Theatre District        WAV  ...    3    15          5.90\n",
              "\n",
              "[13528 rows x 10 columns]"
            ]
          },
          "metadata": {},
          "execution_count": 99
        }
      ]
    },
    {
      "cell_type": "markdown",
      "metadata": {
        "id": "k8LI-YpO2_7k"
      },
      "source": [
        "### 2.2)Correlation Matrix Heatmap"
      ]
    },
    {
      "cell_type": "markdown",
      "metadata": {
        "id": "pY6k3_Nc3LLh"
      },
      "source": [
        "*   Correlation shows how the features are related to each other or the target feature.\n",
        "*   Correlation can be positive (an increase in one value of the feature increases the value of the target variable) or negative (an increase in one value of the feature decreases the value of the target variable).\n",
        "*  If we find out that there are some features in your dataset that are correlated to each other, it means that they convey the same information. It is recommended to remove one of them.\n",
        "\n",
        "\n",
        "\n"
      ]
    },
    {
      "cell_type": "code",
      "metadata": {
        "colab": {
          "base_uri": "https://localhost:8080/",
          "height": 175
        },
        "id": "QQ3BI5bw3F58",
        "outputId": "5de842f3-5a27-4dd6-c91d-cf34ab3a35a2"
      },
      "source": [
        "df.loc[:, df.columns != 'price'].corr()"
      ],
      "execution_count": null,
      "outputs": [
        {
          "output_type": "execute_result",
          "data": {
            "text/html": [
              "<div>\n",
              "<style scoped>\n",
              "    .dataframe tbody tr th:only-of-type {\n",
              "        vertical-align: middle;\n",
              "    }\n",
              "\n",
              "    .dataframe tbody tr th {\n",
              "        vertical-align: top;\n",
              "    }\n",
              "\n",
              "    .dataframe thead th {\n",
              "        text-align: right;\n",
              "    }\n",
              "</style>\n",
              "<table border=\"1\" class=\"dataframe\">\n",
              "  <thead>\n",
              "    <tr style=\"text-align: right;\">\n",
              "      <th></th>\n",
              "      <th>distance</th>\n",
              "      <th>day</th>\n",
              "      <th>hour</th>\n",
              "      <th>fare_per_mile</th>\n",
              "    </tr>\n",
              "  </thead>\n",
              "  <tbody>\n",
              "    <tr>\n",
              "      <th>distance</th>\n",
              "      <td>1.000000</td>\n",
              "      <td>-0.015437</td>\n",
              "      <td>0.004119</td>\n",
              "      <td>-0.245187</td>\n",
              "    </tr>\n",
              "    <tr>\n",
              "      <th>day</th>\n",
              "      <td>-0.015437</td>\n",
              "      <td>1.000000</td>\n",
              "      <td>-0.013248</td>\n",
              "      <td>-0.004483</td>\n",
              "    </tr>\n",
              "    <tr>\n",
              "      <th>hour</th>\n",
              "      <td>0.004119</td>\n",
              "      <td>-0.013248</td>\n",
              "      <td>1.000000</td>\n",
              "      <td>0.009862</td>\n",
              "    </tr>\n",
              "    <tr>\n",
              "      <th>fare_per_mile</th>\n",
              "      <td>-0.245187</td>\n",
              "      <td>-0.004483</td>\n",
              "      <td>0.009862</td>\n",
              "      <td>1.000000</td>\n",
              "    </tr>\n",
              "  </tbody>\n",
              "</table>\n",
              "</div>"
            ],
            "text/plain": [
              "               distance       day      hour  fare_per_mile\n",
              "distance       1.000000 -0.015437  0.004119      -0.245187\n",
              "day           -0.015437  1.000000 -0.013248      -0.004483\n",
              "hour           0.004119 -0.013248  1.000000       0.009862\n",
              "fare_per_mile -0.245187 -0.004483  0.009862       1.000000"
            ]
          },
          "metadata": {},
          "execution_count": 100
        }
      ]
    },
    {
      "cell_type": "code",
      "metadata": {
        "colab": {
          "base_uri": "https://localhost:8080/",
          "height": 592
        },
        "id": "yuX_YpWExWKA",
        "outputId": "bebcb6e5-14d3-4a30-b49c-9e7cbc6de808"
      },
      "source": [
        "import seaborn as sns\n",
        "#Using Pearson Correlation\n",
        "plt.figure(figsize=(12,10))\n",
        "cor = df.loc[:, df.columns != 'price'].corr()\n",
        "sns.heatmap(cor,vmax=1,square=True, annot=True,cmap='cubehelix')\n",
        "plt.show()\n"
      ],
      "execution_count": null,
      "outputs": [
        {
          "output_type": "display_data",
          "data": {
            "image/png": "[encoded data removed]",
            "text/plain": [
              "<Figure size 864x720 with 2 Axes>"
            ]
          },
          "metadata": {
            "needs_background": "light"
          }
        }
      ]
    },
    {
      "cell_type": "markdown",
      "metadata": {
        "id": "1jh98euO4Vj4"
      },
      "source": [
        "**Removing highly correlated features**"
      ]
    },
    {
      "cell_type": "code",
      "metadata": {
        "id": "wid5dm5Khh3G"
      },
      "source": [
        "# with the following function we can select highly correlated features\n",
        "# it will remove the first feature that is correlated with any other feature\n",
        "\n",
        "def correlation(dataset, threshold):\n",
        "    col_corr = set()  # Set of all the names of correlated columns\n",
        "    corr_matrix = dataset.corr()\n",
        "    for i in range(len(corr_matrix.columns)):\n",
        "        for j in range(i):\n",
        "            if abs(corr_matrix.iloc[i, j]) > threshold: # we are interested in absolute coeff value\n",
        "                colname = corr_matrix.columns[i]  # getting the name of column\n",
        "                col_corr.add(colname)\n",
        "    return col_corr"
      ],
      "execution_count": null,
      "outputs": []
    },
    {
      "cell_type": "markdown",
      "metadata": {
        "id": "OouC3HGV4nF4"
      },
      "source": [
        "We can see that there is no features which are highly correlated with each other.So, there is no need to remove any numerical feature from our dataset."
      ]
    },
    {
      "cell_type": "code",
      "metadata": {
        "colab": {
          "base_uri": "https://localhost:8080/"
        },
        "id": "jP0mzEut0CpU",
        "outputId": "51cc9429-ed4b-4c3d-a467-d3cde051edde"
      },
      "source": [
        "corr_features = correlation(df.loc[:, df.columns != 'price'], 0.7)\n",
        "len(set(corr_features))"
      ],
      "execution_count": null,
      "outputs": [
        {
          "output_type": "execute_result",
          "data": {
            "text/plain": [
              "0"
            ]
          },
          "metadata": {},
          "execution_count": 103
        }
      ]
    },
    {
      "cell_type": "code",
      "metadata": {
        "colab": {
          "base_uri": "https://localhost:8080/"
        },
        "id": "Y7PU83mI0JPi",
        "outputId": "52221cd1-d4cc-4650-e592-c7d7d4161b98"
      },
      "source": [
        "corr_features"
      ],
      "execution_count": null,
      "outputs": [
        {
          "output_type": "execute_result",
          "data": {
            "text/plain": [
              "set()"
            ]
          },
          "metadata": {},
          "execution_count": 104
        }
      ]
    },
    {
      "cell_type": "code",
      "metadata": {
        "colab": {
          "base_uri": "https://localhost:8080/",
          "height": 597
        },
        "id": "ueAzwZdy87y4",
        "outputId": "1f17d7a2-0e0f-4ad7-ceb7-58e60a9dd8b0"
      },
      "source": [
        "df"
      ],
      "execution_count": null,
      "outputs": [
        {
          "output_type": "execute_result",
          "data": {
            "text/html": [
              "<div>\n",
              "<style scoped>\n",
              "    .dataframe tbody tr th:only-of-type {\n",
              "        vertical-align: middle;\n",
              "    }\n",
              "\n",
              "    .dataframe tbody tr th {\n",
              "        vertical-align: top;\n",
              "    }\n",
              "\n",
              "    .dataframe thead th {\n",
              "        text-align: right;\n",
              "    }\n",
              "</style>\n",
              "<table border=\"1\" class=\"dataframe\">\n",
              "  <thead>\n",
              "    <tr style=\"text-align: right;\">\n",
              "      <th></th>\n",
              "      <th>destination</th>\n",
              "      <th>source</th>\n",
              "      <th>name</th>\n",
              "      <th>distance</th>\n",
              "      <th>price</th>\n",
              "      <th>date_time</th>\n",
              "      <th>date</th>\n",
              "      <th>day</th>\n",
              "      <th>hour</th>\n",
              "      <th>fare_per_mile</th>\n",
              "    </tr>\n",
              "  </thead>\n",
              "  <tbody>\n",
              "    <tr>\n",
              "      <th>0</th>\n",
              "      <td>West End</td>\n",
              "      <td>North End</td>\n",
              "      <td>UberXL</td>\n",
              "      <td>1.11</td>\n",
              "      <td>12.0</td>\n",
              "      <td>2018-11-30 22:13:01.178999901</td>\n",
              "      <td>2018-11-30</td>\n",
              "      <td>4</td>\n",
              "      <td>22</td>\n",
              "      <td>10.81</td>\n",
              "    </tr>\n",
              "    <tr>\n",
              "      <th>1</th>\n",
              "      <td>West End</td>\n",
              "      <td>North End</td>\n",
              "      <td>Black</td>\n",
              "      <td>1.11</td>\n",
              "      <td>16.0</td>\n",
              "      <td>2018-12-13 10:50:11.013999939</td>\n",
              "      <td>2018-12-13</td>\n",
              "      <td>3</td>\n",
              "      <td>10</td>\n",
              "      <td>14.41</td>\n",
              "    </tr>\n",
              "    <tr>\n",
              "      <th>2</th>\n",
              "      <td>West End</td>\n",
              "      <td>North End</td>\n",
              "      <td>UberX</td>\n",
              "      <td>1.11</td>\n",
              "      <td>7.5</td>\n",
              "      <td>2018-12-13 19:15:03.934999943</td>\n",
              "      <td>2018-12-13</td>\n",
              "      <td>3</td>\n",
              "      <td>19</td>\n",
              "      <td>6.76</td>\n",
              "    </tr>\n",
              "    <tr>\n",
              "      <th>3</th>\n",
              "      <td>West End</td>\n",
              "      <td>North End</td>\n",
              "      <td>WAV</td>\n",
              "      <td>1.11</td>\n",
              "      <td>7.5</td>\n",
              "      <td>2018-12-16 23:55:11.430000067</td>\n",
              "      <td>2018-12-16</td>\n",
              "      <td>6</td>\n",
              "      <td>23</td>\n",
              "      <td>6.76</td>\n",
              "    </tr>\n",
              "    <tr>\n",
              "      <th>4</th>\n",
              "      <td>West End</td>\n",
              "      <td>North End</td>\n",
              "      <td>Black SUV</td>\n",
              "      <td>1.11</td>\n",
              "      <td>26.0</td>\n",
              "      <td>2018-12-14 00:40:07.960999966</td>\n",
              "      <td>2018-12-14</td>\n",
              "      <td>4</td>\n",
              "      <td>0</td>\n",
              "      <td>23.42</td>\n",
              "    </tr>\n",
              "    <tr>\n",
              "      <th>...</th>\n",
              "      <td>...</td>\n",
              "      <td>...</td>\n",
              "      <td>...</td>\n",
              "      <td>...</td>\n",
              "      <td>...</td>\n",
              "      <td>...</td>\n",
              "      <td>...</td>\n",
              "      <td>...</td>\n",
              "      <td>...</td>\n",
              "      <td>...</td>\n",
              "    </tr>\n",
              "    <tr>\n",
              "      <th>15984</th>\n",
              "      <td>North End</td>\n",
              "      <td>Theatre District</td>\n",
              "      <td>UberPool</td>\n",
              "      <td>1.57</td>\n",
              "      <td>7.5</td>\n",
              "      <td>2018-12-16 22:50:09.970999956</td>\n",
              "      <td>2018-12-16</td>\n",
              "      <td>6</td>\n",
              "      <td>22</td>\n",
              "      <td>4.78</td>\n",
              "    </tr>\n",
              "    <tr>\n",
              "      <th>15985</th>\n",
              "      <td>North End</td>\n",
              "      <td>Theatre District</td>\n",
              "      <td>Black</td>\n",
              "      <td>1.57</td>\n",
              "      <td>16.0</td>\n",
              "      <td>2018-12-17 08:20:04.813999891</td>\n",
              "      <td>2018-12-17</td>\n",
              "      <td>0</td>\n",
              "      <td>8</td>\n",
              "      <td>10.19</td>\n",
              "    </tr>\n",
              "    <tr>\n",
              "      <th>15986</th>\n",
              "      <td>North End</td>\n",
              "      <td>Theatre District</td>\n",
              "      <td>UberX</td>\n",
              "      <td>1.57</td>\n",
              "      <td>7.0</td>\n",
              "      <td>2018-12-02 22:17:59.582000017</td>\n",
              "      <td>2018-12-02</td>\n",
              "      <td>6</td>\n",
              "      <td>22</td>\n",
              "      <td>4.46</td>\n",
              "    </tr>\n",
              "    <tr>\n",
              "      <th>15988</th>\n",
              "      <td>Haymarket Square</td>\n",
              "      <td>Theatre District</td>\n",
              "      <td>UberX</td>\n",
              "      <td>1.61</td>\n",
              "      <td>9.5</td>\n",
              "      <td>2018-12-01 14:23:04.382999897</td>\n",
              "      <td>2018-12-01</td>\n",
              "      <td>5</td>\n",
              "      <td>14</td>\n",
              "      <td>5.90</td>\n",
              "    </tr>\n",
              "    <tr>\n",
              "      <th>15989</th>\n",
              "      <td>Haymarket Square</td>\n",
              "      <td>Theatre District</td>\n",
              "      <td>WAV</td>\n",
              "      <td>1.61</td>\n",
              "      <td>9.5</td>\n",
              "      <td>2018-11-29 15:08:02.368999958</td>\n",
              "      <td>2018-11-29</td>\n",
              "      <td>3</td>\n",
              "      <td>15</td>\n",
              "      <td>5.90</td>\n",
              "    </tr>\n",
              "  </tbody>\n",
              "</table>\n",
              "<p>13528 rows × 10 columns</p>\n",
              "</div>"
            ],
            "text/plain": [
              "            destination            source       name  ...  day  hour fare_per_mile\n",
              "0              West End         North End     UberXL  ...    4    22         10.81\n",
              "1              West End         North End      Black  ...    3    10         14.41\n",
              "2              West End         North End      UberX  ...    3    19          6.76\n",
              "3              West End         North End        WAV  ...    6    23          6.76\n",
              "4              West End         North End  Black SUV  ...    4     0         23.42\n",
              "...                 ...               ...        ...  ...  ...   ...           ...\n",
              "15984         North End  Theatre District   UberPool  ...    6    22          4.78\n",
              "15985         North End  Theatre District      Black  ...    0     8         10.19\n",
              "15986         North End  Theatre District      UberX  ...    6    22          4.46\n",
              "15988  Haymarket Square  Theatre District      UberX  ...    5    14          5.90\n",
              "15989  Haymarket Square  Theatre District        WAV  ...    3    15          5.90\n",
              "\n",
              "[13528 rows x 10 columns]"
            ]
          },
          "metadata": {},
          "execution_count": 105
        }
      ]
    },
    {
      "cell_type": "markdown",
      "metadata": {
        "id": "zbJg6rRtDJO1"
      },
      "source": [
        "### 2.3)Mutual Information"
      ]
    },
    {
      "cell_type": "code",
      "metadata": {
        "colab": {
          "base_uri": "https://localhost:8080/"
        },
        "id": "h_l9wKmZ7zN3",
        "outputId": "77e60853-7fd5-4c6f-fa38-89b88243c95b"
      },
      "source": [
        "from sklearn.feature_selection import mutual_info_regression\n",
        "df1 = df.loc[:,'distance':]\n",
        "df2 = df1.loc[:, df1.columns != 'price']\n",
        "df3 = df2.loc[:,df2.columns!='date']\n",
        "df4 = df3.loc[:,df3.columns!='date_time']\n",
        "mutual_info=mutual_info_regression(df4,df['price'])\n",
        "mutual_info"
      ],
      "execution_count": null,
      "outputs": [
        {
          "output_type": "execute_result",
          "data": {
            "text/plain": [
              "array([0.48133838, 0.00287431, 0.00685785, 1.94457957])"
            ]
          },
          "metadata": {},
          "execution_count": 106
        }
      ]
    },
    {
      "cell_type": "code",
      "metadata": {
        "colab": {
          "base_uri": "https://localhost:8080/"
        },
        "id": "RnLFXhbq_Gvj",
        "outputId": "7d530171-5269-4dd2-e7bb-96656647235c"
      },
      "source": [
        "mutual_info=pd.Series(mutual_info)\n",
        "mutual_info.index=df4.columns\n",
        "mutual_info.sort_values(ascending=False)"
      ],
      "execution_count": null,
      "outputs": [
        {
          "output_type": "execute_result",
          "data": {
            "text/plain": [
              "fare_per_mile    1.944580\n",
              "distance         0.481338\n",
              "hour             0.006858\n",
              "day              0.002874\n",
              "dtype: float64"
            ]
          },
          "metadata": {},
          "execution_count": 107
        }
      ]
    },
    {
      "cell_type": "code",
      "metadata": {
        "colab": {
          "base_uri": "https://localhost:8080/"
        },
        "id": "vk7s8ALm_Urv",
        "outputId": "8991ef72-adb5-4366-d6d6-5edd17a3c282"
      },
      "source": [
        "from sklearn.feature_selection import SelectPercentile\n",
        "selected_top_columns = SelectPercentile(mutual_info_regression, percentile=40)\n",
        "selected_top_columns.fit(df4, df['price'])"
      ],
      "execution_count": null,
      "outputs": [
        {
          "output_type": "execute_result",
          "data": {
            "text/plain": [
              "SelectPercentile(percentile=40,\n",
              "                 score_func=<function mutual_info_regression at 0x7fb7f9399dd0>)"
            ]
          },
          "metadata": {},
          "execution_count": 108
        }
      ]
    },
    {
      "cell_type": "code",
      "metadata": {
        "colab": {
          "base_uri": "https://localhost:8080/"
        },
        "id": "uzqaHkXH_qW5",
        "outputId": "f1a4288a-4152-41e7-d242-8be745c22eee"
      },
      "source": [
        "df4.columns[selected_top_columns.get_support()]"
      ],
      "execution_count": null,
      "outputs": [
        {
          "output_type": "execute_result",
          "data": {
            "text/plain": [
              "Index(['distance', 'fare_per_mile'], dtype='object')"
            ]
          },
          "metadata": {},
          "execution_count": 109
        }
      ]
    },
    {
      "cell_type": "markdown",
      "metadata": {
        "id": "VNUe1U0-JmBa"
      },
      "source": [
        "As we can see the same car type with same travel distance have different price on different dates for the same pickup and drop location.\n",
        "\n",
        "This signnifies that date is a required feature for our modeling."
      ]
    },
    {
      "cell_type": "code",
      "metadata": {
        "colab": {
          "base_uri": "https://localhost:8080/",
          "height": 634
        },
        "id": "mOAc_ya43B__",
        "outputId": "995dac4e-7d64-4bf8-c218-5e6321c44724"
      },
      "source": [
        "df.loc[df['name'] == 'UberXL'].loc[df['distance'] == 1.79]"
      ],
      "execution_count": null,
      "outputs": [
        {
          "output_type": "execute_result",
          "data": {
            "text/html": [
              "<div>\n",
              "<style scoped>\n",
              "    .dataframe tbody tr th:only-of-type {\n",
              "        vertical-align: middle;\n",
              "    }\n",
              "\n",
              "    .dataframe tbody tr th {\n",
              "        vertical-align: top;\n",
              "    }\n",
              "\n",
              "    .dataframe thead th {\n",
              "        text-align: right;\n",
              "    }\n",
              "</style>\n",
              "<table border=\"1\" class=\"dataframe\">\n",
              "  <thead>\n",
              "    <tr style=\"text-align: right;\">\n",
              "      <th></th>\n",
              "      <th>destination</th>\n",
              "      <th>source</th>\n",
              "      <th>name</th>\n",
              "      <th>distance</th>\n",
              "      <th>price</th>\n",
              "      <th>date_time</th>\n",
              "      <th>date</th>\n",
              "      <th>day</th>\n",
              "      <th>hour</th>\n",
              "      <th>fare_per_mile</th>\n",
              "    </tr>\n",
              "  </thead>\n",
              "  <tbody>\n",
              "    <tr>\n",
              "      <th>163</th>\n",
              "      <td>Back Bay</td>\n",
              "      <td>Haymarket Square</td>\n",
              "      <td>UberXL</td>\n",
              "      <td>1.79</td>\n",
              "      <td>13.5</td>\n",
              "      <td>2018-11-28 23:41:07.920000076</td>\n",
              "      <td>2018-11-28</td>\n",
              "      <td>2</td>\n",
              "      <td>23</td>\n",
              "      <td>7.54</td>\n",
              "    </tr>\n",
              "    <tr>\n",
              "      <th>356</th>\n",
              "      <td>Beacon Hill</td>\n",
              "      <td>North End</td>\n",
              "      <td>UberXL</td>\n",
              "      <td>1.79</td>\n",
              "      <td>17.5</td>\n",
              "      <td>2018-11-26 12:41:09.571000099</td>\n",
              "      <td>2018-11-26</td>\n",
              "      <td>0</td>\n",
              "      <td>12</td>\n",
              "      <td>9.78</td>\n",
              "    </tr>\n",
              "    <tr>\n",
              "      <th>4381</th>\n",
              "      <td>Beacon Hill</td>\n",
              "      <td>North End</td>\n",
              "      <td>UberXL</td>\n",
              "      <td>1.79</td>\n",
              "      <td>16.0</td>\n",
              "      <td>2018-12-16 20:00:11.197000027</td>\n",
              "      <td>2018-12-16</td>\n",
              "      <td>6</td>\n",
              "      <td>20</td>\n",
              "      <td>8.94</td>\n",
              "    </tr>\n",
              "    <tr>\n",
              "      <th>4746</th>\n",
              "      <td>Back Bay</td>\n",
              "      <td>Haymarket Square</td>\n",
              "      <td>UberXL</td>\n",
              "      <td>1.79</td>\n",
              "      <td>19.5</td>\n",
              "      <td>2018-12-01 05:22:59.859999895</td>\n",
              "      <td>2018-12-01</td>\n",
              "      <td>5</td>\n",
              "      <td>5</td>\n",
              "      <td>10.89</td>\n",
              "    </tr>\n",
              "    <tr>\n",
              "      <th>7200</th>\n",
              "      <td>Beacon Hill</td>\n",
              "      <td>North End</td>\n",
              "      <td>UberXL</td>\n",
              "      <td>1.79</td>\n",
              "      <td>14.0</td>\n",
              "      <td>2018-11-29 04:14:08.243000031</td>\n",
              "      <td>2018-11-29</td>\n",
              "      <td>3</td>\n",
              "      <td>4</td>\n",
              "      <td>7.82</td>\n",
              "    </tr>\n",
              "    <tr>\n",
              "      <th>7729</th>\n",
              "      <td>Beacon Hill</td>\n",
              "      <td>North End</td>\n",
              "      <td>UberXL</td>\n",
              "      <td>1.79</td>\n",
              "      <td>16.0</td>\n",
              "      <td>2018-12-13 13:25:11.575999975</td>\n",
              "      <td>2018-12-13</td>\n",
              "      <td>3</td>\n",
              "      <td>13</td>\n",
              "      <td>8.94</td>\n",
              "    </tr>\n",
              "    <tr>\n",
              "      <th>7879</th>\n",
              "      <td>Beacon Hill</td>\n",
              "      <td>North End</td>\n",
              "      <td>UberXL</td>\n",
              "      <td>1.79</td>\n",
              "      <td>15.5</td>\n",
              "      <td>2018-12-16 03:35:14.029999971</td>\n",
              "      <td>2018-12-16</td>\n",
              "      <td>6</td>\n",
              "      <td>3</td>\n",
              "      <td>8.66</td>\n",
              "    </tr>\n",
              "    <tr>\n",
              "      <th>8395</th>\n",
              "      <td>Back Bay</td>\n",
              "      <td>Haymarket Square</td>\n",
              "      <td>UberXL</td>\n",
              "      <td>1.79</td>\n",
              "      <td>13.0</td>\n",
              "      <td>2018-12-01 04:38:02.130000114</td>\n",
              "      <td>2018-12-01</td>\n",
              "      <td>5</td>\n",
              "      <td>4</td>\n",
              "      <td>7.26</td>\n",
              "    </tr>\n",
              "    <tr>\n",
              "      <th>11898</th>\n",
              "      <td>Beacon Hill</td>\n",
              "      <td>North End</td>\n",
              "      <td>UberXL</td>\n",
              "      <td>1.79</td>\n",
              "      <td>15.0</td>\n",
              "      <td>2018-12-14 00:05:05.526000023</td>\n",
              "      <td>2018-12-14</td>\n",
              "      <td>4</td>\n",
              "      <td>0</td>\n",
              "      <td>8.38</td>\n",
              "    </tr>\n",
              "    <tr>\n",
              "      <th>12657</th>\n",
              "      <td>Beacon Hill</td>\n",
              "      <td>North End</td>\n",
              "      <td>UberXL</td>\n",
              "      <td>1.79</td>\n",
              "      <td>15.5</td>\n",
              "      <td>2018-11-28 22:44:08.035000086</td>\n",
              "      <td>2018-11-28</td>\n",
              "      <td>2</td>\n",
              "      <td>22</td>\n",
              "      <td>8.66</td>\n",
              "    </tr>\n",
              "    <tr>\n",
              "      <th>14511</th>\n",
              "      <td>Beacon Hill</td>\n",
              "      <td>North End</td>\n",
              "      <td>UberXL</td>\n",
              "      <td>1.79</td>\n",
              "      <td>16.0</td>\n",
              "      <td>2018-12-15 08:50:14.924000025</td>\n",
              "      <td>2018-12-15</td>\n",
              "      <td>5</td>\n",
              "      <td>8</td>\n",
              "      <td>8.94</td>\n",
              "    </tr>\n",
              "    <tr>\n",
              "      <th>15419</th>\n",
              "      <td>Back Bay</td>\n",
              "      <td>Haymarket Square</td>\n",
              "      <td>UberXL</td>\n",
              "      <td>1.79</td>\n",
              "      <td>15.0</td>\n",
              "      <td>2018-12-02 07:33:04.403000116</td>\n",
              "      <td>2018-12-02</td>\n",
              "      <td>6</td>\n",
              "      <td>7</td>\n",
              "      <td>8.38</td>\n",
              "    </tr>\n",
              "  </tbody>\n",
              "</table>\n",
              "</div>"
            ],
            "text/plain": [
              "       destination            source    name  ...  day  hour fare_per_mile\n",
              "163       Back Bay  Haymarket Square  UberXL  ...    2    23          7.54\n",
              "356    Beacon Hill         North End  UberXL  ...    0    12          9.78\n",
              "4381   Beacon Hill         North End  UberXL  ...    6    20          8.94\n",
              "4746      Back Bay  Haymarket Square  UberXL  ...    5     5         10.89\n",
              "7200   Beacon Hill         North End  UberXL  ...    3     4          7.82\n",
              "7729   Beacon Hill         North End  UberXL  ...    3    13          8.94\n",
              "7879   Beacon Hill         North End  UberXL  ...    6     3          8.66\n",
              "8395      Back Bay  Haymarket Square  UberXL  ...    5     4          7.26\n",
              "11898  Beacon Hill         North End  UberXL  ...    4     0          8.38\n",
              "12657  Beacon Hill         North End  UberXL  ...    2    22          8.66\n",
              "14511  Beacon Hill         North End  UberXL  ...    5     8          8.94\n",
              "15419     Back Bay  Haymarket Square  UberXL  ...    6     7          8.38\n",
              "\n",
              "[12 rows x 10 columns]"
            ]
          },
          "metadata": {},
          "execution_count": 110
        }
      ]
    },
    {
      "cell_type": "markdown",
      "source": [
        "## Hypothesis Testing"
      ],
      "metadata": {
        "id": "CbRYDI0ca7tE"
      }
    },
    {
      "cell_type": "markdown",
      "source": [
        "### Hypothesis 1"
      ],
      "metadata": {
        "id": "ptf7Oesubn1_"
      }
    },
    {
      "cell_type": "markdown",
      "source": [
        "1) The average amount per kilometer for the RideType ' UberX ' is more than that of average amount per kilometer of all type of rides which is 6.06"
      ],
      "metadata": {
        "id": "nGNJm0B-dVVd"
      }
    },
    {
      "cell_type": "markdown",
      "source": [
        "Test used : Z - test"
      ],
      "metadata": {
        "id": "6q40dp15dWRR"
      }
    },
    {
      "cell_type": "code",
      "source": [
        "#Population mean\n",
        "population_amount_km = df['fare_per_mile']\n",
        "\n",
        "population_amount_km.mean()"
      ],
      "metadata": {
        "colab": {
          "base_uri": "https://localhost:8080/"
        },
        "id": "-_Wonq-_cuBk",
        "outputId": "fb8a7138-b04b-4ac8-b24f-32fdb1fd6661"
      },
      "execution_count": null,
      "outputs": [
        {
          "output_type": "execute_result",
          "data": {
            "text/plain": [
              "9.754203873447707"
            ]
          },
          "metadata": {},
          "execution_count": 111
        }
      ]
    },
    {
      "cell_type": "code",
      "source": [
        "#Sample mean of UberX ride\n",
        "sample_of_UberX = df.loc[df['name'] == 'UberX']['fare_per_mile'].sample(100,random_state=1)\n",
        "\n",
        "sample_of_UberX.mean()"
      ],
      "metadata": {
        "colab": {
          "base_uri": "https://localhost:8080/"
        },
        "id": "BwFDHV9QdcV_",
        "outputId": "4098fbb6-508f-4ff0-fdb2-10dbeafc18d9"
      },
      "execution_count": null,
      "outputs": [
        {
          "output_type": "execute_result",
          "data": {
            "text/plain": [
              "5.784900000000001"
            ]
          },
          "metadata": {},
          "execution_count": 112
        }
      ]
    },
    {
      "cell_type": "code",
      "source": [
        "'''\n",
        "\n",
        " Null Hypothesis \n",
        " H0 : mu = population mean\n",
        "\n",
        " Alternate Hypothesis \n",
        " Ha : mu > population mean\n",
        "\n",
        "'''"
      ],
      "metadata": {
        "colab": {
          "base_uri": "https://localhost:8080/",
          "height": 35
        },
        "id": "v9cRTUaWdfFN",
        "outputId": "339c9ee0-01e6-4f40-d700-9d5eccd3d154"
      },
      "execution_count": null,
      "outputs": [
        {
          "output_type": "execute_result",
          "data": {
            "application/vnd.google.colaboratory.intrinsic+json": {
              "type": "string"
            },
            "text/plain": [
              "'\\n\\n Null Hypothesis \\n H0 : mu = population mean\\n\\n Alternate Hypothesis \\n Ha : mu > population mean\\n\\n'"
            ]
          },
          "metadata": {},
          "execution_count": 113
        }
      ]
    },
    {
      "cell_type": "code",
      "source": [
        "# Right Tailed Hypothesis\n",
        "\n",
        "n = 100\n",
        "xbar = sample_of_UberX.mean()\n",
        "mu = population_amount_km.mean()\n",
        "sigma = population_amount_km.std()\n",
        "alpha =  0.05\n",
        "\n",
        "z = (xbar-mu)/(sigma/np.sqrt(n))\n",
        "z_critical = abs(st.norm.ppf(alpha))\n",
        "\n",
        "if(z < z_critical): \n",
        "    rejection = 'Not to reject Null Hypothesis' \n",
        "else:\n",
        "    rejection = 'Reject Null Hypothesis' \n",
        "\n",
        "print(rejection)"
      ],
      "metadata": {
        "colab": {
          "base_uri": "https://localhost:8080/"
        },
        "id": "q0IbgV47die0",
        "outputId": "41b22043-2e0d-4e68-dd09-9c5e80a59301"
      },
      "execution_count": null,
      "outputs": [
        {
          "output_type": "stream",
          "name": "stdout",
          "text": [
            "Not to reject Null Hypothesis\n"
          ]
        }
      ]
    },
    {
      "cell_type": "markdown",
      "source": [
        "### Hypothesis 2 "
      ],
      "metadata": {
        "id": "gYbA3Z5adnGl"
      }
    },
    {
      "cell_type": "markdown",
      "source": [
        "2) The average distance travelled per day which is 2710.01, is"
      ],
      "metadata": {
        "id": "e9UZ5ezUe4ou"
      }
    },
    {
      "cell_type": "markdown",
      "source": [
        "Test used: Z-test using p value"
      ],
      "metadata": {
        "id": "xvotCmcBfRlc"
      }
    },
    {
      "cell_type": "code",
      "source": [
        "#Population mean average distance travelled per day\n",
        "\n",
        "day = df.groupby('date')\n",
        "population_distance_km = day.sum()['distance']\n",
        "\n",
        "print(population_distance_km.mean())\n",
        "print(population_distance_km.std())"
      ],
      "metadata": {
        "colab": {
          "base_uri": "https://localhost:8080/"
        },
        "id": "sRcIvCTtdrUM",
        "outputId": "f2d6fb77-ce43-4aa9-8ce2-9321300f3a9b"
      },
      "execution_count": null,
      "outputs": [
        {
          "output_type": "stream",
          "name": "stdout",
          "text": [
            "1683.9605882352928\n",
            "849.2422092700532\n"
          ]
        }
      ]
    },
    {
      "cell_type": "code",
      "source": [
        "#Sample mean average distance travelled per day in the month Decemeber\n",
        "\n",
        "dec = df[df.date_time.dt.month == 12].groupby('date')\n",
        "\n",
        "sample_of_december = dec.sum()['distance'].sample(10,random_state=1)\n",
        "\n",
        "print(sample_of_december.mean())"
      ],
      "metadata": {
        "colab": {
          "base_uri": "https://localhost:8080/"
        },
        "id": "q4nQ5zbRe9de",
        "outputId": "26acc6d9-3ca6-4f20-f89a-af94a92e3ce7"
      },
      "execution_count": null,
      "outputs": [
        {
          "output_type": "stream",
          "name": "stdout",
          "text": [
            "1491.155999999998\n"
          ]
        }
      ]
    },
    {
      "cell_type": "code",
      "source": [
        "'''\n",
        "\n",
        " Null Hypothesis \n",
        " H0 : mu = population mean\n",
        "\n",
        " Alternate Hypothesis \n",
        " Ha : mu > population mean\n",
        "\n",
        "'''"
      ],
      "metadata": {
        "colab": {
          "base_uri": "https://localhost:8080/",
          "height": 35
        },
        "id": "xDYX-t17fA2x",
        "outputId": "2fb399db-122c-4ea1-f88c-e18376b7970e"
      },
      "execution_count": null,
      "outputs": [
        {
          "output_type": "execute_result",
          "data": {
            "application/vnd.google.colaboratory.intrinsic+json": {
              "type": "string"
            },
            "text/plain": [
              "'\\n\\n Null Hypothesis \\n H0 : mu = population mean\\n\\n Alternate Hypothesis \\n Ha : mu > population mean\\n\\n'"
            ]
          },
          "metadata": {},
          "execution_count": 117
        }
      ]
    },
    {
      "cell_type": "code",
      "source": [
        "# Right Tailed Hypothesis\n",
        "\n",
        "n = 10\n",
        "xbar = sample_of_december.mean()\n",
        "mu = population_distance_km.mean()\n",
        "sigma = population_distance_km.std()\n",
        "alpha = 0.05\n",
        "\n",
        "\n",
        "z = (xbar-mu)/(sigma/np.sqrt(n))\n",
        "p = (st.norm.cdf(abs(z)))\n",
        "\n",
        "if(p > alpha): \n",
        "    rejection = 'Not to reject Null Hypothesis' \n",
        "else:\n",
        "    rejection = 'Reject Null Hypothesis' \n",
        "\n",
        "print(rejection)\n"
      ],
      "metadata": {
        "colab": {
          "base_uri": "https://localhost:8080/"
        },
        "id": "kXwjvB1gfJuY",
        "outputId": "f5d0a180-af51-4cdc-dae4-3ec332d21f89"
      },
      "execution_count": null,
      "outputs": [
        {
          "output_type": "stream",
          "name": "stdout",
          "text": [
            "Not to reject Null Hypothesis\n"
          ]
        }
      ]
    },
    {
      "cell_type": "markdown",
      "source": [
        "### Hypothesis 3"
      ],
      "metadata": {
        "id": "h1l0846si3lE"
      }
    },
    {
      "cell_type": "markdown",
      "source": [
        "3) The Uber administrator believes that standard deviation of the fare_mile of UberX lesser than 8. A random sample  of 30 UberX rides have been taken at alpha = 0.05"
      ],
      "metadata": {
        "id": "0JG0w1NJjAiO"
      }
    },
    {
      "cell_type": "markdown",
      "source": [
        "Test Used: chi square test"
      ],
      "metadata": {
        "id": "uBIMTfCcjB3S"
      }
    },
    {
      "cell_type": "code",
      "source": [
        "#Sample standard deviation of the fare_mile of Uberx\n",
        "\n",
        "sample_of_fare=df.loc[df['name'] == 'UberX']['fare_per_mile'].sample(30,random_state=1)"
      ],
      "metadata": {
        "id": "7ogQYBoOjI9v"
      },
      "execution_count": null,
      "outputs": []
    },
    {
      "cell_type": "code",
      "source": [
        "'''\n",
        "\n",
        " Null Hypothesis \n",
        " H0 : σ = 8\n",
        "\n",
        " Alternate Hypothesis \n",
        " Ha :  σ < 8\n",
        " \n",
        "'''"
      ],
      "metadata": {
        "colab": {
          "base_uri": "https://localhost:8080/",
          "height": 35
        },
        "id": "IaWjJcCZjN9M",
        "outputId": "1a2c369c-cf1e-4037-f7a5-fbce0c16138d"
      },
      "execution_count": null,
      "outputs": [
        {
          "output_type": "execute_result",
          "data": {
            "application/vnd.google.colaboratory.intrinsic+json": {
              "type": "string"
            },
            "text/plain": [
              "'\\n\\n Null Hypothesis \\n H0 : σ = 8\\n\\n Alternate Hypothesis \\n Ha :  σ < 8\\n \\n'"
            ]
          },
          "metadata": {},
          "execution_count": 120
        }
      ]
    },
    {
      "cell_type": "code",
      "source": [
        "n = 30\n",
        "degrees_of_freedom = n-1\n",
        "s = sample_of_fare.std()\n",
        "sigma = 8\n",
        "alpha = 0.05"
      ],
      "metadata": {
        "id": "z7H6b4CijTMb"
      },
      "execution_count": null,
      "outputs": []
    },
    {
      "cell_type": "code",
      "source": [
        "chi_square = ((n-1)*(s*s))/(sigma*sigma)\n",
        "chi_square"
      ],
      "metadata": {
        "colab": {
          "base_uri": "https://localhost:8080/"
        },
        "id": "2US2bane11tN",
        "outputId": "9260b39c-f822-40cd-a7f8-3db1bba11346"
      },
      "execution_count": null,
      "outputs": [
        {
          "output_type": "execute_result",
          "data": {
            "text/plain": [
              "3.7514429166666665"
            ]
          },
          "metadata": {},
          "execution_count": 122
        }
      ]
    },
    {
      "cell_type": "code",
      "source": [
        "chi_square_critical =  st.chi2.ppf(alpha, degrees_of_freedom)\n",
        "chi_square_critical"
      ],
      "metadata": {
        "colab": {
          "base_uri": "https://localhost:8080/"
        },
        "id": "F7iHzTp412QF",
        "outputId": "146d9049-f361-40f4-a8e1-f3fdfab7f191"
      },
      "execution_count": null,
      "outputs": [
        {
          "output_type": "execute_result",
          "data": {
            "text/plain": [
              "17.70836618282458"
            ]
          },
          "metadata": {},
          "execution_count": 123
        }
      ]
    },
    {
      "cell_type": "code",
      "source": [
        "if (chi_square > chi_square_critical):\n",
        "    print(\"Null hypothesis cannot be rejected\")\n",
        "else:\n",
        "    print(\"Reject null hypothesis\")"
      ],
      "metadata": {
        "colab": {
          "base_uri": "https://localhost:8080/"
        },
        "id": "qf8xAs0018lL",
        "outputId": "b49f0064-99bb-464d-bfad-b18f97b590a7"
      },
      "execution_count": null,
      "outputs": [
        {
          "output_type": "stream",
          "name": "stdout",
          "text": [
            "Reject null hypothesis\n"
          ]
        }
      ]
    },
    {
      "cell_type": "markdown",
      "source": [
        "### Hypothesis 4"
      ],
      "metadata": {
        "id": "EybQ-Ly-j495"
      }
    },
    {
      "cell_type": "markdown",
      "source": [
        "4) A Researchers believes that the standard deviation of the number of people  who take cab at Back Bay  and destination is Northeastern University\n",
        "is greater than 8. A random sample (given below) of 30 travells from backbay have been taken"
      ],
      "metadata": {
        "id": "zg245I7Zj7h0"
      }
    },
    {
      "cell_type": "markdown",
      "source": [
        "Test used: "
      ],
      "metadata": {
        "id": "U0z7ATZTj8ab"
      }
    },
    {
      "cell_type": "code",
      "source": [
        ""
      ],
      "metadata": {
        "id": "-pRRwWQ5j_AQ"
      },
      "execution_count": null,
      "outputs": []
    },
    {
      "cell_type": "code",
      "source": [
        ""
      ],
      "metadata": {
        "id": "mTzJX5eeXo7-"
      },
      "execution_count": null,
      "outputs": []
    },
    {
      "cell_type": "code",
      "source": [
        ""
      ],
      "metadata": {
        "id": "HVyKhEeYj_lL"
      },
      "execution_count": null,
      "outputs": []
    },
    {
      "cell_type": "code",
      "source": [
        ""
      ],
      "metadata": {
        "id": "tHn91CLEkBAY"
      },
      "execution_count": null,
      "outputs": []
    },
    {
      "cell_type": "code",
      "source": [
        ""
      ],
      "metadata": {
        "id": "lkuCLvKMkBct"
      },
      "execution_count": null,
      "outputs": []
    },
    {
      "cell_type": "markdown",
      "source": [
        "### Hypothesis 5"
      ],
      "metadata": {
        "id": "wF-cWp6Ekcmr"
      }
    },
    {
      "cell_type": "markdown",
      "source": [
        "5)"
      ],
      "metadata": {
        "id": "YaJ6kyEPkfOY"
      }
    },
    {
      "cell_type": "markdown",
      "source": [
        "Test used:"
      ],
      "metadata": {
        "id": "RVgqiv6VkhAJ"
      }
    },
    {
      "cell_type": "code",
      "source": [
        ""
      ],
      "metadata": {
        "id": "rT6wxEwLkjS_"
      },
      "execution_count": null,
      "outputs": []
    },
    {
      "cell_type": "code",
      "source": [
        ""
      ],
      "metadata": {
        "id": "f29vbz6UkklJ"
      },
      "execution_count": null,
      "outputs": []
    },
    {
      "cell_type": "code",
      "source": [
        ""
      ],
      "metadata": {
        "id": "csvGvx5vklKQ"
      },
      "execution_count": null,
      "outputs": []
    },
    {
      "cell_type": "code",
      "source": [
        ""
      ],
      "metadata": {
        "id": "Ho5EZ7tEkm9p"
      },
      "execution_count": null,
      "outputs": []
    },
    {
      "cell_type": "markdown",
      "metadata": {
        "id": "yXavt_-Sgi7_"
      },
      "source": [
        "## 3)Preparing for training the model"
      ]
    },
    {
      "cell_type": "markdown",
      "metadata": {
        "id": "jECrR-wPG-td"
      },
      "source": [
        "### 3.1)Encoding categorical data using one hot encoding"
      ]
    },
    {
      "cell_type": "code",
      "metadata": {
        "colab": {
          "base_uri": "https://localhost:8080/",
          "height": 666
        },
        "id": "Du4hcgQDGGBX",
        "outputId": "773760ff-20c8-40e2-8eaa-208161b88c55"
      },
      "source": [
        "df.set_index('date',inplace=True)\n",
        "df.drop('date_time',inplace=True,axis=1)\n",
        "\n",
        "for each in df.columns:\n",
        "  if(df[each].dtypes == 'object'):\n",
        "    dummies = pd.get_dummies(df[each], prefix=each)\n",
        "    df = pd.concat([df, dummies], axis=1).drop([each],axis = 1)\n",
        "\n",
        "df"
      ],
      "execution_count": null,
      "outputs": [
        {
          "output_type": "execute_result",
          "data": {
            "text/html": [
              "<div>\n",
              "<style scoped>\n",
              "    .dataframe tbody tr th:only-of-type {\n",
              "        vertical-align: middle;\n",
              "    }\n",
              "\n",
              "    .dataframe tbody tr th {\n",
              "        vertical-align: top;\n",
              "    }\n",
              "\n",
              "    .dataframe thead th {\n",
              "        text-align: right;\n",
              "    }\n",
              "</style>\n",
              "<table border=\"1\" class=\"dataframe\">\n",
              "  <thead>\n",
              "    <tr style=\"text-align: right;\">\n",
              "      <th></th>\n",
              "      <th>distance</th>\n",
              "      <th>price</th>\n",
              "      <th>day</th>\n",
              "      <th>hour</th>\n",
              "      <th>fare_per_mile</th>\n",
              "      <th>destination_Back Bay</th>\n",
              "      <th>destination_Beacon Hill</th>\n",
              "      <th>destination_Boston University</th>\n",
              "      <th>destination_Fenway</th>\n",
              "      <th>destination_Financial District</th>\n",
              "      <th>destination_Haymarket Square</th>\n",
              "      <th>destination_North End</th>\n",
              "      <th>destination_North Station</th>\n",
              "      <th>destination_Northeastern University</th>\n",
              "      <th>destination_South Station</th>\n",
              "      <th>destination_Theatre District</th>\n",
              "      <th>destination_West End</th>\n",
              "      <th>source_Back Bay</th>\n",
              "      <th>source_Beacon Hill</th>\n",
              "      <th>source_Boston University</th>\n",
              "      <th>source_Fenway</th>\n",
              "      <th>source_Financial District</th>\n",
              "      <th>source_Haymarket Square</th>\n",
              "      <th>source_North End</th>\n",
              "      <th>source_North Station</th>\n",
              "      <th>source_Northeastern University</th>\n",
              "      <th>source_South Station</th>\n",
              "      <th>source_Theatre District</th>\n",
              "      <th>source_West End</th>\n",
              "      <th>name_Black</th>\n",
              "      <th>name_Black SUV</th>\n",
              "      <th>name_UberPool</th>\n",
              "      <th>name_UberX</th>\n",
              "      <th>name_UberXL</th>\n",
              "      <th>name_WAV</th>\n",
              "    </tr>\n",
              "    <tr>\n",
              "      <th>date</th>\n",
              "      <th></th>\n",
              "      <th></th>\n",
              "      <th></th>\n",
              "      <th></th>\n",
              "      <th></th>\n",
              "      <th></th>\n",
              "      <th></th>\n",
              "      <th></th>\n",
              "      <th></th>\n",
              "      <th></th>\n",
              "      <th></th>\n",
              "      <th></th>\n",
              "      <th></th>\n",
              "      <th></th>\n",
              "      <th></th>\n",
              "      <th></th>\n",
              "      <th></th>\n",
              "      <th></th>\n",
              "      <th></th>\n",
              "      <th></th>\n",
              "      <th></th>\n",
              "      <th></th>\n",
              "      <th></th>\n",
              "      <th></th>\n",
              "      <th></th>\n",
              "      <th></th>\n",
              "      <th></th>\n",
              "      <th></th>\n",
              "      <th></th>\n",
              "      <th></th>\n",
              "      <th></th>\n",
              "      <th></th>\n",
              "      <th></th>\n",
              "      <th></th>\n",
              "      <th></th>\n",
              "    </tr>\n",
              "  </thead>\n",
              "  <tbody>\n",
              "    <tr>\n",
              "      <th>2018-11-30</th>\n",
              "      <td>1.11</td>\n",
              "      <td>12.0</td>\n",
              "      <td>4</td>\n",
              "      <td>22</td>\n",
              "      <td>10.81</td>\n",
              "      <td>0</td>\n",
              "      <td>0</td>\n",
              "      <td>0</td>\n",
              "      <td>0</td>\n",
              "      <td>0</td>\n",
              "      <td>0</td>\n",
              "      <td>0</td>\n",
              "      <td>0</td>\n",
              "      <td>0</td>\n",
              "      <td>0</td>\n",
              "      <td>0</td>\n",
              "      <td>1</td>\n",
              "      <td>0</td>\n",
              "      <td>0</td>\n",
              "      <td>0</td>\n",
              "      <td>0</td>\n",
              "      <td>0</td>\n",
              "      <td>0</td>\n",
              "      <td>1</td>\n",
              "      <td>0</td>\n",
              "      <td>0</td>\n",
              "      <td>0</td>\n",
              "      <td>0</td>\n",
              "      <td>0</td>\n",
              "      <td>0</td>\n",
              "      <td>0</td>\n",
              "      <td>0</td>\n",
              "      <td>0</td>\n",
              "      <td>1</td>\n",
              "      <td>0</td>\n",
              "    </tr>\n",
              "    <tr>\n",
              "      <th>2018-12-13</th>\n",
              "      <td>1.11</td>\n",
              "      <td>16.0</td>\n",
              "      <td>3</td>\n",
              "      <td>10</td>\n",
              "      <td>14.41</td>\n",
              "      <td>0</td>\n",
              "      <td>0</td>\n",
              "      <td>0</td>\n",
              "      <td>0</td>\n",
              "      <td>0</td>\n",
              "      <td>0</td>\n",
              "      <td>0</td>\n",
              "      <td>0</td>\n",
              "      <td>0</td>\n",
              "      <td>0</td>\n",
              "      <td>0</td>\n",
              "      <td>1</td>\n",
              "      <td>0</td>\n",
              "      <td>0</td>\n",
              "      <td>0</td>\n",
              "      <td>0</td>\n",
              "      <td>0</td>\n",
              "      <td>0</td>\n",
              "      <td>1</td>\n",
              "      <td>0</td>\n",
              "      <td>0</td>\n",
              "      <td>0</td>\n",
              "      <td>0</td>\n",
              "      <td>0</td>\n",
              "      <td>1</td>\n",
              "      <td>0</td>\n",
              "      <td>0</td>\n",
              "      <td>0</td>\n",
              "      <td>0</td>\n",
              "      <td>0</td>\n",
              "    </tr>\n",
              "    <tr>\n",
              "      <th>2018-12-13</th>\n",
              "      <td>1.11</td>\n",
              "      <td>7.5</td>\n",
              "      <td>3</td>\n",
              "      <td>19</td>\n",
              "      <td>6.76</td>\n",
              "      <td>0</td>\n",
              "      <td>0</td>\n",
              "      <td>0</td>\n",
              "      <td>0</td>\n",
              "      <td>0</td>\n",
              "      <td>0</td>\n",
              "      <td>0</td>\n",
              "      <td>0</td>\n",
              "      <td>0</td>\n",
              "      <td>0</td>\n",
              "      <td>0</td>\n",
              "      <td>1</td>\n",
              "      <td>0</td>\n",
              "      <td>0</td>\n",
              "      <td>0</td>\n",
              "      <td>0</td>\n",
              "      <td>0</td>\n",
              "      <td>0</td>\n",
              "      <td>1</td>\n",
              "      <td>0</td>\n",
              "      <td>0</td>\n",
              "      <td>0</td>\n",
              "      <td>0</td>\n",
              "      <td>0</td>\n",
              "      <td>0</td>\n",
              "      <td>0</td>\n",
              "      <td>0</td>\n",
              "      <td>1</td>\n",
              "      <td>0</td>\n",
              "      <td>0</td>\n",
              "    </tr>\n",
              "    <tr>\n",
              "      <th>2018-12-16</th>\n",
              "      <td>1.11</td>\n",
              "      <td>7.5</td>\n",
              "      <td>6</td>\n",
              "      <td>23</td>\n",
              "      <td>6.76</td>\n",
              "      <td>0</td>\n",
              "      <td>0</td>\n",
              "      <td>0</td>\n",
              "      <td>0</td>\n",
              "      <td>0</td>\n",
              "      <td>0</td>\n",
              "      <td>0</td>\n",
              "      <td>0</td>\n",
              "      <td>0</td>\n",
              "      <td>0</td>\n",
              "      <td>0</td>\n",
              "      <td>1</td>\n",
              "      <td>0</td>\n",
              "      <td>0</td>\n",
              "      <td>0</td>\n",
              "      <td>0</td>\n",
              "      <td>0</td>\n",
              "      <td>0</td>\n",
              "      <td>1</td>\n",
              "      <td>0</td>\n",
              "      <td>0</td>\n",
              "      <td>0</td>\n",
              "      <td>0</td>\n",
              "      <td>0</td>\n",
              "      <td>0</td>\n",
              "      <td>0</td>\n",
              "      <td>0</td>\n",
              "      <td>0</td>\n",
              "      <td>0</td>\n",
              "      <td>1</td>\n",
              "    </tr>\n",
              "    <tr>\n",
              "      <th>2018-12-14</th>\n",
              "      <td>1.11</td>\n",
              "      <td>26.0</td>\n",
              "      <td>4</td>\n",
              "      <td>0</td>\n",
              "      <td>23.42</td>\n",
              "      <td>0</td>\n",
              "      <td>0</td>\n",
              "      <td>0</td>\n",
              "      <td>0</td>\n",
              "      <td>0</td>\n",
              "      <td>0</td>\n",
              "      <td>0</td>\n",
              "      <td>0</td>\n",
              "      <td>0</td>\n",
              "      <td>0</td>\n",
              "      <td>0</td>\n",
              "      <td>1</td>\n",
              "      <td>0</td>\n",
              "      <td>0</td>\n",
              "      <td>0</td>\n",
              "      <td>0</td>\n",
              "      <td>0</td>\n",
              "      <td>0</td>\n",
              "      <td>1</td>\n",
              "      <td>0</td>\n",
              "      <td>0</td>\n",
              "      <td>0</td>\n",
              "      <td>0</td>\n",
              "      <td>0</td>\n",
              "      <td>0</td>\n",
              "      <td>1</td>\n",
              "      <td>0</td>\n",
              "      <td>0</td>\n",
              "      <td>0</td>\n",
              "      <td>0</td>\n",
              "    </tr>\n",
              "    <tr>\n",
              "      <th>...</th>\n",
              "      <td>...</td>\n",
              "      <td>...</td>\n",
              "      <td>...</td>\n",
              "      <td>...</td>\n",
              "      <td>...</td>\n",
              "      <td>...</td>\n",
              "      <td>...</td>\n",
              "      <td>...</td>\n",
              "      <td>...</td>\n",
              "      <td>...</td>\n",
              "      <td>...</td>\n",
              "      <td>...</td>\n",
              "      <td>...</td>\n",
              "      <td>...</td>\n",
              "      <td>...</td>\n",
              "      <td>...</td>\n",
              "      <td>...</td>\n",
              "      <td>...</td>\n",
              "      <td>...</td>\n",
              "      <td>...</td>\n",
              "      <td>...</td>\n",
              "      <td>...</td>\n",
              "      <td>...</td>\n",
              "      <td>...</td>\n",
              "      <td>...</td>\n",
              "      <td>...</td>\n",
              "      <td>...</td>\n",
              "      <td>...</td>\n",
              "      <td>...</td>\n",
              "      <td>...</td>\n",
              "      <td>...</td>\n",
              "      <td>...</td>\n",
              "      <td>...</td>\n",
              "      <td>...</td>\n",
              "      <td>...</td>\n",
              "    </tr>\n",
              "    <tr>\n",
              "      <th>2018-12-16</th>\n",
              "      <td>1.57</td>\n",
              "      <td>7.5</td>\n",
              "      <td>6</td>\n",
              "      <td>22</td>\n",
              "      <td>4.78</td>\n",
              "      <td>0</td>\n",
              "      <td>0</td>\n",
              "      <td>0</td>\n",
              "      <td>0</td>\n",
              "      <td>0</td>\n",
              "      <td>0</td>\n",
              "      <td>1</td>\n",
              "      <td>0</td>\n",
              "      <td>0</td>\n",
              "      <td>0</td>\n",
              "      <td>0</td>\n",
              "      <td>0</td>\n",
              "      <td>0</td>\n",
              "      <td>0</td>\n",
              "      <td>0</td>\n",
              "      <td>0</td>\n",
              "      <td>0</td>\n",
              "      <td>0</td>\n",
              "      <td>0</td>\n",
              "      <td>0</td>\n",
              "      <td>0</td>\n",
              "      <td>0</td>\n",
              "      <td>1</td>\n",
              "      <td>0</td>\n",
              "      <td>0</td>\n",
              "      <td>0</td>\n",
              "      <td>1</td>\n",
              "      <td>0</td>\n",
              "      <td>0</td>\n",
              "      <td>0</td>\n",
              "    </tr>\n",
              "    <tr>\n",
              "      <th>2018-12-17</th>\n",
              "      <td>1.57</td>\n",
              "      <td>16.0</td>\n",
              "      <td>0</td>\n",
              "      <td>8</td>\n",
              "      <td>10.19</td>\n",
              "      <td>0</td>\n",
              "      <td>0</td>\n",
              "      <td>0</td>\n",
              "      <td>0</td>\n",
              "      <td>0</td>\n",
              "      <td>0</td>\n",
              "      <td>1</td>\n",
              "      <td>0</td>\n",
              "      <td>0</td>\n",
              "      <td>0</td>\n",
              "      <td>0</td>\n",
              "      <td>0</td>\n",
              "      <td>0</td>\n",
              "      <td>0</td>\n",
              "      <td>0</td>\n",
              "      <td>0</td>\n",
              "      <td>0</td>\n",
              "      <td>0</td>\n",
              "      <td>0</td>\n",
              "      <td>0</td>\n",
              "      <td>0</td>\n",
              "      <td>0</td>\n",
              "      <td>1</td>\n",
              "      <td>0</td>\n",
              "      <td>1</td>\n",
              "      <td>0</td>\n",
              "      <td>0</td>\n",
              "      <td>0</td>\n",
              "      <td>0</td>\n",
              "      <td>0</td>\n",
              "    </tr>\n",
              "    <tr>\n",
              "      <th>2018-12-02</th>\n",
              "      <td>1.57</td>\n",
              "      <td>7.0</td>\n",
              "      <td>6</td>\n",
              "      <td>22</td>\n",
              "      <td>4.46</td>\n",
              "      <td>0</td>\n",
              "      <td>0</td>\n",
              "      <td>0</td>\n",
              "      <td>0</td>\n",
              "      <td>0</td>\n",
              "      <td>0</td>\n",
              "      <td>1</td>\n",
              "      <td>0</td>\n",
              "      <td>0</td>\n",
              "      <td>0</td>\n",
              "      <td>0</td>\n",
              "      <td>0</td>\n",
              "      <td>0</td>\n",
              "      <td>0</td>\n",
              "      <td>0</td>\n",
              "      <td>0</td>\n",
              "      <td>0</td>\n",
              "      <td>0</td>\n",
              "      <td>0</td>\n",
              "      <td>0</td>\n",
              "      <td>0</td>\n",
              "      <td>0</td>\n",
              "      <td>1</td>\n",
              "      <td>0</td>\n",
              "      <td>0</td>\n",
              "      <td>0</td>\n",
              "      <td>0</td>\n",
              "      <td>1</td>\n",
              "      <td>0</td>\n",
              "      <td>0</td>\n",
              "    </tr>\n",
              "    <tr>\n",
              "      <th>2018-12-01</th>\n",
              "      <td>1.61</td>\n",
              "      <td>9.5</td>\n",
              "      <td>5</td>\n",
              "      <td>14</td>\n",
              "      <td>5.90</td>\n",
              "      <td>0</td>\n",
              "      <td>0</td>\n",
              "      <td>0</td>\n",
              "      <td>0</td>\n",
              "      <td>0</td>\n",
              "      <td>1</td>\n",
              "      <td>0</td>\n",
              "      <td>0</td>\n",
              "      <td>0</td>\n",
              "      <td>0</td>\n",
              "      <td>0</td>\n",
              "      <td>0</td>\n",
              "      <td>0</td>\n",
              "      <td>0</td>\n",
              "      <td>0</td>\n",
              "      <td>0</td>\n",
              "      <td>0</td>\n",
              "      <td>0</td>\n",
              "      <td>0</td>\n",
              "      <td>0</td>\n",
              "      <td>0</td>\n",
              "      <td>0</td>\n",
              "      <td>1</td>\n",
              "      <td>0</td>\n",
              "      <td>0</td>\n",
              "      <td>0</td>\n",
              "      <td>0</td>\n",
              "      <td>1</td>\n",
              "      <td>0</td>\n",
              "      <td>0</td>\n",
              "    </tr>\n",
              "    <tr>\n",
              "      <th>2018-11-29</th>\n",
              "      <td>1.61</td>\n",
              "      <td>9.5</td>\n",
              "      <td>3</td>\n",
              "      <td>15</td>\n",
              "      <td>5.90</td>\n",
              "      <td>0</td>\n",
              "      <td>0</td>\n",
              "      <td>0</td>\n",
              "      <td>0</td>\n",
              "      <td>0</td>\n",
              "      <td>1</td>\n",
              "      <td>0</td>\n",
              "      <td>0</td>\n",
              "      <td>0</td>\n",
              "      <td>0</td>\n",
              "      <td>0</td>\n",
              "      <td>0</td>\n",
              "      <td>0</td>\n",
              "      <td>0</td>\n",
              "      <td>0</td>\n",
              "      <td>0</td>\n",
              "      <td>0</td>\n",
              "      <td>0</td>\n",
              "      <td>0</td>\n",
              "      <td>0</td>\n",
              "      <td>0</td>\n",
              "      <td>0</td>\n",
              "      <td>1</td>\n",
              "      <td>0</td>\n",
              "      <td>0</td>\n",
              "      <td>0</td>\n",
              "      <td>0</td>\n",
              "      <td>0</td>\n",
              "      <td>0</td>\n",
              "      <td>1</td>\n",
              "    </tr>\n",
              "  </tbody>\n",
              "</table>\n",
              "<p>13528 rows × 35 columns</p>\n",
              "</div>"
            ],
            "text/plain": [
              "            distance  price  day  ...  name_UberX  name_UberXL  name_WAV\n",
              "date                              ...                                   \n",
              "2018-11-30      1.11   12.0    4  ...           0            1         0\n",
              "2018-12-13      1.11   16.0    3  ...           0            0         0\n",
              "2018-12-13      1.11    7.5    3  ...           1            0         0\n",
              "2018-12-16      1.11    7.5    6  ...           0            0         1\n",
              "2018-12-14      1.11   26.0    4  ...           0            0         0\n",
              "...              ...    ...  ...  ...         ...          ...       ...\n",
              "2018-12-16      1.57    7.5    6  ...           0            0         0\n",
              "2018-12-17      1.57   16.0    0  ...           0            0         0\n",
              "2018-12-02      1.57    7.0    6  ...           1            0         0\n",
              "2018-12-01      1.61    9.5    5  ...           1            0         0\n",
              "2018-11-29      1.61    9.5    3  ...           0            0         1\n",
              "\n",
              "[13528 rows x 35 columns]"
            ]
          },
          "metadata": {},
          "execution_count": 125
        }
      ]
    },
    {
      "cell_type": "markdown",
      "metadata": {
        "id": "hsmTpsGoIJrh"
      },
      "source": [
        "### 3.2)Splitting the data into train and test set"
      ]
    },
    {
      "cell_type": "markdown",
      "metadata": {
        "id": "MYa24e5NIfIp"
      },
      "source": [
        "In this specific stage we are getting our data ready inorder to apply machine learning models.We first need to split our data into train and test set so that we can apply changes to only the relevant features.Here price is the target variable and the other features are predictor variables."
      ]
    },
    {
      "cell_type": "code",
      "metadata": {
        "id": "_cC8_xpmW47S",
        "colab": {
          "base_uri": "https://localhost:8080/"
        },
        "outputId": "f06ae1f8-dbe8-4e31-f1d3-df961b053140"
      },
      "source": [
        "X = df.loc[:, df.columns != 'price']\n",
        "Y = df['price']\n",
        "X_train,X_test,y_train,y_test = train_test_split(X,Y,test_size = 0.33, random_state=42)\n",
        "\n",
        "X_train.shape, X_test.shape"
      ],
      "execution_count": null,
      "outputs": [
        {
          "output_type": "execute_result",
          "data": {
            "text/plain": [
              "((9063, 34), (4465, 34))"
            ]
          },
          "metadata": {},
          "execution_count": 126
        }
      ]
    },
    {
      "cell_type": "markdown",
      "metadata": {
        "id": "OIiugUcyHNSg"
      },
      "source": [
        "### 3.3)Feature Scaling using StandardScaler"
      ]
    },
    {
      "cell_type": "markdown",
      "metadata": {
        "id": "4y5pZgvMHSTW"
      },
      "source": [
        "*   Feature Scaling is a technique to standardize the independent features that are present in a fixed range to bring all values to the same magnitudes.\n",
        "*   In standardization, the mean of the independent features is 0 and the standard deviation is 1.\n",
        "\n"
      ]
    },
    {
      "cell_type": "code",
      "metadata": {
        "id": "v9yk6a4SqtQP",
        "colab": {
          "base_uri": "https://localhost:8080/"
        },
        "outputId": "bc421379-140c-4352-f9fa-6115e2702479"
      },
      "source": [
        "sc=StandardScaler()\n",
        "x_train=sc.fit_transform(X_train)\n",
        "x_test=sc.transform(X_test)\n",
        "\n",
        "print(x_train)\n",
        "print(x_test)"
      ],
      "execution_count": null,
      "outputs": [
        {
          "output_type": "stream",
          "name": "stdout",
          "text": [
            "[[ 0.43861325 -1.32929354 -1.23919115 ... -0.45173595 -0.45138179\n",
            "  -0.45456603]\n",
            " [ 0.83267414  1.1084619   1.33782726 ... -0.45173595 -0.45138179\n",
            "  -0.45456603]\n",
            " [-1.00329136 -0.35419137  0.19248574 ... -0.45173595 -0.45138179\n",
            "  -0.45456603]\n",
            " ...\n",
            " [ 2.0775483  -0.84174245  1.19465957 ... -0.45173595 -0.45138179\n",
            "  -0.45456603]\n",
            " [ 0.41174546 -0.84174245 -0.09384964 ... -0.45173595 -0.45138179\n",
            "  -0.45456603]\n",
            " [ 1.05657237  0.13335972 -1.66869422 ... -0.45173595 -0.45138179\n",
            "   2.19990042]]\n",
            "[[ 0.82371821 -0.35419137 -0.38018501 ... -0.45173595 -0.45138179\n",
            "  -0.45456603]\n",
            " [ 0.82371821 -0.35419137  0.19248574 ... -0.45173595 -0.45138179\n",
            "  -0.45456603]\n",
            " [ 2.36413804  1.1084619  -0.95285577 ... -0.45173595 -0.45138179\n",
            "  -0.45456603]\n",
            " ...\n",
            " [ 0.30427431 -1.32929354  1.62416264 ... -0.45173595 -0.45138179\n",
            "  -0.45456603]\n",
            " [-0.5554949  -0.84174245  0.19248574 ... -0.45173595 -0.45138179\n",
            "  -0.45456603]\n",
            " [ 2.17606353  0.62091081 -0.66652039 ... -0.45173595  2.21541947\n",
            "  -0.45456603]]\n"
          ]
        }
      ]
    },
    {
      "cell_type": "markdown",
      "metadata": {
        "id": "ry-YqER6IuPu"
      },
      "source": [
        "## 4)Machine Learning Models(Regression)"
      ]
    },
    {
      "cell_type": "markdown",
      "metadata": {
        "id": "bUjFPXC75LDk"
      },
      "source": [
        "Here we will be training our model using 5 different regression models namely linear,random forest,decision tree,k nearest neighbours,support vector machine and XGBRegressor.\n",
        "\n",
        "Then we will be comparing the models accuracy on test data with accuracy after cross validation.\n",
        "\n",
        "We are also calculating the evaluaion metrics of each regression model to choose the best regression model from the rest for our dataset."
      ]
    },
    {
      "cell_type": "code",
      "metadata": {
        "id": "8W-7JZYzxOR1"
      },
      "source": [
        "model_list = [\"Linear\",\"RandomForest\",\"DecisionTree\",\"KNN\",\"SVM\",\"XGB\"]\n",
        "accuracy_list = []\n",
        "cv_accuracy_list = []\n",
        "train_error = []\n",
        "test_error = []\n",
        "r_squared = []\n",
        "MAE = []\n",
        "MSE = []\n",
        "RMSE = []\n",
        "MAPE = []\n",
        "def evaluate_model(model):\n",
        "    model.fit(x_train,y_train)\n",
        "    y_1 = model.predict(x_train)\n",
        "    y_1 = list(y_1)\n",
        "    r2 = model.score(x_test,y_test)\n",
        "    y_pred = model.predict(x_test)\n",
        "    y_2 = list(y_pred)\n",
        "\n",
        "    kfold = KFold(n_splits=10, shuffle=True)\n",
        "    y_pred_cv = cross_val_predict(model, X, Y, cv=kfold)\n",
        "    \n",
        "    print('model name: \\n',model.__class__.__name__)\n",
        "    print('R-Squared: ',r2)\n",
        "    print('Mean Absolute Error:', metrics.mean_absolute_error(y_test, y_pred))\n",
        "    print('Mean Squared Error:', metrics.mean_squared_error(y_test, y_pred))\n",
        "    print('Root Mean Squared Error:', np.sqrt(metrics.mean_squared_error(y_test, y_pred)))\n",
        "    print('Mean Absolute Percentage Error:', np.mean(np.abs((y_test - y_pred) / y_test)) * 100)\n",
        "    accuracy = 100-(np.mean(np.abs((y_test - y_pred) / y_test)) * 100)\n",
        "    print(\"Accuracy of the model: \",accuracy)\n",
        "    #print(cross_val_scores)\n",
        "    accuracy_cv = metrics.r2_score(Y, y_pred_cv)\n",
        "    print('Cross-Predicted(KFold) accuracy: ', accuracy_cv)\n",
        "    cv_accuracy_list.append(accuracy_cv*100)\n",
        "\n",
        "    r_squared.append(r2)\n",
        "    MAE.append(metrics.mean_absolute_error(y_test, y_pred))\n",
        "    MSE.append(metrics.mean_squared_error(y_test, y_pred))\n",
        "    RMSE.append(np.sqrt(metrics.mean_squared_error(y_test, y_pred)))\n",
        "    MAPE.append(np.mean(np.abs((y_test - y_pred) / y_test)) * 100)\n",
        "    accuracy_list.append(round(accuracy,2))\n",
        "\n",
        "    y_Train = list(y_train)\n",
        "    error=0\n",
        "    for i in range(len(y_Train)):\n",
        "      error+=(abs(y_1[i]-y_Train[i])/y_Train[i])\n",
        "    train_error.append(round((error/len(y_Train))*100,2))\n",
        "\n",
        "    y_Test = list(y_test)\n",
        "    error=0\n",
        "    for i in range(len(y_Test)):\n",
        "      error+=(abs(y_2[i]-y_Test[i])/y_Test[i])\n",
        "    test_error.append(round((error/len(y_Test))*100,2))"
      ],
      "execution_count": null,
      "outputs": []
    },
    {
      "cell_type": "code",
      "metadata": {
        "colab": {
          "base_uri": "https://localhost:8080/"
        },
        "id": "rsnFQD6sxL_e",
        "outputId": "4472568a-2b54-4135-a8de-581d71c530f8"
      },
      "source": [
        "model1 = LinearRegression()\n",
        "model2= RandomForestRegressor()\n",
        "model3 = DecisionTreeRegressor()\n",
        "model4 = KNeighborsRegressor(n_neighbors=9)\n",
        "model5 = SVR()\n",
        "model6 = XGBRegressor(verbosity=0,silent=True)\n",
        "\n",
        "\n",
        "models=[model1,model2,model3,model4,model5,model6]\n",
        "\n",
        "for model in models:\n",
        "    evaluate_model(model)"
      ],
      "execution_count": null,
      "outputs": [
        {
          "output_type": "stream",
          "name": "stdout",
          "text": [
            "model name: \n",
            " LinearRegression\n",
            "R-Squared:  0.9333576790562601\n",
            "Mean Absolute Error: 1.482988327235437\n",
            "Mean Squared Error: 4.235114967349805\n",
            "Root Mean Squared Error: 2.0579394955512673\n",
            "Mean Absolute Percentage Error: 10.74808736074805\n",
            "Accuracy of the model:  89.25191263925196\n",
            "Cross-Predicted(KFold) accuracy:  0.9295186810869919\n",
            "model name: \n",
            " RandomForestRegressor\n",
            "R-Squared:  0.9980761256710927\n",
            "Mean Absolute Error: 0.13338409854423297\n",
            "Mean Squared Error: 0.12226208286674133\n",
            "Root Mean Squared Error: 0.34965995319272886\n",
            "Mean Absolute Percentage Error: 0.7630910077973205\n",
            "Accuracy of the model:  99.23690899220269\n",
            "Cross-Predicted(KFold) accuracy:  0.9977244672970305\n",
            "model name: \n",
            " DecisionTreeRegressor\n",
            "R-Squared:  0.9970000047215913\n",
            "Mean Absolute Error: 0.13762597984322508\n",
            "Mean Squared Error: 0.1906494960806271\n",
            "Root Mean Squared Error: 0.43663428184308556\n",
            "Mean Absolute Percentage Error: 0.7564200424318018\n",
            "Accuracy of the model:  99.2435799575682\n",
            "Cross-Predicted(KFold) accuracy:  0.9966282847194519\n",
            "model name: \n",
            " KNeighborsRegressor\n",
            "R-Squared:  0.9465088675674493\n",
            "Mean Absolute Error: 1.2151673510016174\n",
            "Mean Squared Error: 3.399357831142079\n",
            "Root Mean Squared Error: 1.8437347507551294\n",
            "Mean Absolute Percentage Error: 8.576511774299101\n",
            "Accuracy of the model:  91.4234882257009\n",
            "Cross-Predicted(KFold) accuracy:  0.919837913489966\n",
            "model name: \n",
            " SVR\n",
            "R-Squared:  0.9568544608177395\n",
            "Mean Absolute Error: 1.053429896653294\n",
            "Mean Squared Error: 2.7418960831125347\n",
            "Root Mean Squared Error: 1.6558671695255434\n",
            "Mean Absolute Percentage Error: 7.19047924535693\n",
            "Accuracy of the model:  92.80952075464307\n",
            "Cross-Predicted(KFold) accuracy:  0.9223917864716954\n",
            "model name: \n",
            " XGBRegressor\n",
            "R-Squared:  0.9826450901053364\n",
            "Mean Absolute Error: 0.6876859990640023\n",
            "Mean Squared Error: 1.1029033444670444\n",
            "Root Mean Squared Error: 1.050192051230176\n",
            "Mean Absolute Percentage Error: 4.8233330353020705\n",
            "Accuracy of the model:  95.17666696469793\n",
            "Cross-Predicted(KFold) accuracy:  0.9808912683946925\n"
          ]
        }
      ]
    },
    {
      "cell_type": "markdown",
      "metadata": {
        "id": "2ot631Nx620-"
      },
      "source": [
        "Here we are displaying the evaluation metrics of all 6 regression models.\n",
        "\n",
        "Evaluation Metrics:\n",
        "\n",
        "\n",
        "*   R-Squared\n",
        "*   Mean Absolute Error\n",
        "\n",
        "*   Mean Squared Error\n",
        "*   Root Mean Squared Error\n",
        "\n",
        "\n",
        "If we analyze the table we can see that randomforest regression model has the least error.\n",
        "\n",
        "This shows us that our dataset when trained using RandomForest Regressor produces the highest accuracy.\n",
        "\n",
        "\n",
        "\n",
        "\n"
      ]
    },
    {
      "cell_type": "code",
      "metadata": {
        "colab": {
          "base_uri": "https://localhost:8080/",
          "height": 272
        },
        "id": "SV989n26N4IK",
        "outputId": "ffb4c916-5739-4dd1-c828-bc47fb3ef34e"
      },
      "source": [
        "data = {'R-Squared':r_squared,'Mean Absolute Error':MAE,'Mean Squared Error':MSE,'ROOT MSE':RMSE,'MAPE':MAPE}\n",
        "models = model_list\n",
        "evaluation_metrics = pd.DataFrame(data=data,index=models)\n",
        "print(\"\\t\\t\\t\\t**Evaluation Metrics**:\\n\")\n",
        "evaluation_metrics"
      ],
      "execution_count": null,
      "outputs": [
        {
          "output_type": "stream",
          "name": "stdout",
          "text": [
            "\t\t\t\t**Evaluation Metrics**:\n",
            "\n"
          ]
        },
        {
          "output_type": "execute_result",
          "data": {
            "text/html": [
              "<div>\n",
              "<style scoped>\n",
              "    .dataframe tbody tr th:only-of-type {\n",
              "        vertical-align: middle;\n",
              "    }\n",
              "\n",
              "    .dataframe tbody tr th {\n",
              "        vertical-align: top;\n",
              "    }\n",
              "\n",
              "    .dataframe thead th {\n",
              "        text-align: right;\n",
              "    }\n",
              "</style>\n",
              "<table border=\"1\" class=\"dataframe\">\n",
              "  <thead>\n",
              "    <tr style=\"text-align: right;\">\n",
              "      <th></th>\n",
              "      <th>R-Squared</th>\n",
              "      <th>Mean Absolute Error</th>\n",
              "      <th>Mean Squared Error</th>\n",
              "      <th>ROOT MSE</th>\n",
              "      <th>MAPE</th>\n",
              "    </tr>\n",
              "  </thead>\n",
              "  <tbody>\n",
              "    <tr>\n",
              "      <th>Linear</th>\n",
              "      <td>0.933358</td>\n",
              "      <td>1.482988</td>\n",
              "      <td>4.235115</td>\n",
              "      <td>2.057939</td>\n",
              "      <td>10.748087</td>\n",
              "    </tr>\n",
              "    <tr>\n",
              "      <th>RandomForest</th>\n",
              "      <td>0.998076</td>\n",
              "      <td>0.133384</td>\n",
              "      <td>0.122262</td>\n",
              "      <td>0.349660</td>\n",
              "      <td>0.763091</td>\n",
              "    </tr>\n",
              "    <tr>\n",
              "      <th>DecisionTree</th>\n",
              "      <td>0.997000</td>\n",
              "      <td>0.137626</td>\n",
              "      <td>0.190649</td>\n",
              "      <td>0.436634</td>\n",
              "      <td>0.756420</td>\n",
              "    </tr>\n",
              "    <tr>\n",
              "      <th>KNN</th>\n",
              "      <td>0.946509</td>\n",
              "      <td>1.215167</td>\n",
              "      <td>3.399358</td>\n",
              "      <td>1.843735</td>\n",
              "      <td>8.576512</td>\n",
              "    </tr>\n",
              "    <tr>\n",
              "      <th>SVM</th>\n",
              "      <td>0.956854</td>\n",
              "      <td>1.053430</td>\n",
              "      <td>2.741896</td>\n",
              "      <td>1.655867</td>\n",
              "      <td>7.190479</td>\n",
              "    </tr>\n",
              "    <tr>\n",
              "      <th>XGB</th>\n",
              "      <td>0.982645</td>\n",
              "      <td>0.687686</td>\n",
              "      <td>1.102903</td>\n",
              "      <td>1.050192</td>\n",
              "      <td>4.823333</td>\n",
              "    </tr>\n",
              "  </tbody>\n",
              "</table>\n",
              "</div>"
            ],
            "text/plain": [
              "              R-Squared  Mean Absolute Error  ...  ROOT MSE       MAPE\n",
              "Linear         0.933358             1.482988  ...  2.057939  10.748087\n",
              "RandomForest   0.998076             0.133384  ...  0.349660   0.763091\n",
              "DecisionTree   0.997000             0.137626  ...  0.436634   0.756420\n",
              "KNN            0.946509             1.215167  ...  1.843735   8.576512\n",
              "SVM            0.956854             1.053430  ...  1.655867   7.190479\n",
              "XGB            0.982645             0.687686  ...  1.050192   4.823333\n",
              "\n",
              "[6 rows x 5 columns]"
            ]
          },
          "metadata": {},
          "execution_count": 130
        }
      ]
    },
    {
      "cell_type": "markdown",
      "metadata": {
        "id": "qzA8sFZc7-aa"
      },
      "source": [
        "The below plot is plotted for comparing the accuracy before cross validation and after cross validation.\n",
        "\n",
        "We can see that in both the cases we have higher accuracy and also their difference is very minimum.\n",
        "\n",
        "So this conveys us that the model is neither overfitting nor underfitting."
      ]
    },
    {
      "cell_type": "code",
      "metadata": {
        "colab": {
          "base_uri": "https://localhost:8080/",
          "height": 518
        },
        "id": "MxsgZHuC8gbo",
        "outputId": "e6f7c072-58a8-482d-ccdb-696e54e1ab92"
      },
      "source": [
        "barWidth = 0.25\n",
        "fig = plt.subplots(figsize =(12, 8))\n",
        "\n",
        "br1 = np.arange(len(model_list))\n",
        "br2 = [x + barWidth for x in br1]\n",
        " \n",
        "plt.bar(br1, accuracy_list, color ='g', width = barWidth,\n",
        "        edgecolor ='grey', label ='Model Accuracy')\n",
        "plt.bar(br2, cv_accuracy_list, color ='b', width = barWidth,\n",
        "        edgecolor ='grey', label ='Cross Val Accuracy')\n",
        "\n",
        "plt.xlabel('Model Name', fontweight ='bold', fontsize = 15)\n",
        "plt.ylabel('Accuracy percentage', fontweight ='bold', fontsize = 15)\n",
        "plt.xticks([r + barWidth for r in range(len(model_list))],model_list)\n",
        "plt.title(\"Regression VS Accuracy\")\n",
        " \n",
        "plt.legend()\n",
        "plt.show()"
      ],
      "execution_count": null,
      "outputs": [
        {
          "output_type": "display_data",
          "data": {
            "image/png": "[encoded data removed]",
            "text/plain": [
              "<Figure size 864x576 with 1 Axes>"
            ]
          },
          "metadata": {
            "needs_background": "light"
          }
        }
      ]
    },
    {
      "cell_type": "markdown",
      "metadata": {
        "id": "cGfTfXuP8tzK"
      },
      "source": [
        "Here we are comparing the train and test error of the model we check if the model is overfitting or underfitting.\n",
        "\n",
        "As we can see from the table as the train error is under 10% and also the test error is nearer to the train error i.e, their difference is minimum we can say that the model is not overfitted and also we can say that the model is not underfiited seeing the table."
      ]
    },
    {
      "cell_type": "code",
      "metadata": {
        "colab": {
          "base_uri": "https://localhost:8080/",
          "height": 238
        },
        "id": "aPsV9TdW8uJs",
        "outputId": "3d0519cc-a8e6-4a1b-97f9-77bdc219dd5b"
      },
      "source": [
        "col={'Train Error':train_error,'Test Error':test_error}\n",
        "models = model_list\n",
        "df3=pd.DataFrame(data=col,index=models)\n",
        "df3"
      ],
      "execution_count": null,
      "outputs": [
        {
          "output_type": "execute_result",
          "data": {
            "text/html": [
              "<div>\n",
              "<style scoped>\n",
              "    .dataframe tbody tr th:only-of-type {\n",
              "        vertical-align: middle;\n",
              "    }\n",
              "\n",
              "    .dataframe tbody tr th {\n",
              "        vertical-align: top;\n",
              "    }\n",
              "\n",
              "    .dataframe thead th {\n",
              "        text-align: right;\n",
              "    }\n",
              "</style>\n",
              "<table border=\"1\" class=\"dataframe\">\n",
              "  <thead>\n",
              "    <tr style=\"text-align: right;\">\n",
              "      <th></th>\n",
              "      <th>Train Error</th>\n",
              "      <th>Test Error</th>\n",
              "    </tr>\n",
              "  </thead>\n",
              "  <tbody>\n",
              "    <tr>\n",
              "      <th>Linear</th>\n",
              "      <td>10.95</td>\n",
              "      <td>10.75</td>\n",
              "    </tr>\n",
              "    <tr>\n",
              "      <th>RandomForest</th>\n",
              "      <td>0.34</td>\n",
              "      <td>0.76</td>\n",
              "    </tr>\n",
              "    <tr>\n",
              "      <th>DecisionTree</th>\n",
              "      <td>0.00</td>\n",
              "      <td>0.76</td>\n",
              "    </tr>\n",
              "    <tr>\n",
              "      <th>KNN</th>\n",
              "      <td>8.09</td>\n",
              "      <td>8.58</td>\n",
              "    </tr>\n",
              "    <tr>\n",
              "      <th>SVM</th>\n",
              "      <td>6.98</td>\n",
              "      <td>7.19</td>\n",
              "    </tr>\n",
              "    <tr>\n",
              "      <th>XGB</th>\n",
              "      <td>4.90</td>\n",
              "      <td>4.82</td>\n",
              "    </tr>\n",
              "  </tbody>\n",
              "</table>\n",
              "</div>"
            ],
            "text/plain": [
              "              Train Error  Test Error\n",
              "Linear              10.95       10.75\n",
              "RandomForest         0.34        0.76\n",
              "DecisionTree         0.00        0.76\n",
              "KNN                  8.09        8.58\n",
              "SVM                  6.98        7.19\n",
              "XGB                  4.90        4.82"
            ]
          },
          "metadata": {},
          "execution_count": 132
        }
      ]
    },
    {
      "cell_type": "code",
      "metadata": {
        "colab": {
          "base_uri": "https://localhost:8080/",
          "height": 344
        },
        "id": "5E-YRdwvCvGc",
        "outputId": "293daa27-d1dc-45c3-86e3-c5faf17e7888"
      },
      "source": [
        "df3.plot(kind='bar')"
      ],
      "execution_count": null,
      "outputs": [
        {
          "output_type": "execute_result",
          "data": {
            "text/plain": [
              "<matplotlib.axes._subplots.AxesSubplot at 0x7fb7eb7db790>"
            ]
          },
          "metadata": {},
          "execution_count": 133
        },
        {
          "output_type": "display_data",
          "data": {
            "image/png": "[encoded data removed]",
            "text/plain": [
              "<Figure size 432x288 with 1 Axes>"
            ]
          },
          "metadata": {
            "needs_background": "light"
          }
        }
      ]
    }
  ]
}