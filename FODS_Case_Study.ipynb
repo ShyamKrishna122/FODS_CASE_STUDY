{
  "nbformat": 4,
  "nbformat_minor": 0,
  "metadata": {
    "colab": {
      "name": "FODS_Case_Study.ipynb",
      "provenance": [],
      "collapsed_sections": [
        "hpbgYxDf0myx"
      ],
      "include_colab_link": true
    },
    "kernelspec": {
      "name": "python3",
      "display_name": "Python 3"
    }
  },
  "cells": [
    {
      "cell_type": "markdown",
      "metadata": {
        "id": "view-in-github",
        "colab_type": "text"
      },
      "source": [
        "<a href=\"https://colab.research.google.com/github/ShyamKrishna122/FODS_CASE_STUDY/blob/main/FODS_Case_Study.ipynb\" target=\"_parent\"><img src=\"https://colab.research.google.com/assets/colab-badge.svg\" alt=\"Open In Colab\"/></a>"
      ]
    },
    {
      "cell_type": "markdown",
      "metadata": {
        "id": "6Ddlo6K7cwYA"
      },
      "source": [
        "#**Fundamentals of Data Science Case Study:** \n",
        "*Dataset Used: Uber Rides Dataset*\n",
        "\n",
        "Exploring data is certainly one of the most important stages on Data Science process. Despite its simplicity, it could be a powerful tool to put you ahead on data and business context, as well as to determine crutial treatments before creating machine learning models."
      ]
    },
    {
      "cell_type": "markdown",
      "metadata": {
        "id": "lgZl1mhR7G6R"
      },
      "source": [
        "##**Data Preprocessing**"
      ]
    },
    {
      "cell_type": "markdown",
      "metadata": {
        "id": "hUxSDR2pkGC-"
      },
      "source": [
        "Importing libraries and dataset."
      ]
    },
    {
      "cell_type": "code",
      "metadata": {
        "id": "K_nLo24KkB9R"
      },
      "source": [
        "# Libraries for handling numeric computation and dataframes\n",
        "import pandas as pd\n",
        "import numpy as np\n",
        "\n",
        "# Libraries for statistical plotting\n",
        "import matplotlib.pyplot as plt\n",
        "import seaborn as sns\n",
        "%matplotlib inline\n",
        "\n",
        "from sklearn.preprocessing import MinMaxScaler\n",
        "\n",
        "# My personal data storaged in my Github repository\n",
        "rides = pd.read_csv('https://raw.githubusercontent.com/ShyamKrishna122/FODS_CASE_STUDY/main/trips_data.csv')"
      ],
      "execution_count": null,
      "outputs": []
    },
    {
      "cell_type": "markdown",
      "metadata": {
        "id": "1dn-a9dpDiEc"
      },
      "source": [
        "Checking basic dataset information (data types and dimensions)"
      ]
    },
    {
      "cell_type": "code",
      "metadata": {
        "colab": {
          "base_uri": "https://localhost:8080/"
        },
        "id": "M4tOk4R82OXH",
        "outputId": "940c79d2-0ec6-4274-b6d1-9b8feba93bcd"
      },
      "source": [
        "rides.info()"
      ],
      "execution_count": null,
      "outputs": [
        {
          "output_type": "stream",
          "name": "stdout",
          "text": [
            "<class 'pandas.core.frame.DataFrame'>\n",
            "RangeIndex: 554 entries, 0 to 553\n",
            "Data columns (total 13 columns):\n",
            " #   Column                Non-Null Count  Dtype  \n",
            "---  ------                --------------  -----  \n",
            " 0   City                  554 non-null    int64  \n",
            " 1   Product Type          551 non-null    object \n",
            " 2   Trip or Order Status  554 non-null    object \n",
            " 3   Request Time          554 non-null    object \n",
            " 4   Begin Trip Time       554 non-null    object \n",
            " 5   Begin Trip Lat        525 non-null    float64\n",
            " 6   Begin Trip Lng        525 non-null    float64\n",
            " 7   Dropoff Time          554 non-null    object \n",
            " 8   Dropoff Lat           525 non-null    float64\n",
            " 9   Dropoff Lng           525 non-null    float64\n",
            " 10  Distance (miles)      554 non-null    float64\n",
            " 11  Fare Amount           554 non-null    float64\n",
            " 12  Fare Currency         551 non-null    object \n",
            "dtypes: float64(6), int64(1), object(6)\n",
            "memory usage: 56.4+ KB\n"
          ]
        }
      ]
    },
    {
      "cell_type": "markdown",
      "metadata": {
        "id": "sduoNJwQ9u1R"
      },
      "source": [
        "***.rename( )*** method allows you to rename axis labels (indexes and columns). \n"
      ]
    },
    {
      "cell_type": "code",
      "metadata": {
        "id": "rSe6HEjG3hIF"
      },
      "source": [
        "rides.rename(columns={'Trip or Order Status': 'status', 'Request Time': 'request_time','Product Type':'product_type','Begin Trip Time':'begin_time',\n",
        "                      'Begin Trip Lat':'begin_lat','Begin Trip Lng':'begin_lng','Dropoff Time':'dropoff_time','Dropoff Lat':'dropoff_lat',\n",
        "                      'Dropoff Lng':'dropoff_lng','Distance (miles)':'distance_miles','Fare Amount':'fare_amount',\n",
        "                      'Fare Currency':'fare_currency','City':'city'}, inplace=True)"
      ],
      "execution_count": null,
      "outputs": []
    },
    {
      "cell_type": "code",
      "metadata": {
        "colab": {
          "base_uri": "https://localhost:8080/",
          "height": 371
        },
        "id": "h9GA5z8FdJA3",
        "outputId": "dad98cd8-d8f4-403c-9641-6d720b377ab0"
      },
      "source": [
        "rides.head()"
      ],
      "execution_count": null,
      "outputs": [
        {
          "output_type": "execute_result",
          "data": {
            "text/html": [
              "<div>\n",
              "<style scoped>\n",
              "    .dataframe tbody tr th:only-of-type {\n",
              "        vertical-align: middle;\n",
              "    }\n",
              "\n",
              "    .dataframe tbody tr th {\n",
              "        vertical-align: top;\n",
              "    }\n",
              "\n",
              "    .dataframe thead th {\n",
              "        text-align: right;\n",
              "    }\n",
              "</style>\n",
              "<table border=\"1\" class=\"dataframe\">\n",
              "  <thead>\n",
              "    <tr style=\"text-align: right;\">\n",
              "      <th></th>\n",
              "      <th>city</th>\n",
              "      <th>product_type</th>\n",
              "      <th>status</th>\n",
              "      <th>request_time</th>\n",
              "      <th>begin_time</th>\n",
              "      <th>begin_lat</th>\n",
              "      <th>begin_lng</th>\n",
              "      <th>dropoff_time</th>\n",
              "      <th>dropoff_lat</th>\n",
              "      <th>dropoff_lng</th>\n",
              "      <th>distance_miles</th>\n",
              "      <th>fare_amount</th>\n",
              "      <th>fare_currency</th>\n",
              "    </tr>\n",
              "  </thead>\n",
              "  <tbody>\n",
              "    <tr>\n",
              "      <th>0</th>\n",
              "      <td>458</td>\n",
              "      <td>Black</td>\n",
              "      <td>COMPLETED</td>\n",
              "      <td>2021-01-13 22:06:46 +0000 UTC</td>\n",
              "      <td>2021-01-13 22:11:10 +0000 UTC</td>\n",
              "      <td>-23.599752</td>\n",
              "      <td>-46.715954</td>\n",
              "      <td>2021-01-13 22:29:13 +0000 UTC</td>\n",
              "      <td>-23.559359</td>\n",
              "      <td>-46.666542</td>\n",
              "      <td>4.84</td>\n",
              "      <td>29.63</td>\n",
              "      <td>BRL</td>\n",
              "    </tr>\n",
              "    <tr>\n",
              "      <th>1</th>\n",
              "      <td>458</td>\n",
              "      <td>VIP</td>\n",
              "      <td>COMPLETED</td>\n",
              "      <td>2021-01-13 20:21:05 +0000 UTC</td>\n",
              "      <td>2021-01-13 20:27:29 +0000 UTC</td>\n",
              "      <td>-23.559298</td>\n",
              "      <td>-46.666454</td>\n",
              "      <td>2021-01-13 20:54:50 +0000 UTC</td>\n",
              "      <td>-23.599585</td>\n",
              "      <td>-46.715717</td>\n",
              "      <td>5.31</td>\n",
              "      <td>20.86</td>\n",
              "      <td>BRL</td>\n",
              "    </tr>\n",
              "    <tr>\n",
              "      <th>2</th>\n",
              "      <td>458</td>\n",
              "      <td>VIP</td>\n",
              "      <td>COMPLETED</td>\n",
              "      <td>2021-01-03 00:23:22 +0000 UTC</td>\n",
              "      <td>2021-01-03 00:33:00 +0000 UTC</td>\n",
              "      <td>-23.626593</td>\n",
              "      <td>-46.659410</td>\n",
              "      <td>2021-01-03 00:50:56 +0000 UTC</td>\n",
              "      <td>-23.559273</td>\n",
              "      <td>-46.666595</td>\n",
              "      <td>5.90</td>\n",
              "      <td>34.23</td>\n",
              "      <td>BRL</td>\n",
              "    </tr>\n",
              "    <tr>\n",
              "      <th>3</th>\n",
              "      <td>458</td>\n",
              "      <td>VIP</td>\n",
              "      <td>COMPLETED</td>\n",
              "      <td>2020-12-11 23:16:33 +0000 UTC</td>\n",
              "      <td>2020-12-11 23:27:32 +0000 UTC</td>\n",
              "      <td>-23.559410</td>\n",
              "      <td>-46.666435</td>\n",
              "      <td>2020-12-12 00:32:47 +0000 UTC</td>\n",
              "      <td>-23.425755</td>\n",
              "      <td>-46.481190</td>\n",
              "      <td>19.74</td>\n",
              "      <td>58.77</td>\n",
              "      <td>BRL</td>\n",
              "    </tr>\n",
              "    <tr>\n",
              "      <th>4</th>\n",
              "      <td>458</td>\n",
              "      <td>VIP</td>\n",
              "      <td>COMPLETED</td>\n",
              "      <td>2020-12-11 00:35:46 +0000 UTC</td>\n",
              "      <td>2020-12-11 00:46:46 +0000 UTC</td>\n",
              "      <td>-23.584846</td>\n",
              "      <td>-46.663590</td>\n",
              "      <td>2020-12-11 00:57:57 +0000 UTC</td>\n",
              "      <td>-23.559261</td>\n",
              "      <td>-46.666510</td>\n",
              "      <td>2.54</td>\n",
              "      <td>12.63</td>\n",
              "      <td>BRL</td>\n",
              "    </tr>\n",
              "  </tbody>\n",
              "</table>\n",
              "</div>"
            ],
            "text/plain": [
              "   city product_type     status  ... distance_miles fare_amount  fare_currency\n",
              "0   458        Black  COMPLETED  ...           4.84       29.63            BRL\n",
              "1   458          VIP  COMPLETED  ...           5.31       20.86            BRL\n",
              "2   458          VIP  COMPLETED  ...           5.90       34.23            BRL\n",
              "3   458          VIP  COMPLETED  ...          19.74       58.77            BRL\n",
              "4   458          VIP  COMPLETED  ...           2.54       12.63            BRL\n",
              "\n",
              "[5 rows x 13 columns]"
            ]
          },
          "metadata": {},
          "execution_count": 73
        }
      ]
    },
    {
      "cell_type": "code",
      "metadata": {
        "colab": {
          "base_uri": "https://localhost:8080/",
          "height": 295
        },
        "id": "ku2LfgT5vGZH",
        "outputId": "705097f0-b39a-4197-9e10-bcaf4eee021f"
      },
      "source": [
        "rides.describe()"
      ],
      "execution_count": null,
      "outputs": [
        {
          "output_type": "execute_result",
          "data": {
            "text/html": [
              "<div>\n",
              "<style scoped>\n",
              "    .dataframe tbody tr th:only-of-type {\n",
              "        vertical-align: middle;\n",
              "    }\n",
              "\n",
              "    .dataframe tbody tr th {\n",
              "        vertical-align: top;\n",
              "    }\n",
              "\n",
              "    .dataframe thead th {\n",
              "        text-align: right;\n",
              "    }\n",
              "</style>\n",
              "<table border=\"1\" class=\"dataframe\">\n",
              "  <thead>\n",
              "    <tr style=\"text-align: right;\">\n",
              "      <th></th>\n",
              "      <th>city</th>\n",
              "      <th>begin_lat</th>\n",
              "      <th>begin_lng</th>\n",
              "      <th>dropoff_lat</th>\n",
              "      <th>dropoff_lng</th>\n",
              "      <th>distance_miles</th>\n",
              "      <th>fare_amount</th>\n",
              "      <th>distance_km</th>\n",
              "      <th>amount_km</th>\n",
              "      <th>request_lead_time</th>\n",
              "      <th>trip_duration</th>\n",
              "    </tr>\n",
              "  </thead>\n",
              "  <tbody>\n",
              "    <tr>\n",
              "      <th>count</th>\n",
              "      <td>541.000000</td>\n",
              "      <td>515.000000</td>\n",
              "      <td>515.000000</td>\n",
              "      <td>515.000000</td>\n",
              "      <td>515.000000</td>\n",
              "      <td>541.000000</td>\n",
              "      <td>541.000000</td>\n",
              "      <td>541.000000</td>\n",
              "      <td>444.000000</td>\n",
              "      <td>444.000000</td>\n",
              "      <td>5.410000e+02</td>\n",
              "    </tr>\n",
              "    <tr>\n",
              "      <th>mean</th>\n",
              "      <td>470.223660</td>\n",
              "      <td>-23.560418</td>\n",
              "      <td>-46.621857</td>\n",
              "      <td>-23.567195</td>\n",
              "      <td>-46.614912</td>\n",
              "      <td>4.106377</td>\n",
              "      <td>15.861848</td>\n",
              "      <td>6.608595</td>\n",
              "      <td>3.114707</td>\n",
              "      <td>4.893243</td>\n",
              "      <td>-3.308136e+05</td>\n",
              "    </tr>\n",
              "    <tr>\n",
              "      <th>std</th>\n",
              "      <td>112.597447</td>\n",
              "      <td>0.069760</td>\n",
              "      <td>0.243102</td>\n",
              "      <td>0.070950</td>\n",
              "      <td>0.243722</td>\n",
              "      <td>3.772027</td>\n",
              "      <td>11.532966</td>\n",
              "      <td>6.070524</td>\n",
              "      <td>2.507516</td>\n",
              "      <td>2.961041</td>\n",
              "      <td>2.893255e+06</td>\n",
              "    </tr>\n",
              "    <tr>\n",
              "      <th>min</th>\n",
              "      <td>296.000000</td>\n",
              "      <td>-23.975843</td>\n",
              "      <td>-46.837136</td>\n",
              "      <td>-23.975839</td>\n",
              "      <td>-46.837120</td>\n",
              "      <td>0.000000</td>\n",
              "      <td>0.000000</td>\n",
              "      <td>0.000000</td>\n",
              "      <td>0.000000</td>\n",
              "      <td>0.500000</td>\n",
              "      <td>-2.634835e+07</td>\n",
              "    </tr>\n",
              "    <tr>\n",
              "      <th>25%</th>\n",
              "      <td>458.000000</td>\n",
              "      <td>-23.602638</td>\n",
              "      <td>-46.666396</td>\n",
              "      <td>-23.611168</td>\n",
              "      <td>-46.666382</td>\n",
              "      <td>1.190000</td>\n",
              "      <td>7.880000</td>\n",
              "      <td>1.920000</td>\n",
              "      <td>2.207500</td>\n",
              "      <td>3.000000</td>\n",
              "      <td>5.800000e+00</td>\n",
              "    </tr>\n",
              "    <tr>\n",
              "      <th>50%</th>\n",
              "      <td>458.000000</td>\n",
              "      <td>-23.559439</td>\n",
              "      <td>-46.644786</td>\n",
              "      <td>-23.568158</td>\n",
              "      <td>-46.637291</td>\n",
              "      <td>3.450000</td>\n",
              "      <td>14.510000</td>\n",
              "      <td>5.550000</td>\n",
              "      <td>2.630000</td>\n",
              "      <td>4.300000</td>\n",
              "      <td>1.580000e+01</td>\n",
              "    </tr>\n",
              "    <tr>\n",
              "      <th>75%</th>\n",
              "      <td>458.000000</td>\n",
              "      <td>-23.503629</td>\n",
              "      <td>-46.624973</td>\n",
              "      <td>-23.504681</td>\n",
              "      <td>-46.618351</td>\n",
              "      <td>6.030000</td>\n",
              "      <td>24.390000</td>\n",
              "      <td>9.700000</td>\n",
              "      <td>3.712500</td>\n",
              "      <td>6.125000</td>\n",
              "      <td>2.600000e+01</td>\n",
              "    </tr>\n",
              "    <tr>\n",
              "      <th>max</th>\n",
              "      <td>1449.000000</td>\n",
              "      <td>-22.903051</td>\n",
              "      <td>-43.105089</td>\n",
              "      <td>-22.902098</td>\n",
              "      <td>-43.114359</td>\n",
              "      <td>19.740000</td>\n",
              "      <td>58.770000</td>\n",
              "      <td>31.770000</td>\n",
              "      <td>46.960000</td>\n",
              "      <td>26.600000</td>\n",
              "      <td>9.180000e+01</td>\n",
              "    </tr>\n",
              "  </tbody>\n",
              "</table>\n",
              "</div>"
            ],
            "text/plain": [
              "              city   begin_lat  ...  request_lead_time  trip_duration\n",
              "count   541.000000  515.000000  ...         444.000000   5.410000e+02\n",
              "mean    470.223660  -23.560418  ...           4.893243  -3.308136e+05\n",
              "std     112.597447    0.069760  ...           2.961041   2.893255e+06\n",
              "min     296.000000  -23.975843  ...           0.500000  -2.634835e+07\n",
              "25%     458.000000  -23.602638  ...           3.000000   5.800000e+00\n",
              "50%     458.000000  -23.559439  ...           4.300000   1.580000e+01\n",
              "75%     458.000000  -23.503629  ...           6.125000   2.600000e+01\n",
              "max    1449.000000  -22.903051  ...          26.600000   9.180000e+01\n",
              "\n",
              "[8 rows x 11 columns]"
            ]
          },
          "metadata": {},
          "execution_count": 122
        }
      ]
    },
    {
      "cell_type": "markdown",
      "metadata": {
        "id": "O2L8t9S6Okh4"
      },
      "source": [
        "Taking a look on the **continuous variables**, we notice the presence of some outliers. However **these outliers do not seem to reflect any abnormal value** (e.g. fare_amount = 1000 BRL), which may let us a little bit more comfortable.\n",
        "\n",
        "*In case abnormal values are found, some treatment should be probably considered (e.g. outliers replacement/removal).*"
      ]
    },
    {
      "cell_type": "code",
      "metadata": {
        "colab": {
          "base_uri": "https://localhost:8080/"
        },
        "id": "-m9Tso3UpWhu",
        "outputId": "50e62972-4e79-4898-e91a-36b394231784"
      },
      "source": [
        "df2 = rides[rides.product_type!='UberEATS Marketplace']\n",
        "a = df2['fare_amount'].tolist()\n",
        "q1 = np.quantile(a,0.25)\n",
        "q3 = np.quantile(a,0.75)\n",
        "\n",
        "med = np.median(a)\n",
        "\n",
        "iqr = q3-q1\n",
        "\n",
        "print(\"IQR:\",iqr)\n",
        "\n",
        "u_b = q3+(1.5*iqr)\n",
        "l_b = q1-(1.5*iqr)\n",
        "\n",
        "print(\"Lower_Bound:\",l_b)\n",
        "\n",
        "print(\"Upper_Bound:\",u_b)\n",
        "\n",
        "\n",
        "for i in a:\n",
        "  if(i<=l_b or i>=u_b):\n",
        "    print(\"Outliers:\",i)"
      ],
      "execution_count": null,
      "outputs": [
        {
          "output_type": "stream",
          "name": "stdout",
          "text": [
            "IQR: 16.465000000000003\n",
            "Lower_Bound: -16.847500000000004\n",
            "Upper_Bound: 49.0125\n",
            "Outliers: 58.77\n",
            "Outliers: 51.01\n"
          ]
        }
      ]
    },
    {
      "cell_type": "code",
      "metadata": {
        "colab": {
          "base_uri": "https://localhost:8080/",
          "height": 321
        },
        "id": "PL8Pp4ue_Ule",
        "outputId": "a66bbbcf-5647-4076-93eb-67c179123600"
      },
      "source": [
        "df1 = rides[['distance_miles','fare_amount']]\n",
        "\n",
        "print(df1.describe().transpose().round(1));\n",
        "df1.boxplot(grid=False);"
      ],
      "execution_count": null,
      "outputs": [
        {
          "output_type": "stream",
          "name": "stdout",
          "text": [
            "                count  mean   std  min  25%   50%   75%   max\n",
            "distance_miles  554.0   4.0   3.8  0.0  1.2   3.3   6.0  19.7\n",
            "fare_amount     554.0  16.3  12.4  0.0  7.9  15.1  24.7  95.4\n"
          ]
        },
        {
          "output_type": "display_data",
          "data": {
            "image/png": "[encoded data removed]",
            "text/plain": [
              "<Figure size 432x288 with 1 Axes>"
            ]
          },
          "metadata": {
            "needs_background": "light"
          }
        }
      ]
    },
    {
      "cell_type": "markdown",
      "metadata": {
        "id": "HEBLSKzLPE8Y"
      },
      "source": [
        "Not surprisingly we have a **strong correlation** between 'fare_amount' and 'distance_miles', inferring that **as much you stay on the ride, higher will the fare be**."
      ]
    },
    {
      "cell_type": "code",
      "metadata": {
        "colab": {
          "base_uri": "https://localhost:8080/",
          "height": 284
        },
        "id": "aahjef7_jjmf",
        "outputId": "6db5f0e6-41cf-43b6-9151-03e5658315d9"
      },
      "source": [
        "sns.scatterplot(x='distance_miles',y='fare_amount',data=df1);"
      ],
      "execution_count": null,
      "outputs": [
        {
          "output_type": "display_data",
          "data": {
            "image/png": "[encoded data removed]",
            "text/plain": [
              "<Figure size 432x288 with 1 Axes>"
            ]
          },
          "metadata": {
            "needs_background": "light"
          }
        }
      ]
    },
    {
      "cell_type": "markdown",
      "metadata": {
        "id": "hbTPzZ2AY2DJ"
      },
      "source": [
        "##**1) Data Preparation**"
      ]
    },
    {
      "cell_type": "markdown",
      "metadata": {
        "id": "8_k9HlPzDazo"
      },
      "source": [
        "Remove the column **fare_currency**, since all the trips happened inside a single country (Brazil), all entry has fare_currency = 'BRL'"
      ]
    },
    {
      "cell_type": "code",
      "metadata": {
        "id": "lvy85hm0_7cS"
      },
      "source": [
        "rides.pop('fare_currency');"
      ],
      "execution_count": null,
      "outputs": []
    },
    {
      "cell_type": "markdown",
      "metadata": {
        "id": "rJa1ydO_Fp5d"
      },
      "source": [
        "Now let's check existance of ***missing values***."
      ]
    },
    {
      "cell_type": "code",
      "metadata": {
        "colab": {
          "base_uri": "https://localhost:8080/"
        },
        "id": "7ZGFSUfGrRTE",
        "outputId": "126ddf17-d516-45d4-f981-323a6e122f29"
      },
      "source": [
        "rides.isnull().sum().sort_values(ascending=False)"
      ],
      "execution_count": null,
      "outputs": [
        {
          "output_type": "execute_result",
          "data": {
            "text/plain": [
              "dropoff_lng       29\n",
              "dropoff_lat       29\n",
              "begin_lng         29\n",
              "begin_lat         29\n",
              "product_type       3\n",
              "fare_amount        0\n",
              "distance_miles     0\n",
              "dropoff_time       0\n",
              "begin_time         0\n",
              "request_time       0\n",
              "status             0\n",
              "city               0\n",
              "dtype: int64"
            ]
          },
          "metadata": {},
          "execution_count": 79
        }
      ]
    },
    {
      "cell_type": "markdown",
      "metadata": {
        "id": "VKElsSTRyYee"
      },
      "source": [
        "There were found 3 records without ```product_type```.\n",
        "As shown below, these records are insignificant to my dataset, since practically no columns are fulfilled."
      ]
    },
    {
      "cell_type": "code",
      "metadata": {
        "colab": {
          "base_uri": "https://localhost:8080/",
          "height": 192
        },
        "id": "ni6-PxGYy5XN",
        "outputId": "10883602-dbed-4f68-bff6-018d8228136d"
      },
      "source": [
        "rides[rides.product_type.isnull()]"
      ],
      "execution_count": null,
      "outputs": [
        {
          "output_type": "execute_result",
          "data": {
            "text/html": [
              "<div>\n",
              "<style scoped>\n",
              "    .dataframe tbody tr th:only-of-type {\n",
              "        vertical-align: middle;\n",
              "    }\n",
              "\n",
              "    .dataframe tbody tr th {\n",
              "        vertical-align: top;\n",
              "    }\n",
              "\n",
              "    .dataframe thead th {\n",
              "        text-align: right;\n",
              "    }\n",
              "</style>\n",
              "<table border=\"1\" class=\"dataframe\">\n",
              "  <thead>\n",
              "    <tr style=\"text-align: right;\">\n",
              "      <th></th>\n",
              "      <th>city</th>\n",
              "      <th>product_type</th>\n",
              "      <th>status</th>\n",
              "      <th>request_time</th>\n",
              "      <th>begin_time</th>\n",
              "      <th>begin_lat</th>\n",
              "      <th>begin_lng</th>\n",
              "      <th>dropoff_time</th>\n",
              "      <th>dropoff_lat</th>\n",
              "      <th>dropoff_lng</th>\n",
              "      <th>distance_miles</th>\n",
              "      <th>fare_amount</th>\n",
              "    </tr>\n",
              "  </thead>\n",
              "  <tbody>\n",
              "    <tr>\n",
              "      <th>281</th>\n",
              "      <td>458</td>\n",
              "      <td>NaN</td>\n",
              "      <td>UNFULFILLED</td>\n",
              "      <td>2018-05-26 18:36:51 +0000 UTC</td>\n",
              "      <td>1970-01-01 00:00:00 +0000 UTC</td>\n",
              "      <td>NaN</td>\n",
              "      <td>NaN</td>\n",
              "      <td>1970-01-01 00:00:00 +0000 UTC</td>\n",
              "      <td>NaN</td>\n",
              "      <td>NaN</td>\n",
              "      <td>0.0</td>\n",
              "      <td>0.0</td>\n",
              "    </tr>\n",
              "    <tr>\n",
              "      <th>362</th>\n",
              "      <td>1449</td>\n",
              "      <td>NaN</td>\n",
              "      <td>UNFULFILLED</td>\n",
              "      <td>2018-02-13 01:59:25 +0000 UTC</td>\n",
              "      <td>1970-01-01 00:00:00 +0000 UTC</td>\n",
              "      <td>NaN</td>\n",
              "      <td>NaN</td>\n",
              "      <td>1970-01-01 00:00:00 +0000 UTC</td>\n",
              "      <td>NaN</td>\n",
              "      <td>NaN</td>\n",
              "      <td>0.0</td>\n",
              "      <td>0.0</td>\n",
              "    </tr>\n",
              "    <tr>\n",
              "      <th>392</th>\n",
              "      <td>1449</td>\n",
              "      <td>NaN</td>\n",
              "      <td>UNFULFILLED</td>\n",
              "      <td>2018-01-01 04:44:10 +0000 UTC</td>\n",
              "      <td>1970-01-01 00:00:00 +0000 UTC</td>\n",
              "      <td>NaN</td>\n",
              "      <td>NaN</td>\n",
              "      <td>1970-01-01 00:00:00 +0000 UTC</td>\n",
              "      <td>NaN</td>\n",
              "      <td>NaN</td>\n",
              "      <td>0.0</td>\n",
              "      <td>0.0</td>\n",
              "    </tr>\n",
              "  </tbody>\n",
              "</table>\n",
              "</div>"
            ],
            "text/plain": [
              "     city product_type       status  ... dropoff_lng distance_miles  fare_amount\n",
              "281   458          NaN  UNFULFILLED  ...         NaN            0.0          0.0\n",
              "362  1449          NaN  UNFULFILLED  ...         NaN            0.0          0.0\n",
              "392  1449          NaN  UNFULFILLED  ...         NaN            0.0          0.0\n",
              "\n",
              "[3 rows x 12 columns]"
            ]
          },
          "metadata": {},
          "execution_count": 80
        }
      ]
    },
    {
      "cell_type": "markdown",
      "metadata": {
        "id": "zLJOJUExWdP5"
      },
      "source": [
        "So now, remove these 3 records before proceding."
      ]
    },
    {
      "cell_type": "code",
      "metadata": {
        "id": "6FjHhyQx00Gy"
      },
      "source": [
        "rides.dropna(subset = ['product_type'], inplace=True)"
      ],
      "execution_count": null,
      "outputs": []
    },
    {
      "cell_type": "markdown",
      "metadata": {
        "id": "QSI5yRNZKbNM"
      },
      "source": [
        "##**1.1 Data Cleansing**: Categorical features"
      ]
    },
    {
      "cell_type": "markdown",
      "metadata": {
        "id": "Rvb1PZ3YWt1N"
      },
      "source": [
        "While analysing the first categorical column **```<product_type>```**, we could clearly see that some work was necessary, since we could find different values referring to the same category. Then, we **summarized 15 original categories in 5 ones**."
      ]
    },
    {
      "cell_type": "code",
      "metadata": {
        "colab": {
          "base_uri": "https://localhost:8080/"
        },
        "id": "Aa6c4tprdK9w",
        "outputId": "fae85ab4-a315-4730-a5d7-b07799f73970"
      },
      "source": [
        "# Checking categories in product_type column\n",
        "print(rides.product_type.value_counts())\n",
        "\n",
        "# Categories reclassification\n",
        "product_mapping = {'UberX':'UberX','uberX':'UberX','uberX VIP':'UberX','VIP':'UberX','POOL':'Pool','POOL: MATCHED':'Pool','UberBLACK': 'Black',\n",
        "                   'uberx':'UberX','uberPOOL':'Pool','uberPOOL: MATCHED':'Pool','Pool: MATCHED':'Pool'}\n",
        "\n",
        "rides['product_type'].replace(product_mapping, inplace=True)\n",
        "\n",
        "print(rides.product_type.value_counts())"
      ],
      "execution_count": null,
      "outputs": [
        {
          "output_type": "stream",
          "name": "stdout",
          "text": [
            "UberX                   169\n",
            "uberX                   144\n",
            "uberX VIP                81\n",
            "VIP                      71\n",
            "POOL                     36\n",
            "Pool                     12\n",
            "UberEATS Marketplace     10\n",
            "POOL: MATCHED             8\n",
            "uberPOOL: MATCHED         5\n",
            "uberPOOL                  5\n",
            "Pool: MATCHED             4\n",
            "Black                     3\n",
            "Juntos                    1\n",
            "UberBLACK                 1\n",
            "uberx                     1\n",
            "Name: product_type, dtype: int64\n",
            "UberX                   466\n",
            "Pool                     70\n",
            "UberEATS Marketplace     10\n",
            "Black                     4\n",
            "Juntos                    1\n",
            "Name: product_type, dtype: int64\n"
          ]
        }
      ]
    },
    {
      "cell_type": "markdown",
      "metadata": {
        "id": "7qXNalc3Jwzr"
      },
      "source": [
        "As the scope of this analysis is only around Uber rides, we removed ***UberEATS*** records from my dataset. "
      ]
    },
    {
      "cell_type": "code",
      "metadata": {
        "id": "R4NGTWtoVY0A"
      },
      "source": [
        "rides = rides[rides.product_type!='UberEATS Marketplace']"
      ],
      "execution_count": null,
      "outputs": []
    },
    {
      "cell_type": "markdown",
      "metadata": {
        "id": "UybCyNJsOVNg"
      },
      "source": [
        "Our second categorical feature ```<status>``` seems well classified in 3 status, which will not require any kind of treatment."
      ]
    },
    {
      "cell_type": "code",
      "metadata": {
        "colab": {
          "base_uri": "https://localhost:8080/"
        },
        "id": "XVFSlJPtPAJD",
        "outputId": "f9bf3e62-6780-422b-8a9b-e1401035469c"
      },
      "source": [
        "rides.status.value_counts()"
      ],
      "execution_count": null,
      "outputs": [
        {
          "output_type": "execute_result",
          "data": {
            "text/plain": [
              "COMPLETED          444\n",
              "CANCELED            87\n",
              "DRIVER_CANCELED     10\n",
              "Name: status, dtype: int64"
            ]
          },
          "metadata": {},
          "execution_count": 84
        }
      ]
    },
    {
      "cell_type": "markdown",
      "metadata": {
        "id": "ls6vRfYJQmdh"
      },
      "source": [
        "##**1.2 Data Transformation:** Handling dates"
      ]
    },
    {
      "cell_type": "markdown",
      "metadata": {
        "id": "XSA4XK3vSXZf"
      },
      "source": [
        "**Dates** usually increase a lot your power of analysis, since you can break it down to different parts and generate insights from different perspectives. As previously shown, our dates features are in fact **object data types**, so we need to **convert them into datetime format**."
      ]
    },
    {
      "cell_type": "code",
      "metadata": {
        "id": "t5sDnyCsjRIY"
      },
      "source": [
        "# Library for manipulating dates and times\n",
        "from datetime import datetime\n",
        "from datetime import timedelta\n",
        "\n",
        "# Function to convert features to datetime\n",
        "def date_convertion(df, cols):\n",
        "\n",
        "  for col in cols:\n",
        "    df[col] = df[col].apply(lambda x: x.replace(' +0000 UTC', ''))\n",
        "    df[col] = pd.to_datetime(df[col])\n",
        "    \n",
        "  return df\n",
        "\n",
        "# Applying date_convertion function to date features \n",
        "rides = date_convertion(rides, ['request_time', 'begin_time', 'dropoff_time'])"
      ],
      "execution_count": null,
      "outputs": []
    },
    {
      "cell_type": "code",
      "metadata": {
        "id": "05InR_YJPd2H"
      },
      "source": [
        "rides['year'] = rides.request_time.map(lambda x: datetime.strftime(x,\"%Y\"))\n",
        "rides['month'] = rides.request_time.map(lambda x: datetime.strftime(x,\"%b\"))\n",
        "rides['weekday'] = rides.request_time.map(lambda x: datetime.strftime(x,\"%a\"))\n",
        "rides['time'] = rides.request_time.map(lambda x: datetime.strftime(x,\"%H:%M\"))"
      ],
      "execution_count": null,
      "outputs": []
    },
    {
      "cell_type": "markdown",
      "metadata": {
        "id": "YSSXBsEfc2WG"
      },
      "source": [
        "##**1.3 Feature Creation:** Creating new features"
      ]
    },
    {
      "cell_type": "markdown",
      "metadata": {
        "id": "xxsDik38dOIw"
      },
      "source": [
        "Based on ```<fare_amount>``` and ```<distance_miles>``` features we've created a new feature called ```<amount_km>```, which would help us understand **how much is payed by kilometer traveled**."
      ]
    },
    {
      "cell_type": "code",
      "metadata": {
        "id": "nk_xnb9IR9Fz"
      },
      "source": [
        "rides['distance_km'] = round(rides.distance_miles*1.60934,2)\n",
        "rides['amount_km'] = round(rides.fare_amount/rides.distance_km,2)"
      ],
      "execution_count": null,
      "outputs": []
    },
    {
      "cell_type": "markdown",
      "metadata": {
        "id": "VvCaj9rtfyyC"
      },
      "source": [
        "Delta time between ```<request_time>``` and ```<begin_time>``` will let us now **how much time (in minutes) I usually waited for Uber cars to arrive at my destination**. In this case, it was calculated in a minutes base."
      ]
    },
    {
      "cell_type": "code",
      "metadata": {
        "id": "-apIm6KdrWn_"
      },
      "source": [
        "rides['request_lead_time'] = rides.begin_time - rides.request_time\n",
        "rides['request_lead_time'] = rides['request_lead_time'].apply(lambda x: round(x.total_seconds()/60,1))"
      ],
      "execution_count": null,
      "outputs": []
    },
    {
      "cell_type": "markdown",
      "metadata": {
        "id": "KV91zLsRect4"
      },
      "source": [
        "Similarly, delta time between ```<dropoff_time>``` and ```<begin_time>``` will let us now **how much time (in minutes) was spent on each trip**."
      ]
    },
    {
      "cell_type": "code",
      "metadata": {
        "id": "yfvRDPJ2edP4"
      },
      "source": [
        "rides['trip_duration'] = rides.dropoff_time - rides.begin_time\n",
        "rides['trip_duration'] = rides['trip_duration'].apply(lambda x: round(x.total_seconds()/60,1))"
      ],
      "execution_count": null,
      "outputs": []
    },
    {
      "cell_type": "markdown",
      "metadata": {
        "id": "WAuYE7OvhcEY"
      },
      "source": [
        "As features in records with **Canceled** and **Driver_Cancelled status** will not be useful for my analysis, set them as **null values** to clean up."
      ]
    },
    {
      "cell_type": "code",
      "metadata": {
        "id": "7Fi0Qowq7g3M"
      },
      "source": [
        "rides.loc[(rides.status == 'CANCELED') | (rides.status == 'DRIVER_CANCELED'),'request_lead_time']=np.nan\n",
        "rides.loc[(rides.status == 'CANCELED') | (rides.status == 'DRIVER_CANCELED'),'amount_km']=np.nan\n",
        "rides.loc[(rides.status == 'CANCELED') | (rides.status == 'DRIVER_CANCELED'),['begin_time','dropoff_time']]= np.nan"
      ],
      "execution_count": null,
      "outputs": []
    },
    {
      "cell_type": "markdown",
      "metadata": {
        "id": "II9jXMiyeDhV"
      },
      "source": [
        "##**Data Analysis & Visulization:**"
      ]
    },
    {
      "cell_type": "code",
      "metadata": {
        "id": "1-kM99_liVht"
      },
      "source": [
        "completed_rides = rides[(rides.status!='CANCELED')&(rides.status!='DRIVER_CANCELED')] "
      ],
      "execution_count": null,
      "outputs": []
    },
    {
      "cell_type": "markdown",
      "metadata": {
        "id": "gcUZ0H_GaRO9"
      },
      "source": [
        "###**How many trips I did over the years?**\n",
        "\n",
        "A total of **444 trips** were completed from Apr'16 to Jan'21. If we disconsider 2016 and 2021 (not full years), we can clearly see that from **2017 to 2019 the average rides per year is 124**, and that there is a **huge drop from 2019 to 2020 (-51%)**. This is easily explained by the COVID outbreak.\n",
        "\n",
        "*Now, imagine if we extrapolate this result to all Uber users...*"
      ]
    },
    {
      "cell_type": "code",
      "metadata": {
        "colab": {
          "base_uri": "https://localhost:8080/",
          "height": 414
        },
        "id": "8JfR6zeaf1n0",
        "outputId": "1489a84c-5393-4e16-d458-a8e7f4b2f02d"
      },
      "source": [
        "print('Total trips: ', completed_rides.status.count())\n",
        "print(completed_rides.year.value_counts().sort_index(ascending=True))\n",
        "sns.countplot(data=completed_rides, x='year',order=['2016','2017','2018','2019','2020','2021'], palette='pastel');"
      ],
      "execution_count": null,
      "outputs": [
        {
          "output_type": "stream",
          "name": "stdout",
          "text": [
            "Total trips:  444\n",
            "2016     17\n",
            "2017    120\n",
            "2018    146\n",
            "2019    106\n",
            "2020     52\n",
            "2021      3\n",
            "Name: year, dtype: int64\n"
          ]
        },
        {
          "output_type": "display_data",
          "data": {
            "image/png": "[encoded data removed]",
            "text/plain": [
              "<Figure size 432x288 with 1 Axes>"
            ]
          },
          "metadata": {
            "needs_background": "light"
          }
        }
      ]
    },
    {
      "cell_type": "markdown",
      "metadata": {
        "id": "tPzS6QKNc42V"
      },
      "source": [
        "###**How many trips were completed or canceled?**\n",
        "\n"
      ]
    },
    {
      "cell_type": "markdown",
      "metadata": {
        "id": "Jfpq7KE4cocP"
      },
      "source": [
        "Looking at the stacked bars below, we can see that **excluding 2015 and 2021**, 2020 has the highest cancelation ratem. This could be an alarming indicator, considering the drastical impacts caused to the businesses after Covid outbreak. In overall, **cancelation rate was 17.9%** (considering RIDERS and DRIVERS cancelations)."
      ]
    },
    {
      "cell_type": "code",
      "metadata": {
        "colab": {
          "base_uri": "https://localhost:8080/",
          "height": 363
        },
        "id": "lWXrW6JFg4QY",
        "outputId": "7f29275e-aa37-496b-f560-75f96f17b602"
      },
      "source": [
        "print('Total trips: ', rides.status.count())\n",
        "print(round(rides.status.value_counts()/rides.status.size*100,1))\n",
        "sns.countplot(data=rides, x='year', order=['2015','2016','2017','2018','2019','2020','2021'], hue='status', palette='coolwarm');"
      ],
      "execution_count": null,
      "outputs": [
        {
          "output_type": "stream",
          "name": "stdout",
          "text": [
            "Total trips:  541\n",
            "COMPLETED          82.1\n",
            "CANCELED           16.1\n",
            "DRIVER_CANCELED     1.8\n",
            "Name: status, dtype: float64\n"
          ]
        },
        {
          "output_type": "display_data",
          "data": {
            "image/png": "[encoded data removed]",
            "text/plain": [
              "<Figure size 432x288 with 1 Axes>"
            ]
          },
          "metadata": {
            "needs_background": "light"
          }
        }
      ]
    },
    {
      "cell_type": "markdown",
      "metadata": {
        "id": "lIEvZnnmdV3z"
      },
      "source": [
        "###**Where most of the dropoffs ocurred?**\n",
        "\n",
        "The following heatmap dynamically shows the most frequented areas throughout different hues and intensities. This could be a valuable information for Uber to adjust prices and optimize demand in certain regions, also combining time space data to track users behaviours."
      ]
    },
    {
      "cell_type": "code",
      "metadata": {
        "colab": {
          "base_uri": "https://localhost:8080/",
          "height": 829
        },
        "id": "I2F-PzI9Cfc6",
        "outputId": "d1b83af7-ac7b-487d-ab60-1b208976df75"
      },
      "source": [
        "import folium\n",
        "from folium import plugins\n",
        "\n",
        "coord=[]\n",
        "for lat,lng in zip(completed_rides.dropoff_lat.values,completed_rides.dropoff_lng.values):\n",
        "  coord.append([lat,lng])\n",
        "\n",
        "map = folium.Map(\n",
        "    location=[-23.5489,-46.6388],\n",
        "    tiles='Stamen Terrain',\n",
        "    zoom_start=7,\n",
        "    width='80%', \n",
        "    height='50%',\n",
        "    control_scale=True)\n",
        "\n",
        "map.add_child(plugins.HeatMap(coord))\n",
        "        \n",
        "map"
      ],
      "execution_count": null,
      "outputs": [
        {
          "output_type": "execute_result",
          "data": {
            "text/html": [
              "<div style=\"width:100%;\"><div style=\"position:relative;width:100%;height:0;padding-bottom:60%;\"><span style=\"color:#565656\">Make this Notebook Trusted to load map: File -> Trust Notebook</span><iframe src=\"about:blank\" style=\"position:absolute;width:100%;height:100%;left:0;top:0;border:none !important;\" data-html=%3C%21DOCTYPE%20html%3E%0A%3Chead%3E%20%20%20%20%0A%20%20%20%20%3Cmeta%20http-equiv%3D%22content-type%22%20content%3D%22text/html%3B%20charset%3DUTF-8%22%20/%3E%0A%20%20%20%20%3Cscript%3EL_PREFER_CANVAS%3Dfalse%3B%20L_NO_TOUCH%3Dfalse%3B%20L_DISABLE_3D%3Dfalse%3B%3C/script%3E%0A%20%20%20%20%3Cscript%20src%3D%22https%3A//cdn.jsdelivr.net/npm/leaflet%401.4.0/dist/leaflet.js%22%3E%3C/script%3E%0A%20%20%20%20%3Cscript%20src%3D%22https%3A//code.jquery.com/jquery-1.12.4.min.js%22%3E%3C/script%3E%0A%20%20%20%20%3Cscript%20src%3D%22https%3A//maxcdn.bootstrapcdn.com/bootstrap/3.2.0/js/bootstrap.min.js%22%3E%3C/script%3E%0A%20%20%20%20%3Cscript%20src%3D%22https%3A//cdnjs.cloudflare.com/ajax/libs/Leaflet.awesome-markers/2.0.2/leaflet.awesome-markers.js%22%3E%3C/script%3E%0A%20%20%20%20%3Clink%20rel%3D%22stylesheet%22%20href%3D%22https%3A//cdn.jsdelivr.net/npm/leaflet%401.4.0/dist/leaflet.css%22/%3E%0A%20%20%20%20%3Clink%20rel%3D%22stylesheet%22%20href%3D%22https%3A//maxcdn.bootstrapcdn.com/bootstrap/3.2.0/css/bootstrap.min.css%22/%3E%0A%20%20%20%20%3Clink%20rel%3D%22stylesheet%22%20href%3D%22https%3A//maxcdn.bootstrapcdn.com/bootstrap/3.2.0/css/bootstrap-theme.min.css%22/%3E%0A%20%20%20%20%3Clink%20rel%3D%22stylesheet%22%20href%3D%22https%3A//maxcdn.bootstrapcdn.com/font-awesome/4.6.3/css/font-awesome.min.css%22/%3E%0A%20%20%20%20%3Clink%20rel%3D%22stylesheet%22%20href%3D%22https%3A//cdnjs.cloudflare.com/ajax/libs/Leaflet.awesome-markers/2.0.2/leaflet.awesome-markers.css%22/%3E%0A%20%20%20%20%3Clink%20rel%3D%22stylesheet%22%20href%3D%22https%3A//rawcdn.githack.com/python-visualization/folium/master/folium/templates/leaflet.awesome.rotate.css%22/%3E%0A%20%20%20%20%3Cstyle%3Ehtml%2C%20body%20%7Bwidth%3A%20100%25%3Bheight%3A%20100%25%3Bmargin%3A%200%3Bpadding%3A%200%3B%7D%3C/style%3E%0A%20%20%20%20%3Cstyle%3E%23map%20%7Bposition%3Aabsolute%3Btop%3A0%3Bbottom%3A0%3Bright%3A0%3Bleft%3A0%3B%7D%3C/style%3E%0A%20%20%20%20%0A%20%20%20%20%3Cmeta%20name%3D%22viewport%22%20content%3D%22width%3Ddevice-width%2C%0A%20%20%20%20%20%20%20%20initial-scale%3D1.0%2C%20maximum-scale%3D1.0%2C%20user-scalable%3Dno%22%20/%3E%0A%20%20%20%20%3Cstyle%3E%23map_aa11267e183d4551ab2169f966be4f16%20%7B%0A%20%20%20%20%20%20%20%20position%3A%20relative%3B%0A%20%20%20%20%20%20%20%20width%3A%2080.0%25%3B%0A%20%20%20%20%20%20%20%20height%3A%2050.0%25%3B%0A%20%20%20%20%20%20%20%20left%3A%200.0%25%3B%0A%20%20%20%20%20%20%20%20top%3A%200.0%25%3B%0A%20%20%20%20%20%20%20%20%7D%0A%20%20%20%20%3C/style%3E%0A%20%20%20%20%3Cscript%20src%3D%22https%3A//leaflet.github.io/Leaflet.heat/dist/leaflet-heat.js%22%3E%3C/script%3E%0A%3C/head%3E%0A%3Cbody%3E%20%20%20%20%0A%20%20%20%20%0A%20%20%20%20%3Cdiv%20class%3D%22folium-map%22%20id%3D%22map_aa11267e183d4551ab2169f966be4f16%22%20%3E%3C/div%3E%0A%3C/body%3E%0A%3Cscript%3E%20%20%20%20%0A%20%20%20%20%0A%20%20%20%20%0A%20%20%20%20%20%20%20%20var%20bounds%20%3D%20null%3B%0A%20%20%20%20%0A%0A%20%20%20%20var%20map_aa11267e183d4551ab2169f966be4f16%20%3D%20L.map%28%0A%20%20%20%20%20%20%20%20%27map_aa11267e183d4551ab2169f966be4f16%27%2C%20%7B%0A%20%20%20%20%20%20%20%20center%3A%20%5B-23.5489%2C%20-46.6388%5D%2C%0A%20%20%20%20%20%20%20%20zoom%3A%207%2C%0A%20%20%20%20%20%20%20%20maxBounds%3A%20bounds%2C%0A%20%20%20%20%20%20%20%20layers%3A%20%5B%5D%2C%0A%20%20%20%20%20%20%20%20worldCopyJump%3A%20false%2C%0A%20%20%20%20%20%20%20%20crs%3A%20L.CRS.EPSG3857%2C%0A%20%20%20%20%20%20%20%20zoomControl%3A%20true%2C%0A%20%20%20%20%20%20%20%20%7D%29%3B%0AL.control.scale%28%29.addTo%28map_aa11267e183d4551ab2169f966be4f16%29%3B%0A%0A%20%20%20%20%0A%20%20%20%20var%20tile_layer_46d9d8bc335e420ebef3aa0f5915d5e7%20%3D%20L.tileLayer%28%0A%20%20%20%20%20%20%20%20%27https%3A//stamen-tiles-%7Bs%7D.a.ssl.fastly.net/terrain/%7Bz%7D/%7Bx%7D/%7By%7D.jpg%27%2C%0A%20%20%20%20%20%20%20%20%7B%0A%20%20%20%20%20%20%20%20%22attribution%22%3A%20null%2C%0A%20%20%20%20%20%20%20%20%22detectRetina%22%3A%20false%2C%0A%20%20%20%20%20%20%20%20%22maxNativeZoom%22%3A%2018%2C%0A%20%20%20%20%20%20%20%20%22maxZoom%22%3A%2018%2C%0A%20%20%20%20%20%20%20%20%22minZoom%22%3A%200%2C%0A%20%20%20%20%20%20%20%20%22noWrap%22%3A%20false%2C%0A%20%20%20%20%20%20%20%20%22opacity%22%3A%201%2C%0A%20%20%20%20%20%20%20%20%22subdomains%22%3A%20%22abc%22%2C%0A%20%20%20%20%20%20%20%20%22tms%22%3A%20false%0A%7D%29.addTo%28map_aa11267e183d4551ab2169f966be4f16%29%3B%0A%20%20%20%20%0A%20%20%20%20%20%20%20%20%20%20%20%20var%20heat_map_f5fbdf51a81d4ddd9a7a8a8332ae02c7%20%3D%20L.heatLayer%28%0A%20%20%20%20%20%20%20%20%20%20%20%20%20%20%20%20%5B%5B-23.559359%2C%20-46.666542%5D%2C%20%5B-23.599585%2C%20-46.715717%5D%2C%20%5B-23.559273%2C%20-46.666595%5D%2C%20%5B-23.425755%2C%20-46.481190000000005%5D%2C%20%5B-23.559261%2C%20-46.666509999999995%5D%2C%20%5B-23.6245%2C%20-46.701077000000005%5D%2C%20%5B-23.559233%2C%20-46.666546000000004%5D%2C%20%5B-23.559366%2C%20-46.666637%5D%2C%20%5B-23.54775%2C%20-46.644104%5D%2C%20%5B-23.559292000000003%2C%20-46.66655%5D%2C%20%5B-23.567545000000003%2C%20-46.66403%5D%2C%20%5B-23.559343%2C%20-46.666496%5D%2C%20%5B-23.566214000000002%2C%20-46.675385%5D%2C%20%5B-23.56196%2C%20-46.658190000000005%5D%2C%20%5B-23.624607%2C%20-46.701088%5D%2C%20%5B-23.55949%2C%20-46.66645%5D%2C%20%5B-23.624554%2C%20-46.701042%5D%2C%20%5B-23.5593595%2C%20-46.6665002%5D%2C%20%5B-23.624549899999998%2C%20-46.7011459%5D%2C%20%5B-23.6245747%2C%20-46.701121%5D%2C%20%5B-23.5594793%2C%20-46.6664565%5D%2C%20%5B-23.6247021%2C%20-46.7009501%5D%2C%20%5B-23.624489699999998%2C%20-46.7009874%5D%2C%20%5B-23.6249448%2C%20-46.701319399999996%5D%2C%20%5B-23.5593722%2C%20-46.6664251%5D%2C%20%5B-23.624910600000003%2C%20-46.7006571%5D%2C%20%5B-23.559562399999997%2C%20-46.6665394%5D%2C%20%5B-23.6245325%2C%20-46.7010044%5D%2C%20%5B-23.6245682%2C%20-46.7009553%5D%2C%20%5B-23.5594719%2C%20-46.66641129999999%5D%2C%20%5B-23.6246338%2C%20-46.7009416%5D%2C%20%5B-23.55945%2C%20-46.66646%5D%2C%20%5B-23.624521899999998%2C%20-46.70113610000001%5D%2C%20%5B-23.589769399999998%2C%20-46.634021399999995%5D%2C%20%5B-23.568199%2C%20-46.64810429999999%5D%2C%20%5B-23.559377899999998%2C%20-46.6664841%5D%2C%20%5B-23.6245191%2C%20-46.7010364%5D%2C%20%5B-23.624603%2C%20-46.7009155%5D%2C%20%5B-23.624540600000003%2C%20-46.7011174%5D%2C%20%5B-23.624573%2C%20-46.7009811%5D%2C%20%5B-23.554226999999997%2C%20-46.6560723%5D%2C%20%5B-23.6245017%2C%20-46.700992%5D%2C%20%5B-23.6245215%2C%20-46.701114600000004%5D%2C%20%5B-23.624533399999997%2C%20-46.7010361%5D%2C%20%5B-23.6245533%2C%20-46.700998999999996%5D%2C%20%5B-23.6245483%2C%20-46.700760700000004%5D%2C%20%5B-23.5592766%2C%20-46.666640799999996%5D%2C%20%5B-23.624563199999997%2C%20-46.701107799999996%5D%2C%20%5B-23.559292499999998%2C%20-46.6664492%5D%2C%20%5B-23.5593245%2C%20-46.666535700000004%5D%2C%20%5B-23.6245428%2C%20-46.701018299999994%5D%2C%20%5B-23.6244904%2C%20-46.70096420000001%5D%2C%20%5B-23.5593177%2C%20-46.66646970000001%5D%2C%20%5B-23.5897198%2C%20-46.6340898%5D%2C%20%5B-23.6247%2C%20-46.70114%5D%2C%20%5B-23.559347100000004%2C%20-46.6663865%5D%2C%20%5B-23.559959399999997%2C%20-46.6966915%5D%2C%20%5B-23.6236397%2C%20-46.699695500000004%5D%2C%20%5B-23.5666085%2C%20-46.679704%5D%2C%20%5B-23.6246805%2C%20-46.700688%5D%2C%20%5B-23.5595676%2C%20-46.6651815%5D%2C%20%5B-23.6245537%2C%20-46.7009911%5D%2C%20%5B-23.6246039%2C%20-46.701129200000004%5D%2C%20%5B-23.5593657%2C%20-46.6664886%5D%2C%20%5B-23.6246512%2C%20-46.7012253%5D%2C%20%5B-23.559357300000002%2C%20-46.666608399999994%5D%2C%20%5B-23.62508%2C%20-46.700829999999996%5D%2C%20%5B-23.5591479%2C%20-46.6665651%5D%2C%20%5B-23.49942%2C%20-46.83712%5D%2C%20%5B-23.5681581%2C%20-46.648213%5D%2C%20%5B-23.5513271%2C%20-46.678276700000005%5D%2C%20%5B-23.55944%2C%20-46.666470000000004%5D%2C%20%5B-23.6251984%2C%20-46.7009311%5D%2C%20%5B-23.6328069%2C%20-46.6934561%5D%2C%20%5B-23.559358%2C%20-46.6664925%5D%2C%20%5B-23.5897093%2C%20-46.63414470000001%5D%2C%20%5B-23.583881100000003%2C%20-46.6736383%5D%2C%20%5B-23.5630458%2C%20-46.672651200000004%5D%2C%20%5B-23.5593337%2C%20-46.666548799999994%5D%2C%20%5B-23.6112972%2C%20-46.57073629999999%5D%2C%20%5B-23.5898961%2C%20-46.63470770000001%5D%2C%20%5B-23.564655%2C%20-46.680374900000004%5D%2C%20%5B-23.589739399999996%2C%20-46.6339828%5D%2C%20%5B-23.5901449%2C%20-46.634857000000004%5D%2C%20%5B-23.592574399999997%2C%20-46.648550799999995%5D%2C%20%5B-23.6113086%2C%20-46.5708697%5D%2C%20%5B-23.61126%2C%20-46.57101%5D%2C%20%5B-23.611171399999996%2C%20-46.571065000000004%5D%2C%20%5B-23.611154100000004%2C%20-46.571008899999995%5D%2C%20%5B-23.5897361%2C%20-46.6342802%5D%2C%20%5B-23.5593949%2C%20-46.6665817%5D%2C%20%5B-23.5578081%2C%20-46.6817216%5D%2C%20%5B-23.6113211%2C%20-46.5707727%5D%2C%20%5B-23.611273699999998%2C%20-46.570818%5D%2C%20%5B-23.5896776%2C%20-46.633922399999996%5D%2C%20%5B-23.6114832%2C%20-46.570899%5D%2C%20%5B-23.61135%2C%20-46.57091%5D%2C%20%5B-23.6113042%2C%20-46.5708159%5D%2C%20%5B-23.6113413%2C%20-46.5707881%5D%2C%20%5B-23.611366500000003%2C%20-46.5709412%5D%2C%20%5B-23.611489600000002%2C%20-46.570840600000004%5D%2C%20%5B-23.559419100000003%2C%20-46.6663381%5D%2C%20%5B-23.5688799%2C%20-46.6610875%5D%2C%20%5B-23.611196%2C%20-46.571191%5D%2C%20%5B-23.623522199999996%2C%20-46.5656995%5D%2C%20%5B-23.61148%2C%20-46.570809999999994%5D%2C%20%5B-23.5897059%2C%20-46.6340259%5D%2C%20%5B-23.576528500000002%2C%20-46.657221%5D%2C%20%5B-23.6113663%2C%20-46.570859999999996%5D%2C%20%5B-23.6234363%2C%20-46.5657323%5D%2C%20%5B-23.6114641%2C%20-46.570791%5D%2C%20%5B-23.581313100000003%2C%20-46.680536100000005%5D%2C%20%5B-23.55931%2C%20-46.66663%5D%2C%20%5B-23.56342%2C%20-46.65128%5D%2C%20%5B-23.559365300000003%2C%20-46.6664751%5D%2C%20%5B-23.611434699999997%2C%20-46.5707262%5D%2C%20%5B-23.623587899999997%2C%20-46.5657363%5D%2C%20%5B-23.6190552%2C%20-46.565603100000004%5D%2C%20%5B-23.611284%2C%20-46.5710134%5D%2C%20%5B-23.6114657%2C%20-46.5707776%5D%2C%20%5B-23.6113924%2C%20-46.570781%5D%2C%20%5B-23.611348899999996%2C%20-46.5708553%5D%2C%20%5B-23.589699%2C%20-46.6338321%5D%2C%20%5B-23.5897046%2C%20-46.6342625%5D%2C%20%5B-23.559320800000002%2C%20-46.6665461%5D%2C%20%5B-23.499651%2C%20-46.6443482%5D%2C%20%5B-23.5897766%2C%20-46.6350174%5D%2C%20%5B-23.571854100000003%2C%20-46.6435307%5D%2C%20%5B-23.5897042%2C%20-46.6340583%5D%2C%20%5B-23.5592778%2C%20-46.66649279999999%5D%2C%20%5B-23.5897152%2C%20-46.6339973%5D%2C%20%5B-23.565479999999997%2C%20-46.666290000000004%5D%2C%20%5B-23.589733300000002%2C%20-46.6340835%5D%2C%20%5B-23.626772600000002%2C%20-46.5798585%5D%2C%20%5B-23.6114035%2C%20-46.5707249%5D%2C%20%5B-23.5897353%2C%20-46.6342724%5D%2C%20%5B-23.5691332%2C%20-46.660216299999995%5D%2C%20%5B-23.5593737%2C%20-46.6663778%5D%2C%20%5B-23.589741500000002%2C%20-46.6342876%5D%2C%20%5B-23.589710999999998%2C%20-46.6341624%5D%2C%20%5B-23.5899127%2C%20-46.63473629999999%5D%2C%20%5B-23.5552%2C%20-46.65715%5D%2C%20%5B-23.5610824%2C%20-46.6920423%5D%2C%20%5B-23.5706603%2C%20-46.693383000000004%5D%2C%20%5B-23.589797100000002%2C%20-46.634184000000005%5D%2C%20%5B-23.6113438%2C%20-46.570978000000004%5D%2C%20%5B-23.5896775%2C%20-46.6342089%5D%2C%20%5B-23.5592277%2C%20-46.663133200000004%5D%2C%20%5B-23.58854%2C%20-46.67881%5D%2C%20%5B-23.5691248%2C%20-46.6612174%5D%2C%20%5B-23.58967%2C%20-46.63399999999999%5D%2C%20%5B-23.559376399999998%2C%20-46.663188899999994%5D%2C%20%5B-23.5462117%2C%20-46.6486085%5D%2C%20%5B-23.5896768%2C%20-46.6341683%5D%2C%20%5B-23.6090984%2C%20-46.6666032%5D%2C%20%5B-23.6114817%2C%20-46.5706559%5D%2C%20%5B-23.6114035%2C%20-46.5708554%5D%2C%20%5B-23.61151%2C%20-46.57074%5D%2C%20%5B-23.5592587%2C%20-46.66303%5D%2C%20%5B-23.589722199999997%2C%20-46.6341299%5D%2C%20%5B-23.5690166%2C%20-46.661077%5D%2C%20%5B-23.5593704%2C%20-46.6632237%5D%2C%20%5B-23.536877800000003%2C%20-46.663444500000004%5D%2C%20%5B-23.6114086%2C%20-46.5707626%5D%2C%20%5B-23.5036558%2C%20-46.6370967%5D%2C%20%5B-23.513920199999998%2C%20-46.6191831%5D%2C%20%5B-23.5144517%2C%20-46.616363299999996%5D%2C%20%5B-23.5690601%2C%20-46.661112700000004%5D%2C%20%5B-23.5036539%2C%20-46.63715429999999%5D%2C%20%5B-23.5617133%2C%20-46.658159000000005%5D%2C%20%5B-23.55575%2C%20-46.655261700000004%5D%2C%20%5B-23.559364600000002%2C%20-46.6632126%5D%2C%20%5B-23.5542748%2C%20-46.6561255%5D%2C%20%5B-23.5592926%2C%20-46.6631932%5D%2C%20%5B-23.5593606%2C%20-46.6631198%5D%2C%20%5B-23.5716401%2C%20-46.688249600000006%5D%2C%20%5B-23.56023173%2C%20-46.66414962%5D%2C%20%5B-23.5033043%2C%20-46.636905%5D%2C%20%5B-23.6113175%2C%20-46.570826200000006%5D%2C%20%5B-23.5593419%2C%20-46.6632209%5D%2C%20%5B-23.5619878%2C%20-46.6582328%5D%2C%20%5B-23.6116444%2C%20-46.5705324%5D%2C%20%5B-23.558985500000002%2C%20-46.6632146%5D%2C%20%5B-23.61134745%2C%20-46.57079129%5D%2C%20%5B-23.503642499999998%2C%20-46.63718660000001%5D%2C%20%5B-23.6105865%2C%20-46.570705%5D%2C%20%5B-23.5036788%2C%20-46.637128999999995%5D%2C%20%5B-23.5037043%2C%20-46.6327645%5D%2C%20%5B-23.5621533%2C%20-46.6578083%5D%2C%20%5B-23.619060100000002%2C%20-46.5656531%5D%2C%20%5B-23.611265%2C%20-46.571259999999995%5D%2C%20%5B-23.5690588%2C%20-46.661178799999995%5D%2C%20%5B-23.503572199999997%2C%20-46.6373399%5D%2C%20%5B-23.611106699999997%2C%20-46.5710737%5D%2C%20%5B-23.503427399999996%2C%20-46.637271999999996%5D%2C%20%5B-23.5630296%2C%20-46.667031099999996%5D%2C%20%5B-23.573636399999998%2C%20-46.6556252%5D%2C%20%5B-23.597008300000002%2C%20-46.574844299999995%5D%2C%20%5B-23.5592227%2C%20-46.6632374%5D%2C%20%5B-23.5536201%2C%20-46.69422720000001%5D%2C%20%5B-23.5595104%2C%20-46.663229%5D%2C%20%5B-23.503677%2C%20-46.6368987%5D%2C%20%5B-23.55945%2C%20-46.6632417%5D%2C%20%5B-23.559251800000002%2C%20-46.6630182%5D%2C%20%5B-23.5577831%2C%20-46.689819799999995%5D%2C%20%5B-23.559431699999998%2C%20-46.663317299999996%5D%2C%20%5B-23.5867741%2C%20-46.642758%5D%2C%20%5B-23.6113574%2C%20-46.570866200000005%5D%2C%20%5B-23.503575899999998%2C%20-46.6371187%5D%2C%20%5B-23.61134558%2C%20-46.57091107%5D%2C%20%5B-23.503660999999997%2C%20-46.6371771%5D%2C%20%5B-23.611381100000003%2C%20-46.570752299999995%5D%2C%20%5B-23.6114569%2C%20-46.5707386%5D%2C%20%5B-23.5036469%2C%20-46.637156700000006%5D%2C%20%5B-23.5032638%2C%20-46.624626299999996%5D%2C%20%5B-23.559287899999998%2C%20-46.6632155%5D%2C%20%5B-23.5036424%2C%20-46.6369836%5D%2C%20%5B-23.6113486%2C%20-46.5709126%5D%2C%20%5B-23.5601571%2C%20-46.677414500000005%5D%2C%20%5B-23.6111022%2C%20-46.57182%5D%2C%20%5B-23.611241399999997%2C%20-46.570844799999996%5D%2C%20%5B-23.5693051%2C%20-46.659924600000004%5D%2C%20%5B-23.558327300000002%2C%20-46.660576299999995%5D%2C%20%5B-23.5594438%2C%20-46.6633356%5D%2C%20%5B-23.5593885%2C%20-46.6632331%5D%2C%20%5B-23.611314%2C%20-46.57088793%5D%2C%20%5B-23.559423499999998%2C%20-46.6633392%5D%2C%20%5B-23.503640899999997%2C%20-46.637310299999996%5D%2C%20%5B-23.5032905%2C%20-46.636949200000004%5D%2C%20%5B-23.503256399999998%2C%20-46.6367743%5D%2C%20%5B-23.5588653%2C%20-46.6908072%5D%2C%20%5B-23.611430300000002%2C%20-46.570859999999996%5D%2C%20%5B-23.583412300000003%2C%20-46.6704481%5D%2C%20%5B-23.5035727%2C%20-46.63709984%5D%2C%20%5B-23.6234972%2C%20-46.5657367%5D%2C%20%5B-23.5033104%2C%20-46.6368075%5D%2C%20%5B-23.561847600000004%2C%20-46.6581413%5D%2C%20%5B-23.5032674%2C%20-46.63690220000001%5D%2C%20%5B-23.503442899999996%2C%20-46.637760799999995%5D%2C%20%5B-23.5578202%2C%20-46.689901%5D%2C%20%5B-23.5019996%2C%20-46.6273084%5D%2C%20%5B-23.5032578%2C%20-46.636745899999994%5D%2C%20%5B-23.5032054%2C%20-46.6370109%5D%2C%20%5B-23.5575996%2C%20-46.6895355%5D%2C%20%5B-23.5032828%2C%20-46.6368119%5D%2C%20%5B-23.5032569%2C%20-46.6370334%5D%2C%20%5B-23.5032128%2C%20-46.6379457%5D%2C%20%5B-23.61105%2C%20-46.6948029%5D%2C%20%5B-23.6112101%2C%20-46.5710416%5D%2C%20%5B-23.6019667%2C%20-46.673638200000006%5D%2C%20%5B-23.503258300000002%2C%20-46.636860299999995%5D%2C%20%5B-23.5036192%2C%20-46.6371554%5D%2C%20%5B-23.556455399999997%2C%20-46.750291600000004%5D%2C%20%5B-23.561027600000003%2C%20-46.68262670000001%5D%2C%20%5B-23.503649399999997%2C%20-46.6371391%5D%2C%20%5B-23.5034208%2C%20-46.6368915%5D%2C%20%5B-23.503198100000002%2C%20-46.63726629999999%5D%2C%20%5B-23.5032457%2C%20-46.6366457%5D%2C%20%5B-23.6467813%2C%20-46.630431099999996%5D%2C%20%5B-23.5612468%2C%20-46.6565113%5D%2C%20%5B-23.503257%2C%20-46.637504799999995%5D%2C%20%5B-23.503255300000003%2C%20-46.637527899999995%5D%2C%20%5B-23.5032685%2C%20-46.6367701%5D%2C%20%5B-23.546632000000002%2C%20-46.60423370000001%5D%2C%20%5B-23.5954224%2C%20-46.690711900000004%5D%2C%20%5B-23.5032237%2C%20-46.637033200000005%5D%2C%20%5B-23.5025158%2C%20-46.636489700000006%5D%2C%20%5B-23.503397500000002%2C%20-46.6366088%5D%2C%20%5B-23.50243945%2C%20-46.63649619%5D%2C%20%5B-23.5032727%2C%20-46.636787%5D%2C%20%5B-23.5032013%2C%20-46.6377976%5D%2C%20%5B-23.5036221%2C%20-46.63715870000001%5D%2C%20%5B-23.6114767%2C%20-46.5707417%5D%2C%20%5B-23.503197%2C%20-46.636861100000004%5D%2C%20%5B-23.611131600000004%2C%20-46.5711237%5D%2C%20%5B-23.6234899%2C%20-46.56568239999999%5D%2C%20%5B-23.5032882%2C%20-46.6367482%5D%2C%20%5B-23.503291%2C%20-46.636849%5D%2C%20%5B-23.5032675%2C%20-46.636933899999995%5D%2C%20%5B-23.5951242%2C%20-46.691146%5D%2C%20%5B-23.5595898%2C%20-46.6890604%5D%2C%20%5B-23.503200800000002%2C%20-46.637593200000005%5D%2C%20%5B-23.5032163%2C%20-46.6377011%5D%2C%20%5B-23.432194199999998%2C%20-45.068019%5D%2C%20%5B-23.5032193%2C%20-46.637714100000004%5D%2C%20%5B-23.503550399999998%2C%20-46.6374929%5D%2C%20%5B-23.5617439%2C%20-46.657928999999996%5D%2C%20%5B-23.5036461%2C%20-46.6371739%5D%2C%20%5B-23.5039759%2C%20-46.639198%5D%2C%20%5B-23.518191899999998%2C%20-46.6766396%5D%2C%20%5B-23.5035167%2C%20-46.637355%5D%2C%20%5B-23.5036583%2C%20-46.6368817%5D%2C%20%5B-23.503672199999997%2C%20-46.6372957%5D%2C%20%5B-23.5036414%2C%20-46.6367785%5D%2C%20%5B-23.593877300000003%2C%20-46.691242700000004%5D%2C%20%5B-23.5033387%2C%20-46.63721339999999%5D%2C%20%5B-23.5033095%2C%20-46.6372907%5D%2C%20%5B-23.503363399999998%2C%20-46.6369551%5D%2C%20%5B-23.530175%2C%20-46.666265%5D%2C%20%5B-23.5036347%2C%20-46.637124%5D%2C%20%5B-23.503322%2C%20-46.6366226%5D%2C%20%5B-23.4878848%2C%20-46.5947091%5D%2C%20%5B-23.5578345%2C%20-46.689876299999995%5D%2C%20%5B-23.503591%2C%20-46.6371741%5D%2C%20%5B-23.5823728%2C%20-46.6644769%5D%2C%20%5B-23.5616819%2C%20-46.658152%5D%2C%20%5B-23.5037175%2C%20-46.6371653%5D%2C%20%5B-23.975838500000002%2C%20-46.3011899%5D%2C%20%5B-23.503256600000004%2C%20-46.6371156%5D%2C%20%5B-23.6107181%2C%20-46.5702805%5D%2C%20%5B-23.503362699999997%2C%20-46.63673%5D%2C%20%5B-23.503292000000002%2C%20-46.6372564%5D%2C%20%5B-23.5032173%2C%20-46.6376465%5D%2C%20%5B-23.503255%2C%20-46.637324299999996%5D%2C%20%5B-23.5034308%2C%20-46.636473200000005%5D%2C%20%5B-23.611361499999997%2C%20-46.570837700000006%5D%2C%20%5B-23.50326%2C%20-46.6370583%5D%2C%20%5B-23.975371600000003%2C%20-46.300870700000004%5D%2C%20%5B-23.954715300000004%2C%20-46.346224%5D%2C%20%5B-23.975798899999997%2C%20-46.301235999999996%5D%2C%20%5B-23.503258300000002%2C%20-46.6372733%5D%2C%20%5B-23.503204399999998%2C%20-46.6368571%5D%2C%20%5B-23.503307100000004%2C%20-46.6370396%5D%2C%20%5B-23.50330782%2C%20-46.63752702%5D%2C%20%5B-23.62207%2C%20-46.56985%5D%2C%20%5B-23.5032122%2C%20-46.637111%5D%2C%20%5B-23.503190300000004%2C%20-46.6368144%5D%2C%20%5B-23.5036026%2C%20-46.6373307%5D%2C%20%5B-23.480531699999997%2C%20-46.6064783%5D%2C%20%5B-23.503313199999997%2C%20-46.6366607%5D%2C%20%5B-23.5157182%2C%20-46.619488%5D%2C%20%5B-23.503614000000002%2C%20-46.637297700000005%5D%2C%20%5B-23.5032991%2C%20-46.6371265%5D%2C%20%5B-23.503618%2C%20-46.637300700000004%5D%2C%20%5B-23.60177075%2C%20-46.67760154%5D%2C%20%5B-23.5032867%2C%20-46.6366951%5D%2C%20%5B-23.5032866%2C%20-46.6368266%5D%2C%20%5B-23.50329369%2C%20-46.6367841%5D%2C%20%5B-23.58443324%2C%20-46.60516321%5D%2C%20%5B-23.503291600000004%2C%20-46.6371331%5D%2C%20%5B-23.5033033%2C%20-46.636945000000004%5D%2C%20%5B-23.5036273%2C%20-46.6368185%5D%2C%20%5B-23.503277999999998%2C%20-46.63684979999999%5D%2C%20%5B-23.5033267%2C%20-46.6367883%5D%2C%20%5B-23.503308399999998%2C%20-46.637316299999995%5D%2C%20%5B-23.503295899999998%2C%20-46.63728270000001%5D%2C%20%5B-23.503284100000002%2C%20-46.6373566%5D%2C%20%5B-23.5031%2C%20-46.63692%5D%2C%20%5B-23.503335%2C%20-46.636675%5D%2C%20%5B-23.5032604%2C%20-46.636760100000004%5D%2C%20%5B-23.610817800000003%2C%20-46.5702857%5D%2C%20%5B-23.503289000000002%2C%20-46.636919899999995%5D%2C%20%5B-23.6111832%2C%20-46.5706626%5D%2C%20%5B-23.503284899999997%2C%20-46.637382200000005%5D%2C%20%5B-23.6115179%2C%20-46.570634399999996%5D%2C%20%5B-23.503245800000002%2C%20-46.636760200000005%5D%2C%20%5B-23.5032714%2C%20-46.6376718%5D%2C%20%5B-23.6220504%2C%20-46.5701294%5D%2C%20%5B-23.5036595%2C%20-46.6368117%5D%2C%20%5B-23.6113573%2C%20-46.570728700000004%5D%2C%20%5B-23.5047575%2C%20-46.628152%5D%2C%20%5B-23.50331184%2C%20-46.63734066%5D%2C%20%5B-23.6037844%2C%20-46.6446635%5D%2C%20%5B-23.6112857%2C%20-46.570795600000004%5D%2C%20%5B-23.503144%2C%20-46.6368201%5D%2C%20%5B-23.503297600000003%2C%20-46.635071999999994%5D%2C%20%5B-23.6114053%2C%20-46.6679377%5D%2C%20%5B-23.5032706%2C%20-46.6368144%5D%2C%20%5B-23.503453699999998%2C%20-46.6381879%5D%2C%20%5B-23.5032248%2C%20-46.6369166%5D%2C%20%5B-23.5032941%2C%20-46.636939500000004%5D%2C%20%5B-23.503383300000003%2C%20-46.63302%5D%2C%20%5B-23.503285%2C%20-46.6379517%5D%2C%20%5B-23.503304999999997%2C%20-46.6368483%5D%2C%20%5B-23.5585955%2C%20-46.6599003%5D%2C%20%5B-23.5033176%2C%20-46.6369607%5D%2C%20%5B-23.503308399999998%2C%20-46.6370028%5D%2C%20%5B-23.611780800000002%2C%20-46.5695641%5D%2C%20%5B-23.6028056%2C%20-46.6743477%5D%2C%20%5B-23.611415899999997%2C%20-46.570721%5D%2C%20%5B-23.6110598%2C%20-46.5710098%5D%2C%20%5B-23.61111%2C%20-46.57121%5D%2C%20%5B-23.61129%2C%20-46.5710217%5D%2C%20%5B-23.61133%2C%20-46.57136%5D%2C%20%5B-23.6114714%2C%20-46.570674100000005%5D%2C%20%5B-23.611185199999998%2C%20-46.5710471%5D%2C%20%5B-23.6114917%2C%20-46.570634999999996%5D%2C%20%5B-23.611147600000002%2C%20-46.571028000000005%5D%2C%20%5B-23.611147600000002%2C%20-46.5709583%5D%2C%20%5B-23.6111639%2C%20-46.5708754%5D%2C%20%5B-23.6113337%2C%20-46.570764600000004%5D%2C%20%5B-23.611252899999997%2C%20-46.57102379999999%5D%2C%20%5B-23.611598899999997%2C%20-46.570663700000004%5D%2C%20%5B-23.6112042%2C%20-46.571067299999996%5D%2C%20%5B-23.6113167%2C%20-46.5708367%5D%2C%20%5B-23.6111309%2C%20-46.5712652%5D%2C%20%5B-23.6110929%2C%20-46.5711355%5D%2C%20%5B-23.6111595%2C%20-46.571014%5D%2C%20%5B-23.6026476%2C%20-46.6453556%5D%2C%20%5B-23.611140399999996%2C%20-46.5712019%5D%2C%20%5B-23.6027646%2C%20-46.645182299999995%5D%2C%20%5B-23.565888%2C%20-46.6846089%5D%2C%20%5B-23.611128100000002%2C%20-46.5708975%5D%2C%20%5B-23.6111639%2C%20-46.5710143%5D%2C%20%5B-23.610940499999998%2C%20-46.570815100000004%5D%2C%20%5B-23.611096300000003%2C%20-46.57110479999999%5D%2C%20%5B-23.611162399999998%2C%20-46.5710234%5D%2C%20%5B-23.611147199999998%2C%20-46.5712045%5D%2C%20%5B-23.6110169%2C%20-46.5711359%5D%2C%20%5B-23.6111973%2C%20-46.5710136%5D%2C%20%5B-23.6025022%2C%20-46.6450023%5D%2C%20%5B-23.6111199%2C%20-46.571062899999994%5D%2C%20%5B-23.6112753%2C%20-46.5708652%5D%2C%20%5B-23.611356699999998%2C%20-46.57090170000001%5D%2C%20%5B-23.6110715%2C%20-46.5709414%5D%2C%20%5B-23.5976648%2C%20-46.6235027%5D%2C%20%5B-23.61124989%2C%20-46.57104947%5D%2C%20%5B-23.5740178%2C%20-46.69618320000001%5D%2C%20%5B-23.593481399999998%2C%20-46.6527237%5D%2C%20%5B-23.620590600000003%2C%20-46.6622467%5D%2C%20%5B-23.6027117%2C%20-46.6453367%5D%2C%20%5B-23.6110017%2C%20-46.5711467%5D%2C%20%5B-23.611186399999998%2C%20-46.571051399999995%5D%2C%20%5B-23.602951100000002%2C%20-46.645261%5D%2C%20%5B-23.6111339%2C%20-46.5717526%5D%2C%20%5B-23.6112239%2C%20-46.57100560000001%5D%2C%20%5B-23.6108462%2C%20-46.571473600000004%5D%2C%20%5B-23.6026436%2C%20-46.645322%5D%2C%20%5B-23.61320343%2C%20-46.57176448%5D%2C%20%5B-23.6112543%2C%20-46.5708784%5D%2C%20%5B-23.6111272%2C%20-46.570994899999995%5D%2C%20%5B-23.61118154%2C%20-46.57110295%5D%2C%20%5B-22.903056699999997%2C%20-43.1346819%5D%2C%20%5B-22.902098199999998%2C%20-43.114359%5D%2C%20%5B-23.602656399999997%2C%20-46.645094799999995%5D%2C%20%5B-23.60262936%2C%20-46.64534986%5D%2C%20%5B-23.6026706%2C%20-46.6650192%5D%2C%20%5B-23.6110216%2C%20-46.571107%5D%2C%20%5B-23.6135612%2C%20-46.576379700000004%5D%2C%20%5B-23.6026544%2C%20-46.64535720000001%5D%2C%20%5B-23.6160678%2C%20-46.665921999999995%5D%2C%20%5B-23.602760399999998%2C%20-46.6448974%5D%2C%20%5B-23.6027366%2C%20-46.6453516%5D%2C%20%5B-23.5695488%2C%20-46.672412200000004%5D%5D%2C%0A%20%20%20%20%20%20%20%20%20%20%20%20%20%20%20%20%7B%0A%20%20%20%20%20%20%20%20%20%20%20%20%20%20%20%20%20%20%20%20minOpacity%3A%200.5%2C%0A%20%20%20%20%20%20%20%20%20%20%20%20%20%20%20%20%20%20%20%20maxZoom%3A%2018%2C%0A%20%20%20%20%20%20%20%20%20%20%20%20%20%20%20%20%20%20%20%20max%3A%201.0%2C%0A%20%20%20%20%20%20%20%20%20%20%20%20%20%20%20%20%20%20%20%20radius%3A%2025%2C%0A%20%20%20%20%20%20%20%20%20%20%20%20%20%20%20%20%20%20%20%20blur%3A%2015%2C%0A%20%20%20%20%20%20%20%20%20%20%20%20%20%20%20%20%20%20%20%20gradient%3A%20null%0A%20%20%20%20%20%20%20%20%20%20%20%20%20%20%20%20%20%20%20%20%7D%29%0A%20%20%20%20%20%20%20%20%20%20%20%20%20%20%20%20.addTo%28map_aa11267e183d4551ab2169f966be4f16%29%3B%0A%20%20%20%20%20%20%20%20%0A%3C/script%3E onload=\"this.contentDocument.open();this.contentDocument.write(    decodeURIComponent(this.getAttribute('data-html')));this.contentDocument.close();\" allowfullscreen webkitallowfullscreen mozallowfullscreen></iframe></div></div>"
            ],
            "text/plain": [
              "<folium.folium.Map at 0x7f5612b0f910>"
            ]
          },
          "metadata": {},
          "execution_count": 94
        }
      ]
    },
    {
      "cell_type": "markdown",
      "metadata": {
        "id": "ausPKy-bdaJ6"
      },
      "source": [
        "###**What product type is usually chosen?**\n",
        "\n",
        "**UberX** is far the prefered product type with a frequency of **90.3%**. So I could say I am the type of user which usually looks for **affordable prices**."
      ]
    },
    {
      "cell_type": "code",
      "metadata": {
        "colab": {
          "base_uri": "https://localhost:8080/",
          "height": 354
        },
        "id": "OKg7fQp-63X9",
        "outputId": "bffe9eff-e908-4c27-a57a-45cf0c9039bf"
      },
      "source": [
        "\n",
        "pt_rides = pd.Series(completed_rides.product_type.value_counts().sort_index(ascending=False))\n",
        "\n",
        "df = pd.DataFrame(pt_rides)\n",
        "\n",
        "df['%'] = (completed_rides.product_type.value_counts().sort_index(ascending=False)/completed_rides.product_type.size*100).round(1)\n",
        "\n",
        "df.rename(columns={'product_type':'Total Rides'}, inplace=True)\n",
        "print(df)\n",
        "\n",
        "completed_rides['product_type'].value_counts().plot(kind='bar');"
      ],
      "execution_count": null,
      "outputs": [
        {
          "output_type": "stream",
          "name": "stdout",
          "text": [
            "       Total Rides     %\n",
            "UberX          401  90.3\n",
            "Pool            39   8.8\n",
            "Black            4   0.9\n"
          ]
        },
        {
          "output_type": "display_data",
          "data": {
            "image/png": "[encoded data removed]",
            "text/plain": [
              "<Figure size 432x288 with 1 Axes>"
            ]
          },
          "metadata": {
            "needs_background": "light"
          }
        }
      ]
    },
    {
      "cell_type": "code",
      "metadata": {
        "colab": {
          "base_uri": "https://localhost:8080/",
          "height": 257
        },
        "id": "gKzBZgJ6fjHl",
        "outputId": "82015d4a-f3c3-4d16-9846-2ff808222d62"
      },
      "source": [
        "completed_rides['product_type'].value_counts().plot(kind='pie',autopct='%1.1f%%',startangle=275,explode = [0.1,0.1,0.2]);"
      ],
      "execution_count": null,
      "outputs": [
        {
          "output_type": "display_data",
          "data": {
            "image/png": "[encoded data removed]",
            "text/plain": [
              "<Figure size 432x288 with 1 Axes>"
            ]
          },
          "metadata": {}
        }
      ]
    },
    {
      "cell_type": "markdown",
      "metadata": {
        "id": "j9j6AXb9ddRK"
      },
      "source": [
        "###**How much is the average fare and how much is payed by km traveled?**\n",
        "Considering all trips, the average amount spent by trip is **19.2 BRL**, ridding in approx. **8.1 km**. So, if we do a quick simulation on **how much I would spend in a year** to do daily round trips we would have: ```365 days * 2 trips * 19.2 BRL/fare = 14,016 BRL/year```"
      ]
    },
    {
      "cell_type": "code",
      "metadata": {
        "colab": {
          "base_uri": "https://localhost:8080/"
        },
        "id": "4GOswE2F63yF",
        "outputId": "da959a89-f250-4e18-d153-444582520964"
      },
      "source": [
        "print('Avg. fare:', round(completed_rides.fare_amount.mean(),1),'BRL')\n",
        "print('Avg. distance:',round(completed_rides.distance_km.mean(),1),'km')\n",
        "print('Avg. fare/km:',round(completed_rides.fare_amount.sum()/completed_rides.distance_km.sum(),1),'BRL/km')\n",
        "print('Avg. time spent on trips:',round(completed_rides.trip_duration.mean(),1),'minutes')\n",
        "print('')\n",
        "print('Total fare amount:', round(completed_rides.fare_amount.sum(),1),'BRL')\n",
        "print('Total distance:',round(completed_rides.distance_km.sum(),1),'km')\n",
        "print('Total time spent on trips:',round(completed_rides.trip_duration.sum()/60,1),'hours')"
      ],
      "execution_count": null,
      "outputs": [
        {
          "output_type": "stream",
          "name": "stdout",
          "text": [
            "Avg. fare: 19.2 BRL\n",
            "Avg. distance: 8.1 km\n",
            "Avg. fare/km: 2.4 BRL/km\n",
            "Avg. time spent on trips: 21.4 minutes\n",
            "\n",
            "Total fare amount: 8532.8 BRL\n",
            "Total distance: 3575.0 km\n",
            "Total time spent on trips: 158.4 hours\n"
          ]
        }
      ]
    },
    {
      "cell_type": "markdown",
      "metadata": {
        "id": "nD_nhL5xdgPf"
      },
      "source": [
        "###**Which weekdays have the highest average fares?**\n",
        "According to the chart below, we can see that **Fridays** and **Sundays** were (in average) the **most expensive weekdays**, however we clearly noticed that **Sunday has the higher price elasticity**, described by black line. This interesting fact, could led us to infer that users look for **more convenience on Sundays**, as well as be the day with **higher profitability for Uber and its drivers**."
      ]
    },
    {
      "cell_type": "code",
      "metadata": {
        "colab": {
          "base_uri": "https://localhost:8080/",
          "height": 265
        },
        "id": "8w0Ebuzgjv1Y",
        "outputId": "5b7f979d-aeef-4e2c-f03a-1080d36a60b6"
      },
      "source": [
        "table= completed_rides.pivot_table(values='amount_km',columns='weekday',aggfunc='mean', index='year').round(1)\n",
        "column_order = ['Mon','Tue','Wed','Thu','Fri','Sat','Sun']\n",
        "table = table.reindex(column_order, axis=1)\n",
        "table"
      ],
      "execution_count": null,
      "outputs": [
        {
          "output_type": "execute_result",
          "data": {
            "text/html": [
              "<div>\n",
              "<style scoped>\n",
              "    .dataframe tbody tr th:only-of-type {\n",
              "        vertical-align: middle;\n",
              "    }\n",
              "\n",
              "    .dataframe tbody tr th {\n",
              "        vertical-align: top;\n",
              "    }\n",
              "\n",
              "    .dataframe thead th {\n",
              "        text-align: right;\n",
              "    }\n",
              "</style>\n",
              "<table border=\"1\" class=\"dataframe\">\n",
              "  <thead>\n",
              "    <tr style=\"text-align: right;\">\n",
              "      <th>weekday</th>\n",
              "      <th>Mon</th>\n",
              "      <th>Tue</th>\n",
              "      <th>Wed</th>\n",
              "      <th>Thu</th>\n",
              "      <th>Fri</th>\n",
              "      <th>Sat</th>\n",
              "      <th>Sun</th>\n",
              "    </tr>\n",
              "    <tr>\n",
              "      <th>year</th>\n",
              "      <th></th>\n",
              "      <th></th>\n",
              "      <th></th>\n",
              "      <th></th>\n",
              "      <th></th>\n",
              "      <th></th>\n",
              "      <th></th>\n",
              "    </tr>\n",
              "  </thead>\n",
              "  <tbody>\n",
              "    <tr>\n",
              "      <th>2016</th>\n",
              "      <td>NaN</td>\n",
              "      <td>NaN</td>\n",
              "      <td>2.8</td>\n",
              "      <td>2.4</td>\n",
              "      <td>NaN</td>\n",
              "      <td>2.1</td>\n",
              "      <td>2.9</td>\n",
              "    </tr>\n",
              "    <tr>\n",
              "      <th>2017</th>\n",
              "      <td>3.2</td>\n",
              "      <td>2.7</td>\n",
              "      <td>2.8</td>\n",
              "      <td>3.1</td>\n",
              "      <td>3.7</td>\n",
              "      <td>3.3</td>\n",
              "      <td>3.1</td>\n",
              "    </tr>\n",
              "    <tr>\n",
              "      <th>2018</th>\n",
              "      <td>3.4</td>\n",
              "      <td>2.6</td>\n",
              "      <td>3.4</td>\n",
              "      <td>2.7</td>\n",
              "      <td>2.9</td>\n",
              "      <td>3.2</td>\n",
              "      <td>5.1</td>\n",
              "    </tr>\n",
              "    <tr>\n",
              "      <th>2019</th>\n",
              "      <td>2.8</td>\n",
              "      <td>2.7</td>\n",
              "      <td>2.6</td>\n",
              "      <td>3.5</td>\n",
              "      <td>3.8</td>\n",
              "      <td>2.6</td>\n",
              "      <td>2.8</td>\n",
              "    </tr>\n",
              "    <tr>\n",
              "      <th>2020</th>\n",
              "      <td>2.8</td>\n",
              "      <td>2.4</td>\n",
              "      <td>2.7</td>\n",
              "      <td>2.7</td>\n",
              "      <td>3.0</td>\n",
              "      <td>3.2</td>\n",
              "      <td>2.8</td>\n",
              "    </tr>\n",
              "    <tr>\n",
              "      <th>2021</th>\n",
              "      <td>NaN</td>\n",
              "      <td>NaN</td>\n",
              "      <td>3.1</td>\n",
              "      <td>NaN</td>\n",
              "      <td>NaN</td>\n",
              "      <td>NaN</td>\n",
              "      <td>3.6</td>\n",
              "    </tr>\n",
              "  </tbody>\n",
              "</table>\n",
              "</div>"
            ],
            "text/plain": [
              "weekday  Mon  Tue  Wed  Thu  Fri  Sat  Sun\n",
              "year                                      \n",
              "2016     NaN  NaN  2.8  2.4  NaN  2.1  2.9\n",
              "2017     3.2  2.7  2.8  3.1  3.7  3.3  3.1\n",
              "2018     3.4  2.6  3.4  2.7  2.9  3.2  5.1\n",
              "2019     2.8  2.7  2.6  3.5  3.8  2.6  2.8\n",
              "2020     2.8  2.4  2.7  2.7  3.0  3.2  2.8\n",
              "2021     NaN  NaN  3.1  NaN  NaN  NaN  3.6"
            ]
          },
          "metadata": {},
          "execution_count": 98
        }
      ]
    },
    {
      "cell_type": "markdown",
      "metadata": {
        "id": "o3Wv_tZNdjvl"
      },
      "source": [
        "###**Which was the longest/shortest and more expensive/cheaper ride?**\n"
      ]
    },
    {
      "cell_type": "markdown",
      "metadata": {
        "id": "KH0W_NdP2sAv"
      },
      "source": [
        "The table below show records with the **longest (31.77 km)** and **shortest rides (0.24 km)**. "
      ]
    },
    {
      "cell_type": "code",
      "metadata": {
        "colab": {
          "base_uri": "https://localhost:8080/",
          "height": 164
        },
        "id": "KaOFsZ28oZd6",
        "outputId": "7a9d4224-d333-4edc-9df7-db5ed0106ca5"
      },
      "source": [
        "rides_distance = completed_rides[completed_rides.distance_km==completed_rides.distance_km.max()]\n",
        "rides_distance = rides_distance.append(completed_rides[completed_rides.distance_km==completed_rides.distance_km.min()])\n",
        "rides_distance"
      ],
      "execution_count": null,
      "outputs": [
        {
          "output_type": "execute_result",
          "data": {
            "text/html": [
              "<div>\n",
              "<style scoped>\n",
              "    .dataframe tbody tr th:only-of-type {\n",
              "        vertical-align: middle;\n",
              "    }\n",
              "\n",
              "    .dataframe tbody tr th {\n",
              "        vertical-align: top;\n",
              "    }\n",
              "\n",
              "    .dataframe thead th {\n",
              "        text-align: right;\n",
              "    }\n",
              "</style>\n",
              "<table border=\"1\" class=\"dataframe\">\n",
              "  <thead>\n",
              "    <tr style=\"text-align: right;\">\n",
              "      <th></th>\n",
              "      <th>city</th>\n",
              "      <th>product_type</th>\n",
              "      <th>status</th>\n",
              "      <th>request_time</th>\n",
              "      <th>begin_time</th>\n",
              "      <th>begin_lat</th>\n",
              "      <th>begin_lng</th>\n",
              "      <th>dropoff_time</th>\n",
              "      <th>dropoff_lat</th>\n",
              "      <th>dropoff_lng</th>\n",
              "      <th>distance_miles</th>\n",
              "      <th>fare_amount</th>\n",
              "      <th>year</th>\n",
              "      <th>month</th>\n",
              "      <th>weekday</th>\n",
              "      <th>time</th>\n",
              "      <th>distance_km</th>\n",
              "      <th>amount_km</th>\n",
              "      <th>request_lead_time</th>\n",
              "      <th>trip_duration</th>\n",
              "    </tr>\n",
              "  </thead>\n",
              "  <tbody>\n",
              "    <tr>\n",
              "      <th>3</th>\n",
              "      <td>458</td>\n",
              "      <td>UberX</td>\n",
              "      <td>COMPLETED</td>\n",
              "      <td>2020-12-11 23:16:33</td>\n",
              "      <td>2020-12-11 23:27:32</td>\n",
              "      <td>-23.559410</td>\n",
              "      <td>-46.666435</td>\n",
              "      <td>2020-12-12 00:32:47</td>\n",
              "      <td>-23.425755</td>\n",
              "      <td>-46.481190</td>\n",
              "      <td>19.74</td>\n",
              "      <td>58.77</td>\n",
              "      <td>2020</td>\n",
              "      <td>Dec</td>\n",
              "      <td>Fri</td>\n",
              "      <td>23:16</td>\n",
              "      <td>31.77</td>\n",
              "      <td>1.85</td>\n",
              "      <td>11.0</td>\n",
              "      <td>65.2</td>\n",
              "    </tr>\n",
              "    <tr>\n",
              "      <th>305</th>\n",
              "      <td>458</td>\n",
              "      <td>UberX</td>\n",
              "      <td>COMPLETED</td>\n",
              "      <td>2018-04-15 23:18:40</td>\n",
              "      <td>2018-04-15 23:27:42</td>\n",
              "      <td>-23.502636</td>\n",
              "      <td>-46.624952</td>\n",
              "      <td>2018-04-15 23:34:17</td>\n",
              "      <td>-23.503310</td>\n",
              "      <td>-46.636808</td>\n",
              "      <td>0.15</td>\n",
              "      <td>11.27</td>\n",
              "      <td>2018</td>\n",
              "      <td>Apr</td>\n",
              "      <td>Sun</td>\n",
              "      <td>23:18</td>\n",
              "      <td>0.24</td>\n",
              "      <td>46.96</td>\n",
              "      <td>9.0</td>\n",
              "      <td>6.6</td>\n",
              "    </tr>\n",
              "  </tbody>\n",
              "</table>\n",
              "</div>"
            ],
            "text/plain": [
              "     city product_type     status  ... amount_km request_lead_time  trip_duration\n",
              "3     458        UberX  COMPLETED  ...      1.85              11.0           65.2\n",
              "305   458        UberX  COMPLETED  ...     46.96               9.0            6.6\n",
              "\n",
              "[2 rows x 20 columns]"
            ]
          },
          "metadata": {},
          "execution_count": 99
        }
      ]
    },
    {
      "cell_type": "markdown",
      "metadata": {
        "id": "YNWRM6wk3CsF"
      },
      "source": [
        "Analysing amount paid by km ridden we have: **expensive (46.96 BRL/km)** and **cheaper (0 BRL/km)**. Cheaper trip certainly refers to a free ride, while the expensive cost 46.96 BRL. This effect is basicaly driven by **fixed minimum fare in high demand periods**, since the total distance was only 0.24km."
      ]
    },
    {
      "cell_type": "code",
      "metadata": {
        "colab": {
          "base_uri": "https://localhost:8080/",
          "height": 164
        },
        "id": "AT5wli-wvC1K",
        "outputId": "91b92383-3b4b-47d0-f61a-cceb08251c25"
      },
      "source": [
        "rides_amount_km = completed_rides[completed_rides.amount_km==completed_rides.amount_km.max()]\n",
        "rides_amount_km = rides_amount_km.append(completed_rides[completed_rides.amount_km==completed_rides.amount_km.min()])\n",
        "rides_amount_km"
      ],
      "execution_count": null,
      "outputs": [
        {
          "output_type": "execute_result",
          "data": {
            "text/html": [
              "<div>\n",
              "<style scoped>\n",
              "    .dataframe tbody tr th:only-of-type {\n",
              "        vertical-align: middle;\n",
              "    }\n",
              "\n",
              "    .dataframe tbody tr th {\n",
              "        vertical-align: top;\n",
              "    }\n",
              "\n",
              "    .dataframe thead th {\n",
              "        text-align: right;\n",
              "    }\n",
              "</style>\n",
              "<table border=\"1\" class=\"dataframe\">\n",
              "  <thead>\n",
              "    <tr style=\"text-align: right;\">\n",
              "      <th></th>\n",
              "      <th>city</th>\n",
              "      <th>product_type</th>\n",
              "      <th>status</th>\n",
              "      <th>request_time</th>\n",
              "      <th>begin_time</th>\n",
              "      <th>begin_lat</th>\n",
              "      <th>begin_lng</th>\n",
              "      <th>dropoff_time</th>\n",
              "      <th>dropoff_lat</th>\n",
              "      <th>dropoff_lng</th>\n",
              "      <th>distance_miles</th>\n",
              "      <th>fare_amount</th>\n",
              "      <th>year</th>\n",
              "      <th>month</th>\n",
              "      <th>weekday</th>\n",
              "      <th>time</th>\n",
              "      <th>distance_km</th>\n",
              "      <th>amount_km</th>\n",
              "      <th>request_lead_time</th>\n",
              "      <th>trip_duration</th>\n",
              "    </tr>\n",
              "  </thead>\n",
              "  <tbody>\n",
              "    <tr>\n",
              "      <th>305</th>\n",
              "      <td>458</td>\n",
              "      <td>UberX</td>\n",
              "      <td>COMPLETED</td>\n",
              "      <td>2018-04-15 23:18:40</td>\n",
              "      <td>2018-04-15 23:27:42</td>\n",
              "      <td>-23.502636</td>\n",
              "      <td>-46.624952</td>\n",
              "      <td>2018-04-15 23:34:17</td>\n",
              "      <td>-23.503310</td>\n",
              "      <td>-46.636808</td>\n",
              "      <td>0.15</td>\n",
              "      <td>11.27</td>\n",
              "      <td>2018</td>\n",
              "      <td>Apr</td>\n",
              "      <td>Sun</td>\n",
              "      <td>23:18</td>\n",
              "      <td>0.24</td>\n",
              "      <td>46.96</td>\n",
              "      <td>9.0</td>\n",
              "      <td>6.6</td>\n",
              "    </tr>\n",
              "    <tr>\n",
              "      <th>87</th>\n",
              "      <td>458</td>\n",
              "      <td>UberX</td>\n",
              "      <td>COMPLETED</td>\n",
              "      <td>2019-11-30 03:34:56</td>\n",
              "      <td>2019-11-30 03:40:37</td>\n",
              "      <td>-23.591813</td>\n",
              "      <td>-46.690720</td>\n",
              "      <td>2019-11-30 03:53:24</td>\n",
              "      <td>-23.559366</td>\n",
              "      <td>-46.666489</td>\n",
              "      <td>3.54</td>\n",
              "      <td>0.00</td>\n",
              "      <td>2019</td>\n",
              "      <td>Nov</td>\n",
              "      <td>Sat</td>\n",
              "      <td>03:34</td>\n",
              "      <td>5.70</td>\n",
              "      <td>0.00</td>\n",
              "      <td>5.7</td>\n",
              "      <td>12.8</td>\n",
              "    </tr>\n",
              "  </tbody>\n",
              "</table>\n",
              "</div>"
            ],
            "text/plain": [
              "     city product_type     status  ... amount_km request_lead_time  trip_duration\n",
              "305   458        UberX  COMPLETED  ...     46.96               9.0            6.6\n",
              "87    458        UberX  COMPLETED  ...      0.00               5.7           12.8\n",
              "\n",
              "[2 rows x 20 columns]"
            ]
          },
          "metadata": {},
          "execution_count": 100
        }
      ]
    },
    {
      "cell_type": "markdown",
      "metadata": {
        "id": "x6CAq0oAdpha"
      },
      "source": [
        "###**What is the average lead time before begining a trip?**\n",
        "\n",
        "It takes **approximately 5 minutes** to start trips, after they are requested."
      ]
    },
    {
      "cell_type": "code",
      "metadata": {
        "colab": {
          "base_uri": "https://localhost:8080/"
        },
        "id": "YzSaj6Od68Bs",
        "outputId": "eca87a19-602b-4b30-e011-d56006df916c"
      },
      "source": [
        "print(round(completed_rides.request_lead_time.mean(),1),'minutes')"
      ],
      "execution_count": null,
      "outputs": [
        {
          "output_type": "stream",
          "name": "stdout",
          "text": [
            "4.9 minutes\n"
          ]
        }
      ]
    },
    {
      "cell_type": "markdown",
      "metadata": {
        "id": "RBFP7pABzde2"
      },
      "source": [
        "##**Conclusion**\n"
      ]
    },
    {
      "cell_type": "markdown",
      "metadata": {
        "id": "r5b2DnmqftbO"
      },
      "source": [
        "\n",
        "So, in this we have preprocessed the dataset, visulized the dataset and made required EDA for the given dataset."
      ]
    }
  ]
}